{
  "cells": [
    {
      "cell_type": "markdown",
      "metadata": {
        "id": "view-in-github",
        "colab_type": "text"
      },
      "source": [
        "<a href=\"https://colab.research.google.com/github/bhattacharya5/SpeechUnderstanding/blob/Assignment2/M21AIE211_Assignment2.ipynb\" target=\"_parent\"><img src=\"https://colab.research.google.com/assets/colab-badge.svg\" alt=\"Open In Colab\"/></a>"
      ]
    },
    {
      "cell_type": "markdown",
      "metadata": {
        "id": "weWVwhHu8goN"
      },
      "source": [
        "# Question 1"
      ]
    },
    {
      "cell_type": "markdown",
      "metadata": {
        "id": "2B6j8eKyOIh1"
      },
      "source": [
        "## github repo try"
      ]
    },
    {
      "cell_type": "code",
      "execution_count": null,
      "metadata": {
        "colab": {
          "base_uri": "https://localhost:8080/"
        },
        "id": "bEuz_0mjoUfF",
        "outputId": "1661d852-a16e-4af6-db94-e2b817d5f78b"
      },
      "outputs": [
        {
          "name": "stdout",
          "output_type": "stream",
          "text": [
            "Mounted at /content/drive\n"
          ]
        }
      ],
      "source": [
        "from google.colab import drive\n",
        "drive.mount('/content/drive')\n"
      ]
    },
    {
      "cell_type": "code",
      "execution_count": null,
      "metadata": {
        "colab": {
          "base_uri": "https://localhost:8080/"
        },
        "id": "dGTnQH-UEduG",
        "outputId": "ae563cfb-84c2-490f-a874-cdcbff938da8"
      },
      "outputs": [
        {
          "name": "stdout",
          "output_type": "stream",
          "text": [
            "Cloning into 'UniSpeech'...\n",
            "remote: Enumerating objects: 1405, done.\u001b[K\n",
            "remote: Counting objects: 100% (52/52), done.\u001b[K\n",
            "remote: Compressing objects: 100% (49/49), done.\u001b[K\n",
            "remote: Total 1405 (delta 29), reused 6 (delta 3), pack-reused 1353\u001b[K\n",
            "Receiving objects: 100% (1405/1405), 74.12 MiB | 16.66 MiB/s, done.\n",
            "Resolving deltas: 100% (589/589), done.\n",
            "Updating files: 100% (433/433), done.\n"
          ]
        }
      ],
      "source": [
        "!git clone https://github.com/microsoft/UniSpeech.git"
      ]
    },
    {
      "cell_type": "code",
      "execution_count": null,
      "metadata": {
        "colab": {
          "base_uri": "https://localhost:8080/"
        },
        "id": "Pt34zJgRovNT",
        "outputId": "6144c1a6-7884-41d1-b969-065f47045c2c"
      },
      "outputs": [
        {
          "name": "stdout",
          "output_type": "stream",
          "text": [
            "Collecting fairseq\n",
            "  Downloading fairseq-0.12.2.tar.gz (9.6 MB)\n",
            "\u001b[2K     \u001b[90m━━━━━━━━━━━━━━━━━━━━━━━━━━━━━━━━━━━━━━━━\u001b[0m \u001b[32m9.6/9.6 MB\u001b[0m \u001b[31m24.2 MB/s\u001b[0m eta \u001b[36m0:00:00\u001b[0m\n",
            "\u001b[?25h  Installing build dependencies ... \u001b[?25l\u001b[?25hdone\n",
            "  Getting requirements to build wheel ... \u001b[?25l\u001b[?25hdone\n",
            "  Installing backend dependencies ... \u001b[?25l\u001b[?25hdone\n",
            "  Preparing metadata (pyproject.toml) ... \u001b[?25l\u001b[?25hdone\n",
            "Requirement already satisfied: cffi in /usr/local/lib/python3.10/dist-packages (from fairseq) (1.16.0)\n",
            "Requirement already satisfied: cython in /usr/local/lib/python3.10/dist-packages (from fairseq) (3.0.10)\n",
            "Collecting hydra-core<1.1,>=1.0.7 (from fairseq)\n",
            "  Downloading hydra_core-1.0.7-py3-none-any.whl (123 kB)\n",
            "\u001b[2K     \u001b[90m━━━━━━━━━━━━━━━━━━━━━━━━━━━━━━━━━━━━━━━━\u001b[0m \u001b[32m123.8/123.8 kB\u001b[0m \u001b[31m14.9 MB/s\u001b[0m eta \u001b[36m0:00:00\u001b[0m\n",
            "\u001b[?25hCollecting omegaconf<2.1 (from fairseq)\n",
            "  Downloading omegaconf-2.0.6-py3-none-any.whl (36 kB)\n",
            "Requirement already satisfied: regex in /usr/local/lib/python3.10/dist-packages (from fairseq) (2023.12.25)\n",
            "Collecting sacrebleu>=1.4.12 (from fairseq)\n",
            "  Downloading sacrebleu-2.4.1-py3-none-any.whl (106 kB)\n",
            "\u001b[2K     \u001b[90m━━━━━━━━━━━━━━━━━━━━━━━━━━━━━━━━━━━━━━━━\u001b[0m \u001b[32m106.6/106.6 kB\u001b[0m \u001b[31m12.8 MB/s\u001b[0m eta \u001b[36m0:00:00\u001b[0m\n",
            "\u001b[?25hRequirement already satisfied: torch in /usr/local/lib/python3.10/dist-packages (from fairseq) (2.2.1+cu121)\n",
            "Requirement already satisfied: tqdm in /usr/local/lib/python3.10/dist-packages (from fairseq) (4.66.2)\n",
            "Collecting bitarray (from fairseq)\n",
            "  Downloading bitarray-2.9.2-cp310-cp310-manylinux_2_17_x86_64.manylinux2014_x86_64.whl (288 kB)\n",
            "\u001b[2K     \u001b[90m━━━━━━━━━━━━━━━━━━━━━━━━━━━━━━━━━━━━━━━━\u001b[0m \u001b[32m288.3/288.3 kB\u001b[0m \u001b[31m29.7 MB/s\u001b[0m eta \u001b[36m0:00:00\u001b[0m\n",
            "\u001b[?25hRequirement already satisfied: torchaudio>=0.8.0 in /usr/local/lib/python3.10/dist-packages (from fairseq) (2.2.1+cu121)\n",
            "Requirement already satisfied: numpy in /usr/local/lib/python3.10/dist-packages (from fairseq) (1.25.2)\n",
            "Collecting antlr4-python3-runtime==4.8 (from hydra-core<1.1,>=1.0.7->fairseq)\n",
            "  Downloading antlr4-python3-runtime-4.8.tar.gz (112 kB)\n",
            "\u001b[2K     \u001b[90m━━━━━━━━━━━━━━━━━━━━━━━━━━━━━━━━━━━━━━━━\u001b[0m \u001b[32m112.4/112.4 kB\u001b[0m \u001b[31m12.2 MB/s\u001b[0m eta \u001b[36m0:00:00\u001b[0m\n",
            "\u001b[?25h  Preparing metadata (setup.py) ... \u001b[?25l\u001b[?25hdone\n",
            "Requirement already satisfied: PyYAML>=5.1.* in /usr/local/lib/python3.10/dist-packages (from omegaconf<2.1->fairseq) (6.0.1)\n",
            "Requirement already satisfied: typing-extensions in /usr/local/lib/python3.10/dist-packages (from omegaconf<2.1->fairseq) (4.10.0)\n",
            "Collecting portalocker (from sacrebleu>=1.4.12->fairseq)\n",
            "  Downloading portalocker-2.8.2-py3-none-any.whl (17 kB)\n",
            "Requirement already satisfied: tabulate>=0.8.9 in /usr/local/lib/python3.10/dist-packages (from sacrebleu>=1.4.12->fairseq) (0.9.0)\n",
            "Collecting colorama (from sacrebleu>=1.4.12->fairseq)\n",
            "  Downloading colorama-0.4.6-py2.py3-none-any.whl (25 kB)\n",
            "Requirement already satisfied: lxml in /usr/local/lib/python3.10/dist-packages (from sacrebleu>=1.4.12->fairseq) (4.9.4)\n",
            "Requirement already satisfied: filelock in /usr/local/lib/python3.10/dist-packages (from torch->fairseq) (3.13.3)\n",
            "Requirement already satisfied: sympy in /usr/local/lib/python3.10/dist-packages (from torch->fairseq) (1.12)\n",
            "Requirement already satisfied: networkx in /usr/local/lib/python3.10/dist-packages (from torch->fairseq) (3.2.1)\n",
            "Requirement already satisfied: jinja2 in /usr/local/lib/python3.10/dist-packages (from torch->fairseq) (3.1.3)\n",
            "Requirement already satisfied: fsspec in /usr/local/lib/python3.10/dist-packages (from torch->fairseq) (2023.6.0)\n",
            "Collecting nvidia-cuda-nvrtc-cu12==12.1.105 (from torch->fairseq)\n",
            "  Downloading nvidia_cuda_nvrtc_cu12-12.1.105-py3-none-manylinux1_x86_64.whl (23.7 MB)\n",
            "\u001b[2K     \u001b[90m━━━━━━━━━━━━━━━━━━━━━━━━━━━━━━━━━━━━━━━━\u001b[0m \u001b[32m23.7/23.7 MB\u001b[0m \u001b[31m27.1 MB/s\u001b[0m eta \u001b[36m0:00:00\u001b[0m\n",
            "\u001b[?25hCollecting nvidia-cuda-runtime-cu12==12.1.105 (from torch->fairseq)\n",
            "  Downloading nvidia_cuda_runtime_cu12-12.1.105-py3-none-manylinux1_x86_64.whl (823 kB)\n",
            "\u001b[2K     \u001b[90m━━━━━━━━━━━━━━━━━━━━━━━━━━━━━━━━━━━━━━━━\u001b[0m \u001b[32m823.6/823.6 kB\u001b[0m \u001b[31m55.6 MB/s\u001b[0m eta \u001b[36m0:00:00\u001b[0m\n",
            "\u001b[?25hCollecting nvidia-cuda-cupti-cu12==12.1.105 (from torch->fairseq)\n",
            "  Downloading nvidia_cuda_cupti_cu12-12.1.105-py3-none-manylinux1_x86_64.whl (14.1 MB)\n",
            "\u001b[2K     \u001b[90m━━━━━━━━━━━━━━━━━━━━━━━━━━━━━━━━━━━━━━━━\u001b[0m \u001b[32m14.1/14.1 MB\u001b[0m \u001b[31m47.7 MB/s\u001b[0m eta \u001b[36m0:00:00\u001b[0m\n",
            "\u001b[?25hCollecting nvidia-cudnn-cu12==8.9.2.26 (from torch->fairseq)\n",
            "  Downloading nvidia_cudnn_cu12-8.9.2.26-py3-none-manylinux1_x86_64.whl (731.7 MB)\n",
            "\u001b[2K     \u001b[90m━━━━━━━━━━━━━━━━━━━━━━━━━━━━━━━━━━━━━━━━\u001b[0m \u001b[32m731.7/731.7 MB\u001b[0m \u001b[31m1.4 MB/s\u001b[0m eta \u001b[36m0:00:00\u001b[0m\n",
            "\u001b[?25hCollecting nvidia-cublas-cu12==12.1.3.1 (from torch->fairseq)\n",
            "  Downloading nvidia_cublas_cu12-12.1.3.1-py3-none-manylinux1_x86_64.whl (410.6 MB)\n",
            "\u001b[2K     \u001b[90m━━━━━━━━━━━━━━━━━━━━━━━━━━━━━━━━━━━━━━━━\u001b[0m \u001b[32m410.6/410.6 MB\u001b[0m \u001b[31m1.5 MB/s\u001b[0m eta \u001b[36m0:00:00\u001b[0m\n",
            "\u001b[?25hCollecting nvidia-cufft-cu12==11.0.2.54 (from torch->fairseq)\n",
            "  Downloading nvidia_cufft_cu12-11.0.2.54-py3-none-manylinux1_x86_64.whl (121.6 MB)\n",
            "\u001b[2K     \u001b[90m━━━━━━━━━━━━━━━━━━━━━━━━━━━━━━━━━━━━━━━━\u001b[0m \u001b[32m121.6/121.6 MB\u001b[0m \u001b[31m1.3 MB/s\u001b[0m eta \u001b[36m0:00:00\u001b[0m\n",
            "\u001b[?25hCollecting nvidia-curand-cu12==10.3.2.106 (from torch->fairseq)\n",
            "  Downloading nvidia_curand_cu12-10.3.2.106-py3-none-manylinux1_x86_64.whl (56.5 MB)\n",
            "\u001b[2K     \u001b[90m━━━━━━━━━━━━━━━━━━━━━━━━━━━━━━━━━━━━━━━━\u001b[0m \u001b[32m56.5/56.5 MB\u001b[0m \u001b[31m2.2 MB/s\u001b[0m eta \u001b[36m0:00:00\u001b[0m\n",
            "\u001b[?25hCollecting nvidia-cusolver-cu12==11.4.5.107 (from torch->fairseq)\n",
            "  Downloading nvidia_cusolver_cu12-11.4.5.107-py3-none-manylinux1_x86_64.whl (124.2 MB)\n",
            "\u001b[2K     \u001b[90m━━━━━━━━━━━━━━━━━━━━━━━━━━━━━━━━━━━━━━━━\u001b[0m \u001b[32m124.2/124.2 MB\u001b[0m \u001b[31m2.5 MB/s\u001b[0m eta \u001b[36m0:00:00\u001b[0m\n",
            "\u001b[?25hCollecting nvidia-cusparse-cu12==12.1.0.106 (from torch->fairseq)\n",
            "  Downloading nvidia_cusparse_cu12-12.1.0.106-py3-none-manylinux1_x86_64.whl (196.0 MB)\n",
            "\u001b[2K     \u001b[90m━━━━━━━━━━━━━━━━━━━━━━━━━━━━━━━━━━━━━━━━\u001b[0m \u001b[32m196.0/196.0 MB\u001b[0m \u001b[31m1.9 MB/s\u001b[0m eta \u001b[36m0:00:00\u001b[0m\n",
            "\u001b[?25hCollecting nvidia-nccl-cu12==2.19.3 (from torch->fairseq)\n",
            "  Downloading nvidia_nccl_cu12-2.19.3-py3-none-manylinux1_x86_64.whl (166.0 MB)\n",
            "\u001b[2K     \u001b[90m━━━━━━━━━━━━━━━━━━━━━━━━━━━━━━━━━━━━━━━━\u001b[0m \u001b[32m166.0/166.0 MB\u001b[0m \u001b[31m2.3 MB/s\u001b[0m eta \u001b[36m0:00:00\u001b[0m\n",
            "\u001b[?25hCollecting nvidia-nvtx-cu12==12.1.105 (from torch->fairseq)\n",
            "  Downloading nvidia_nvtx_cu12-12.1.105-py3-none-manylinux1_x86_64.whl (99 kB)\n",
            "\u001b[2K     \u001b[90m━━━━━━━━━━━━━━━━━━━━━━━━━━━━━━━━━━━━━━━━\u001b[0m \u001b[32m99.1/99.1 kB\u001b[0m \u001b[31m4.2 MB/s\u001b[0m eta \u001b[36m0:00:00\u001b[0m\n",
            "\u001b[?25hRequirement already satisfied: triton==2.2.0 in /usr/local/lib/python3.10/dist-packages (from torch->fairseq) (2.2.0)\n",
            "Collecting nvidia-nvjitlink-cu12 (from nvidia-cusolver-cu12==11.4.5.107->torch->fairseq)\n",
            "  Downloading nvidia_nvjitlink_cu12-12.4.127-py3-none-manylinux2014_x86_64.whl (21.1 MB)\n",
            "\u001b[2K     \u001b[90m━━━━━━━━━━━━━━━━━━━━━━━━━━━━━━━━━━━━━━━━\u001b[0m \u001b[32m21.1/21.1 MB\u001b[0m \u001b[31m1.9 MB/s\u001b[0m eta \u001b[36m0:00:00\u001b[0m\n",
            "\u001b[?25hRequirement already satisfied: pycparser in /usr/local/lib/python3.10/dist-packages (from cffi->fairseq) (2.22)\n",
            "Requirement already satisfied: MarkupSafe>=2.0 in /usr/local/lib/python3.10/dist-packages (from jinja2->torch->fairseq) (2.1.5)\n",
            "Requirement already satisfied: mpmath>=0.19 in /usr/local/lib/python3.10/dist-packages (from sympy->torch->fairseq) (1.3.0)\n",
            "Building wheels for collected packages: fairseq, antlr4-python3-runtime\n",
            "  Building wheel for fairseq (pyproject.toml) ... \u001b[?25l\u001b[?25hdone\n",
            "  Created wheel for fairseq: filename=fairseq-0.12.2-cp310-cp310-linux_x86_64.whl size=11291782 sha256=1c09e685d0f56c7bddf5fa36783e07fa0ce84082dd924c91a1dc54b727848580\n",
            "  Stored in directory: /root/.cache/pip/wheels/e4/35/55/9c66f65ec7c83fd6fbc2b9502a0ac81b2448a1196159dacc32\n",
            "  Building wheel for antlr4-python3-runtime (setup.py) ... \u001b[?25l\u001b[?25hdone\n",
            "  Created wheel for antlr4-python3-runtime: filename=antlr4_python3_runtime-4.8-py3-none-any.whl size=141211 sha256=6c6971a66841bd13330b456fe1342862bbf93305f73ce839cf57e220da2bcd8e\n",
            "  Stored in directory: /root/.cache/pip/wheels/a7/20/bd/e1477d664f22d99989fd28ee1a43d6633dddb5cb9e801350d5\n",
            "Successfully built fairseq antlr4-python3-runtime\n",
            "Installing collected packages: bitarray, antlr4-python3-runtime, portalocker, omegaconf, nvidia-nvtx-cu12, nvidia-nvjitlink-cu12, nvidia-nccl-cu12, nvidia-curand-cu12, nvidia-cufft-cu12, nvidia-cuda-runtime-cu12, nvidia-cuda-nvrtc-cu12, nvidia-cuda-cupti-cu12, nvidia-cublas-cu12, colorama, sacrebleu, nvidia-cusparse-cu12, nvidia-cudnn-cu12, hydra-core, nvidia-cusolver-cu12, fairseq\n",
            "Successfully installed antlr4-python3-runtime-4.8 bitarray-2.9.2 colorama-0.4.6 fairseq-0.12.2 hydra-core-1.0.7 nvidia-cublas-cu12-12.1.3.1 nvidia-cuda-cupti-cu12-12.1.105 nvidia-cuda-nvrtc-cu12-12.1.105 nvidia-cuda-runtime-cu12-12.1.105 nvidia-cudnn-cu12-8.9.2.26 nvidia-cufft-cu12-11.0.2.54 nvidia-curand-cu12-10.3.2.106 nvidia-cusolver-cu12-11.4.5.107 nvidia-cusparse-cu12-12.1.0.106 nvidia-nccl-cu12-2.19.3 nvidia-nvjitlink-cu12-12.4.127 nvidia-nvtx-cu12-12.1.105 omegaconf-2.0.6 portalocker-2.8.2 sacrebleu-2.4.1\n"
          ]
        }
      ],
      "source": [
        "!pip install fairseq"
      ]
    },
    {
      "cell_type": "code",
      "execution_count": null,
      "metadata": {
        "colab": {
          "base_uri": "https://localhost:8080/"
        },
        "id": "A42e4ojAz0sK",
        "outputId": "4c9042a9-1d06-4fa2-e426-55e1dda465d8"
      },
      "outputs": [
        {
          "name": "stdout",
          "output_type": "stream",
          "text": [
            "Collecting fire\n",
            "  Downloading fire-0.6.0.tar.gz (88 kB)\n",
            "\u001b[?25l     \u001b[90m━━━━━━━━━━━━━━━━━━━━━━━━━━━━━━━━━━━━━━━━\u001b[0m \u001b[32m0.0/88.4 kB\u001b[0m \u001b[31m?\u001b[0m eta \u001b[36m-:--:--\u001b[0m\r\u001b[2K     \u001b[91m━━━━━━━━━━━━━━━━━━\u001b[0m\u001b[91m╸\u001b[0m\u001b[90m━━━━━━━━━━━━━━━━━━━━━\u001b[0m \u001b[32m41.0/88.4 kB\u001b[0m \u001b[31m1.1 MB/s\u001b[0m eta \u001b[36m0:00:01\u001b[0m\r\u001b[2K     \u001b[90m━━━━━━━━━━━━━━━━━━━━━━━━━━━━━━━━━━━━━━━━\u001b[0m \u001b[32m88.4/88.4 kB\u001b[0m \u001b[31m1.5 MB/s\u001b[0m eta \u001b[36m0:00:00\u001b[0m\n",
            "\u001b[?25h  Preparing metadata (setup.py) ... \u001b[?25l\u001b[?25hdone\n",
            "Requirement already satisfied: six in /usr/local/lib/python3.10/dist-packages (from fire) (1.16.0)\n",
            "Requirement already satisfied: termcolor in /usr/local/lib/python3.10/dist-packages (from fire) (2.4.0)\n",
            "Building wheels for collected packages: fire\n",
            "  Building wheel for fire (setup.py) ... \u001b[?25l\u001b[?25hdone\n",
            "  Created wheel for fire: filename=fire-0.6.0-py2.py3-none-any.whl size=117029 sha256=0fac3fc447442acd4249abc301d3d79340ae39b6360ea63b415b14a3ac511590\n",
            "  Stored in directory: /root/.cache/pip/wheels/d6/6d/5d/5b73fa0f46d01a793713f8859201361e9e581ced8c75e5c6a3\n",
            "Successfully built fire\n",
            "Installing collected packages: fire\n",
            "Successfully installed fire-0.6.0\n"
          ]
        }
      ],
      "source": [
        "!pip install fire"
      ]
    },
    {
      "cell_type": "code",
      "execution_count": null,
      "metadata": {
        "colab": {
          "base_uri": "https://localhost:8080/",
          "height": 394
        },
        "id": "9RwV0yirw8Tf",
        "outputId": "b0799b4d-3981-4000-c7ba-bf35ddc8b74a"
      },
      "outputs": [
        {
          "ename": "ModuleNotFoundError",
          "evalue": "No module named 'fire'",
          "output_type": "error",
          "traceback": [
            "\u001b[0;31m---------------------------------------------------------------------------\u001b[0m",
            "\u001b[0;31mModuleNotFoundError\u001b[0m                       Traceback (most recent call last)",
            "\u001b[0;32m<ipython-input-11-e930da83c44b>\u001b[0m in \u001b[0;36m<cell line: 3>\u001b[0;34m()\u001b[0m\n\u001b[1;32m      1\u001b[0m \u001b[0;32mimport\u001b[0m \u001b[0msoundfile\u001b[0m \u001b[0;32mas\u001b[0m \u001b[0msf\u001b[0m\u001b[0;34m\u001b[0m\u001b[0;34m\u001b[0m\u001b[0m\n\u001b[1;32m      2\u001b[0m \u001b[0;32mimport\u001b[0m \u001b[0mtorch\u001b[0m\u001b[0;34m\u001b[0m\u001b[0;34m\u001b[0m\u001b[0m\n\u001b[0;32m----> 3\u001b[0;31m \u001b[0;32mimport\u001b[0m \u001b[0mfire\u001b[0m\u001b[0;34m\u001b[0m\u001b[0;34m\u001b[0m\u001b[0m\n\u001b[0m\u001b[1;32m      4\u001b[0m \u001b[0;32mimport\u001b[0m \u001b[0mtorch\u001b[0m\u001b[0;34m.\u001b[0m\u001b[0mnn\u001b[0m\u001b[0;34m.\u001b[0m\u001b[0mfunctional\u001b[0m \u001b[0;32mas\u001b[0m \u001b[0mF\u001b[0m\u001b[0;34m\u001b[0m\u001b[0;34m\u001b[0m\u001b[0m\n\u001b[1;32m      5\u001b[0m \u001b[0;32mfrom\u001b[0m \u001b[0mtorchaudio\u001b[0m\u001b[0;34m.\u001b[0m\u001b[0mtransforms\u001b[0m \u001b[0;32mimport\u001b[0m \u001b[0mResample\u001b[0m\u001b[0;34m\u001b[0m\u001b[0;34m\u001b[0m\u001b[0m\n",
            "\u001b[0;31mModuleNotFoundError\u001b[0m: No module named 'fire'",
            "",
            "\u001b[0;31m---------------------------------------------------------------------------\u001b[0;32m\nNOTE: If your import is failing due to a missing package, you can\nmanually install dependencies using either !pip or !apt.\n\nTo view examples of installing some common dependencies, click the\n\"Open Examples\" button below.\n\u001b[0;31m---------------------------------------------------------------------------\u001b[0m\n"
          ]
        }
      ],
      "source": [
        "import soundfile as sf\n",
        "import torch\n",
        "import fire\n",
        "import torch.nn.functional as F\n",
        "from torchaudio.transforms import Resample\n",
        "#from models.ecapa_tdnn import ECAPA_TDNN_SMALL"
      ]
    },
    {
      "cell_type": "code",
      "execution_count": null,
      "metadata": {
        "colab": {
          "base_uri": "https://localhost:8080/"
        },
        "id": "9uGp_6JU46zf",
        "outputId": "b353f1fa-bd25-440a-cfdf-eb3947a92478"
      },
      "outputs": [
        {
          "name": "stdout",
          "output_type": "stream",
          "text": [
            "Current directory: /content/UniSpeech/downstreams/speaker_verification\n"
          ]
        }
      ],
      "source": [
        "import os\n",
        "\n",
        "# Print current working directory\n",
        "print(\"Current directory:\", os.getcwd())"
      ]
    },
    {
      "cell_type": "code",
      "execution_count": null,
      "metadata": {
        "colab": {
          "base_uri": "https://localhost:8080/"
        },
        "id": "X3Fwwyws42GY",
        "outputId": "f4702a22-d1fe-4aae-b81b-91e005cef857"
      },
      "outputs": [
        {
          "name": "stdout",
          "output_type": "stream",
          "text": [
            "New directory: /content/UniSpeech/downstreams/speaker_verification\n"
          ]
        }
      ],
      "source": [
        "# Change directory\n",
        "os.chdir(\"/content/UniSpeech/downstreams/speaker_verification\")\n",
        "\n",
        "# Print new working directory\n",
        "print(\"New directory:\", os.getcwd())\n"
      ]
    },
    {
      "cell_type": "code",
      "execution_count": null,
      "metadata": {
        "id": "i1gB8H6D5G1h"
      },
      "outputs": [],
      "source": [
        "from models.ecapa_tdnn import ECAPA_TDNN_SMALL"
      ]
    },
    {
      "cell_type": "code",
      "execution_count": null,
      "metadata": {
        "id": "nVxG1aYD5LF3"
      },
      "outputs": [],
      "source": [
        "model_path = \"/content/drive/MyDrive/wav2vec2_xlsr.pth\""
      ]
    },
    {
      "cell_type": "code",
      "execution_count": null,
      "metadata": {
        "colab": {
          "base_uri": "https://localhost:8080/"
        },
        "id": "bNKKkKDR5iFN",
        "outputId": "89864dfe-94a0-471c-9917-0da9018392b0"
      },
      "outputs": [
        {
          "name": "stdout",
          "output_type": "stream",
          "text": [
            "Using cache found in /root/.cache/torch/hub/s3prl_s3prl_main\n",
            "2024-04-04 07:04:58.922012: E external/local_xla/xla/stream_executor/cuda/cuda_dnn.cc:9261] Unable to register cuDNN factory: Attempting to register factory for plugin cuDNN when one has already been registered\n",
            "2024-04-04 07:04:58.922097: E external/local_xla/xla/stream_executor/cuda/cuda_fft.cc:607] Unable to register cuFFT factory: Attempting to register factory for plugin cuFFT when one has already been registered\n",
            "2024-04-04 07:04:58.924105: E external/local_xla/xla/stream_executor/cuda/cuda_blas.cc:1515] Unable to register cuBLAS factory: Attempting to register factory for plugin cuBLAS when one has already been registered\n",
            "2024-04-04 07:05:00.524893: W tensorflow/compiler/tf2tensorrt/utils/py_utils.cc:38] TF-TRT Warning: Could not find TensorRT\n",
            "/root/.cache/torch/hub/s3prl_s3prl_main/s3prl/upstream/byol_s/byol_a/common.py:20: UserWarning: torchaudio._backend.set_audio_backend has been deprecated. With dispatcher enabled, this function is no-op. You can remove the function call.\n",
            "  torchaudio.set_audio_backend(\"sox_io\")\n",
            "ESPnet is not installed, cannot use espnet_hubert upstream\n",
            "Traceback (most recent call last):\n",
            "  File \"/content/UniSpeech/downstreams/speaker_verification/verification.py\", line 66, in <module>\n",
            "    fire.Fire(verification)\n",
            "  File \"/usr/local/lib/python3.10/dist-packages/fire/core.py\", line 143, in Fire\n",
            "    component_trace = _Fire(component, args, parsed_flag_args, context, name)\n",
            "  File \"/usr/local/lib/python3.10/dist-packages/fire/core.py\", line 477, in _Fire\n",
            "    component, remaining_args = _CallAndUpdateTrace(\n",
            "  File \"/usr/local/lib/python3.10/dist-packages/fire/core.py\", line 693, in _CallAndUpdateTrace\n",
            "    component = fn(*varargs, **kwargs)\n",
            "  File \"/content/UniSpeech/downstreams/speaker_verification/verification.py\", line 39, in verification\n",
            "    model = init_model(model_name, checkpoint)\n",
            "  File \"/content/UniSpeech/downstreams/speaker_verification/verification.py\", line 26, in init_model\n",
            "    model = ECAPA_TDNN_SMALL(feat_dim=1024, feat_type='wav2vec2_xlsr', config_path=config_path)\n",
            "  File \"/content/UniSpeech/downstreams/speaker_verification/models/ecapa_tdnn.py\", line 289, in ECAPA_TDNN_SMALL\n",
            "    return ECAPA_TDNN(feat_dim=feat_dim, channels=512, emb_dim=emb_dim,\n",
            "  File \"/content/UniSpeech/downstreams/speaker_verification/models/ecapa_tdnn.py\", line 195, in __init__\n",
            "    self.feature_extract = torch.hub.load('s3prl/s3prl', feat_type)\n",
            "  File \"/usr/local/lib/python3.10/dist-packages/torch/hub.py\", line 566, in load\n",
            "    model = _load_local(repo_or_dir, model, *args, **kwargs)\n",
            "  File \"/usr/local/lib/python3.10/dist-packages/torch/hub.py\", line 594, in _load_local\n",
            "    entry = _load_entry_from_hubconf(hub_module, model)\n",
            "  File \"/usr/local/lib/python3.10/dist-packages/torch/hub.py\", line 348, in _load_entry_from_hubconf\n",
            "    raise RuntimeError(f'Cannot find callable {model} in hubconf')\n",
            "RuntimeError: Cannot find callable wav2vec2_xlsr in hubconf\n"
          ]
        }
      ],
      "source": [
        "!python verification.py --model_name wav2vec2_xlsr --wav1 vox1_data/David_Faustino/hn8GyCJIfLM_0000012.wav --wav2 vox1_data/Josh_Gad/HXUqYaOwrxA_0000015.wav --checkpoint model_path"
      ]
    },
    {
      "cell_type": "markdown",
      "metadata": {
        "id": "SkBFezLkOE_e"
      },
      "source": [
        "## Huggin_face_try"
      ]
    },
    {
      "cell_type": "code",
      "execution_count": null,
      "metadata": {
        "colab": {
          "base_uri": "https://localhost:8080/"
        },
        "id": "tb0BxAOOOi1_",
        "outputId": "00ce1e31-1062-494b-bbb4-2d4e37fc3f5d"
      },
      "outputs": [
        {
          "name": "stdout",
          "output_type": "stream",
          "text": [
            "Collecting datasets\n",
            "  Downloading datasets-2.18.0-py3-none-any.whl (510 kB)\n",
            "\u001b[2K     \u001b[90m━━━━━━━━━━━━━━━━━━━━━━━━━━━━━━━━━━━━━━━━\u001b[0m \u001b[32m510.5/510.5 kB\u001b[0m \u001b[31m3.3 MB/s\u001b[0m eta \u001b[36m0:00:00\u001b[0m\n",
            "\u001b[?25hRequirement already satisfied: filelock in /usr/local/lib/python3.10/dist-packages (from datasets) (3.13.3)\n",
            "Requirement already satisfied: numpy>=1.17 in /usr/local/lib/python3.10/dist-packages (from datasets) (1.25.2)\n",
            "Requirement already satisfied: pyarrow>=12.0.0 in /usr/local/lib/python3.10/dist-packages (from datasets) (14.0.2)\n",
            "Requirement already satisfied: pyarrow-hotfix in /usr/local/lib/python3.10/dist-packages (from datasets) (0.6)\n",
            "Collecting dill<0.3.9,>=0.3.0 (from datasets)\n",
            "  Downloading dill-0.3.8-py3-none-any.whl (116 kB)\n",
            "\u001b[2K     \u001b[90m━━━━━━━━━━━━━━━━━━━━━━━━━━━━━━━━━━━━━━━━\u001b[0m \u001b[32m116.3/116.3 kB\u001b[0m \u001b[31m13.0 MB/s\u001b[0m eta \u001b[36m0:00:00\u001b[0m\n",
            "\u001b[?25hRequirement already satisfied: pandas in /usr/local/lib/python3.10/dist-packages (from datasets) (2.0.3)\n",
            "Requirement already satisfied: requests>=2.19.0 in /usr/local/lib/python3.10/dist-packages (from datasets) (2.31.0)\n",
            "Requirement already satisfied: tqdm>=4.62.1 in /usr/local/lib/python3.10/dist-packages (from datasets) (4.66.2)\n",
            "Collecting xxhash (from datasets)\n",
            "  Downloading xxhash-3.4.1-cp310-cp310-manylinux_2_17_x86_64.manylinux2014_x86_64.whl (194 kB)\n",
            "\u001b[2K     \u001b[90m━━━━━━━━━━━━━━━━━━━━━━━━━━━━━━━━━━━━━━━━\u001b[0m \u001b[32m194.1/194.1 kB\u001b[0m \u001b[31m11.4 MB/s\u001b[0m eta \u001b[36m0:00:00\u001b[0m\n",
            "\u001b[?25hCollecting multiprocess (from datasets)\n",
            "  Downloading multiprocess-0.70.16-py310-none-any.whl (134 kB)\n",
            "\u001b[2K     \u001b[90m━━━━━━━━━━━━━━━━━━━━━━━━━━━━━━━━━━━━━━━━\u001b[0m \u001b[32m134.8/134.8 kB\u001b[0m \u001b[31m13.0 MB/s\u001b[0m eta \u001b[36m0:00:00\u001b[0m\n",
            "\u001b[?25hRequirement already satisfied: fsspec[http]<=2024.2.0,>=2023.1.0 in /usr/local/lib/python3.10/dist-packages (from datasets) (2023.6.0)\n",
            "Requirement already satisfied: aiohttp in /usr/local/lib/python3.10/dist-packages (from datasets) (3.9.3)\n",
            "Requirement already satisfied: huggingface-hub>=0.19.4 in /usr/local/lib/python3.10/dist-packages (from datasets) (0.20.3)\n",
            "Requirement already satisfied: packaging in /usr/local/lib/python3.10/dist-packages (from datasets) (24.0)\n",
            "Requirement already satisfied: pyyaml>=5.1 in /usr/local/lib/python3.10/dist-packages (from datasets) (6.0.1)\n",
            "Requirement already satisfied: aiosignal>=1.1.2 in /usr/local/lib/python3.10/dist-packages (from aiohttp->datasets) (1.3.1)\n",
            "Requirement already satisfied: attrs>=17.3.0 in /usr/local/lib/python3.10/dist-packages (from aiohttp->datasets) (23.2.0)\n",
            "Requirement already satisfied: frozenlist>=1.1.1 in /usr/local/lib/python3.10/dist-packages (from aiohttp->datasets) (1.4.1)\n",
            "Requirement already satisfied: multidict<7.0,>=4.5 in /usr/local/lib/python3.10/dist-packages (from aiohttp->datasets) (6.0.5)\n",
            "Requirement already satisfied: yarl<2.0,>=1.0 in /usr/local/lib/python3.10/dist-packages (from aiohttp->datasets) (1.9.4)\n",
            "Requirement already satisfied: async-timeout<5.0,>=4.0 in /usr/local/lib/python3.10/dist-packages (from aiohttp->datasets) (4.0.3)\n",
            "Requirement already satisfied: typing-extensions>=3.7.4.3 in /usr/local/lib/python3.10/dist-packages (from huggingface-hub>=0.19.4->datasets) (4.10.0)\n",
            "Requirement already satisfied: charset-normalizer<4,>=2 in /usr/local/lib/python3.10/dist-packages (from requests>=2.19.0->datasets) (3.3.2)\n",
            "Requirement already satisfied: idna<4,>=2.5 in /usr/local/lib/python3.10/dist-packages (from requests>=2.19.0->datasets) (3.6)\n",
            "Requirement already satisfied: urllib3<3,>=1.21.1 in /usr/local/lib/python3.10/dist-packages (from requests>=2.19.0->datasets) (2.0.7)\n",
            "Requirement already satisfied: certifi>=2017.4.17 in /usr/local/lib/python3.10/dist-packages (from requests>=2.19.0->datasets) (2024.2.2)\n",
            "Requirement already satisfied: python-dateutil>=2.8.2 in /usr/local/lib/python3.10/dist-packages (from pandas->datasets) (2.8.2)\n",
            "Requirement already satisfied: pytz>=2020.1 in /usr/local/lib/python3.10/dist-packages (from pandas->datasets) (2023.4)\n",
            "Requirement already satisfied: tzdata>=2022.1 in /usr/local/lib/python3.10/dist-packages (from pandas->datasets) (2024.1)\n",
            "Requirement already satisfied: six>=1.5 in /usr/local/lib/python3.10/dist-packages (from python-dateutil>=2.8.2->pandas->datasets) (1.16.0)\n",
            "Installing collected packages: xxhash, dill, multiprocess, datasets\n",
            "Successfully installed datasets-2.18.0 dill-0.3.8 multiprocess-0.70.16 xxhash-3.4.1\n"
          ]
        }
      ],
      "source": [
        "!pip install datasets"
      ]
    },
    {
      "cell_type": "code",
      "execution_count": null,
      "metadata": {
        "colab": {
          "base_uri": "https://localhost:8080/",
          "height": 696,
          "referenced_widgets": [
            "0da786788a63443bb701e04a52ac8c0f",
            "4b935c48076c4d31860404c6829b2666",
            "e164f6188b8e465bbc66c4eaa59fa5fc",
            "f5e09a77fcbe416b88341683983cd9a1",
            "d91972427e66472eb97a1d5914b0884d",
            "740ac3c4c1824322b9deaaaf4e37d80a",
            "b672061b61ce4dca819132de1a2a2d68",
            "49dc3420f6f549e7958f8614cf682511",
            "4789d6737a1843ec87636b6d64c5a050",
            "c36107e9ed564efab259d5cb9f1887f9",
            "5c3c8bf1877f4f318bdefccb716c4369",
            "b87f62802152463bb232864c6eef69c6",
            "f76d48815a244864b2b5b43dccaf4737",
            "cd9dd4847b8c43dabda8029c3b414d84",
            "7982c4985a1b4729873caa9846374e5d",
            "18f2feded346411488df070fbc070408",
            "64073a354ac74e4ead4b5a2103b3cb44",
            "2c6c4b2d8d904313ae87be4bce4799eb",
            "7ceca4fb9678403bac437b7d1a81d7d8",
            "3693bc6a9d9548a496cec448a74276f8",
            "1d716c2a7ada494f83b812c7aa57a23d",
            "ade5801a8b794bf8a3ca7c45fd8b4638",
            "d2e4aa98432b4abdb6325e485544d957",
            "088538e81e5b491b90af774f9b6ba0e4",
            "ce8f74272f5749aab1bed28dc94c80b1",
            "7744ae5bb7d14682aa6395180f7720ab",
            "962967c2fcd2462797820a86c7bb5ea6",
            "76c5c693f955495ea5f5f34cbf4f5178",
            "1cf1b94ef4a6477fb6d293292352856b",
            "d454fa63fbf54c37bd6b163bd6f87d69",
            "b21090703c7244cdb979420269db9b65",
            "1899ad85a6474b63b3c057e5cc2d230b",
            "884cdb7d11834c2c880b8073187ba296",
            "ff63050f962640d4997c298d1d793ff5",
            "8f99b14bd2a947869e1e94cd8a10df97",
            "3eca195d336747b2983445ccb13b3a99",
            "77a317fac5914b39a032a900283c18df",
            "7056e91215094326a8556299c9acdc45",
            "cef43270c479463ba3707463e1f754df",
            "ef5e836a84c845349ce489fdfbe87031",
            "134c3c6e4ab5492aae2296e063bc6aa2",
            "08b83056f54041119e8a7b569b37b0ee",
            "4326560c65b142bdaa9123e13ab6d95f",
            "70b9410dfa554c4d9bbd2ace77168747",
            "ad7a19dd06c4432b91aac1aa15cf6805",
            "03f9fa68d91f4363b4b62198a2efc801",
            "711e4c06b0114fffacb7f2382d62818e",
            "2adb0a0a07ed4eedb21dc95e0208ad13",
            "9ddcae7da31241f7969870ce1a26d218",
            "66c2af1b1a114b2c89876b5e2aa23b67",
            "a2c473218b654c1a82b4ce2fb35b5d99",
            "716f6f7400ac4e759d613ce68ca70abc",
            "b98d719f3e464c55a67e7f3e2e53f85a",
            "2c34ce312c2245f0ac1507f1246a35ef",
            "17e9de5d01bd4919a94bf9bf6a76cb17",
            "5d00151114484fc8ba9ef854df12e642",
            "951624ade2534b2eac2e223ce7f792ef",
            "761c4fb23e9e4c3bbbd0f1ade2c71bd9",
            "2306816661e04f7b865f5da434d72d9d",
            "340027f3e6ad4ed7ada4c63c20c8cce5",
            "d60a98988603477abf1a0e2640591e51",
            "0a3b010dda604a8b9fa8f471bd839145",
            "ccfbfd21306443cbbd6c9ea58f5857d0",
            "4dc47d69dc714eb6be8560e713ca3840",
            "4ef422b2905c4a1eaf1a9ea37e636f48",
            "2c65edb9f82f4dfb83b7c84a051c081d"
          ]
        },
        "id": "5pLXWlbv5ntY",
        "outputId": "dba86822-f509-4e97-ae63-175b04462b0e"
      },
      "outputs": [
        {
          "name": "stderr",
          "output_type": "stream",
          "text": [
            "/usr/local/lib/python3.10/dist-packages/huggingface_hub/utils/_token.py:88: UserWarning: \n",
            "The secret `HF_TOKEN` does not exist in your Colab secrets.\n",
            "To authenticate with the Hugging Face Hub, create a token in your settings tab (https://huggingface.co/settings/tokens), set it as secret in your Google Colab and restart your session.\n",
            "You will be able to reuse this secret in all of your notebooks.\n",
            "Please note that authentication is recommended but still optional to access public models or datasets.\n",
            "  warnings.warn(\n",
            "/usr/local/lib/python3.10/dist-packages/datasets/load.py:1461: FutureWarning: The repository for hf-internal-testing/librispeech_asr_demo contains custom code which must be executed to correctly load the dataset. You can inspect the repository content at https://hf.co/datasets/hf-internal-testing/librispeech_asr_demo\n",
            "You can avoid this message in future by passing the argument `trust_remote_code=True`.\n",
            "Passing `trust_remote_code=True` will be mandatory to load this dataset from the next major release of `datasets`.\n",
            "  warnings.warn(\n"
          ]
        },
        {
          "data": {
            "application/vnd.jupyter.widget-view+json": {
              "model_id": "0da786788a63443bb701e04a52ac8c0f",
              "version_major": 2,
              "version_minor": 0
            },
            "text/plain": [
              "Downloading builder script:   0%|          | 0.00/5.17k [00:00<?, ?B/s]"
            ]
          },
          "metadata": {},
          "output_type": "display_data"
        },
        {
          "data": {
            "application/vnd.jupyter.widget-view+json": {
              "model_id": "b87f62802152463bb232864c6eef69c6",
              "version_major": 2,
              "version_minor": 0
            },
            "text/plain": [
              "Downloading data:   0%|          | 0.00/9.08M [00:00<?, ?B/s]"
            ]
          },
          "metadata": {},
          "output_type": "display_data"
        },
        {
          "data": {
            "application/vnd.jupyter.widget-view+json": {
              "model_id": "d2e4aa98432b4abdb6325e485544d957",
              "version_major": 2,
              "version_minor": 0
            },
            "text/plain": [
              "Generating validation split: 0 examples [00:00, ? examples/s]"
            ]
          },
          "metadata": {},
          "output_type": "display_data"
        },
        {
          "data": {
            "application/vnd.jupyter.widget-view+json": {
              "model_id": "ff63050f962640d4997c298d1d793ff5",
              "version_major": 2,
              "version_minor": 0
            },
            "text/plain": [
              "preprocessor_config.json:   0%|          | 0.00/215 [00:00<?, ?B/s]"
            ]
          },
          "metadata": {},
          "output_type": "display_data"
        },
        {
          "data": {
            "application/vnd.jupyter.widget-view+json": {
              "model_id": "ad7a19dd06c4432b91aac1aa15cf6805",
              "version_major": 2,
              "version_minor": 0
            },
            "text/plain": [
              "config.json:   0%|          | 0.00/58.6k [00:00<?, ?B/s]"
            ]
          },
          "metadata": {},
          "output_type": "display_data"
        },
        {
          "data": {
            "application/vnd.jupyter.widget-view+json": {
              "model_id": "5d00151114484fc8ba9ef854df12e642",
              "version_major": 2,
              "version_minor": 0
            },
            "text/plain": [
              "pytorch_model.bin:   0%|          | 0.00/405M [00:00<?, ?B/s]"
            ]
          },
          "metadata": {},
          "output_type": "display_data"
        },
        {
          "name": "stderr",
          "output_type": "stream",
          "text": [
            "Some weights of the model checkpoint at microsoft/wavlm-base-sv were not used when initializing WavLMForXVector: ['wavlm.encoder.pos_conv_embed.conv.weight_g', 'wavlm.encoder.pos_conv_embed.conv.weight_v']\n",
            "- This IS expected if you are initializing WavLMForXVector from the checkpoint of a model trained on another task or with another architecture (e.g. initializing a BertForSequenceClassification model from a BertForPreTraining model).\n",
            "- This IS NOT expected if you are initializing WavLMForXVector from the checkpoint of a model that you expect to be exactly identical (initializing a BertForSequenceClassification model from a BertForSequenceClassification model).\n",
            "Some weights of WavLMForXVector were not initialized from the model checkpoint at microsoft/wavlm-base-sv and are newly initialized: ['wavlm.encoder.pos_conv_embed.conv.parametrizations.weight.original0', 'wavlm.encoder.pos_conv_embed.conv.parametrizations.weight.original1']\n",
            "You should probably TRAIN this model on a down-stream task to be able to use it for predictions and inference.\n"
          ]
        },
        {
          "ename": "TypeError",
          "evalue": "list indices must be integers or slices, not str",
          "output_type": "error",
          "traceback": [
            "\u001b[0;31m---------------------------------------------------------------------------\u001b[0m",
            "\u001b[0;31mTypeError\u001b[0m                                 Traceback (most recent call last)",
            "\u001b[0;32m<ipython-input-20-b215dbfa9c05>\u001b[0m in \u001b[0;36m<cell line: 10>\u001b[0;34m()\u001b[0m\n\u001b[1;32m      8\u001b[0m \u001b[0;34m\u001b[0m\u001b[0m\n\u001b[1;32m      9\u001b[0m \u001b[0;31m# audio files are decoded on the fly\u001b[0m\u001b[0;34m\u001b[0m\u001b[0;34m\u001b[0m\u001b[0m\n\u001b[0;32m---> 10\u001b[0;31m \u001b[0minputs\u001b[0m \u001b[0;34m=\u001b[0m \u001b[0mfeature_extractor\u001b[0m\u001b[0;34m(\u001b[0m\u001b[0mdataset\u001b[0m\u001b[0;34m[\u001b[0m\u001b[0;34m:\u001b[0m\u001b[0;36m2\u001b[0m\u001b[0;34m]\u001b[0m\u001b[0;34m[\u001b[0m\u001b[0;34m\"audio\"\u001b[0m\u001b[0;34m]\u001b[0m\u001b[0;34m[\u001b[0m\u001b[0;34m\"array\"\u001b[0m\u001b[0;34m]\u001b[0m\u001b[0;34m,\u001b[0m \u001b[0mreturn_tensors\u001b[0m\u001b[0;34m=\u001b[0m\u001b[0;34m\"pt\"\u001b[0m\u001b[0;34m)\u001b[0m\u001b[0;34m\u001b[0m\u001b[0;34m\u001b[0m\u001b[0m\n\u001b[0m\u001b[1;32m     11\u001b[0m \u001b[0membeddings\u001b[0m \u001b[0;34m=\u001b[0m \u001b[0mmodel\u001b[0m\u001b[0;34m(\u001b[0m\u001b[0;34m**\u001b[0m\u001b[0minputs\u001b[0m\u001b[0;34m)\u001b[0m\u001b[0;34m.\u001b[0m\u001b[0membeddings\u001b[0m\u001b[0;34m\u001b[0m\u001b[0;34m\u001b[0m\u001b[0m\n\u001b[1;32m     12\u001b[0m \u001b[0membeddings\u001b[0m \u001b[0;34m=\u001b[0m \u001b[0mtorch\u001b[0m\u001b[0;34m.\u001b[0m\u001b[0mnn\u001b[0m\u001b[0;34m.\u001b[0m\u001b[0mfunctional\u001b[0m\u001b[0;34m.\u001b[0m\u001b[0mnormalize\u001b[0m\u001b[0;34m(\u001b[0m\u001b[0membeddings\u001b[0m\u001b[0;34m,\u001b[0m \u001b[0mdim\u001b[0m\u001b[0;34m=\u001b[0m\u001b[0;34m-\u001b[0m\u001b[0;36m1\u001b[0m\u001b[0;34m)\u001b[0m\u001b[0;34m.\u001b[0m\u001b[0mcpu\u001b[0m\u001b[0;34m(\u001b[0m\u001b[0;34m)\u001b[0m\u001b[0;34m\u001b[0m\u001b[0;34m\u001b[0m\u001b[0m\n",
            "\u001b[0;31mTypeError\u001b[0m: list indices must be integers or slices, not str"
          ]
        }
      ],
      "source": [
        "from transformers import Wav2Vec2FeatureExtractor, WavLMForXVector\n",
        "from datasets import load_dataset\n",
        "import torch\n",
        "\n",
        "dataset = load_dataset(\"hf-internal-testing/librispeech_asr_demo\", \"clean\", split=\"validation\")\n",
        "feature_extractor = Wav2Vec2FeatureExtractor.from_pretrained('microsoft/wavlm-base-sv')\n",
        "model = WavLMForXVector.from_pretrained('microsoft/wavlm-base-sv')\n",
        "\n",
        "# audio files are decoded on the fly\n",
        "inputs = feature_extractor(dataset[:2][\"audio\"][\"array\"], return_tensors=\"pt\")\n",
        "embeddings = model(**inputs).embeddings\n",
        "embeddings = torch.nn.functional.normalize(embeddings, dim=-1).cpu()\n",
        "\n",
        "# the resulting embeddings can be used for cosine similarity-based retrieval\n",
        "cosine_sim = torch.nn.CosineSimilarity(dim=-1)\n",
        "similarity = cosine_sim(embeddings[0], embeddings[1])\n",
        "threshold = 0.86  # the optimal threshold is dataset-dependent\n",
        "if similarity < threshold:\n",
        "    print(\"Speakers are not the same!\")\n"
      ]
    },
    {
      "cell_type": "code",
      "execution_count": null,
      "metadata": {
        "colab": {
          "base_uri": "https://localhost:8080/",
          "height": 575
        },
        "id": "X4QsWuIRPFq-",
        "outputId": "303e6ef6-13f6-420c-cb35-f6d02ad8e050"
      },
      "outputs": [
        {
          "name": "stderr",
          "output_type": "stream",
          "text": [
            "/usr/local/lib/python3.10/dist-packages/huggingface_hub/utils/_token.py:88: UserWarning: \n",
            "The secret `HF_TOKEN` does not exist in your Colab secrets.\n",
            "To authenticate with the Hugging Face Hub, create a token in your settings tab (https://huggingface.co/settings/tokens), set it as secret in your Google Colab and restart your session.\n",
            "You will be able to reuse this secret in all of your notebooks.\n",
            "Please note that authentication is recommended but still optional to access public models or datasets.\n",
            "  warnings.warn(\n",
            "/usr/local/lib/python3.10/dist-packages/datasets/load.py:1461: FutureWarning: The repository for hf-internal-testing/librispeech_asr_demo contains custom code which must be executed to correctly load the dataset. You can inspect the repository content at https://hf.co/datasets/hf-internal-testing/librispeech_asr_demo\n",
            "You can avoid this message in future by passing the argument `trust_remote_code=True`.\n",
            "Passing `trust_remote_code=True` will be mandatory to load this dataset from the next major release of `datasets`.\n",
            "  warnings.warn(\n",
            "Some weights of the model checkpoint at microsoft/wavlm-base-sv were not used when initializing WavLMForXVector: ['wavlm.encoder.pos_conv_embed.conv.weight_g', 'wavlm.encoder.pos_conv_embed.conv.weight_v']\n",
            "- This IS expected if you are initializing WavLMForXVector from the checkpoint of a model trained on another task or with another architecture (e.g. initializing a BertForSequenceClassification model from a BertForPreTraining model).\n",
            "- This IS NOT expected if you are initializing WavLMForXVector from the checkpoint of a model that you expect to be exactly identical (initializing a BertForSequenceClassification model from a BertForSequenceClassification model).\n",
            "Some weights of WavLMForXVector were not initialized from the model checkpoint at microsoft/wavlm-base-sv and are newly initialized: ['wavlm.encoder.pos_conv_embed.conv.parametrizations.weight.original0', 'wavlm.encoder.pos_conv_embed.conv.parametrizations.weight.original1']\n",
            "You should probably TRAIN this model on a down-stream task to be able to use it for predictions and inference.\n",
            "It is strongly recommended to pass the ``sampling_rate`` argument to this function. Failing to do so can result in silent errors that might be hard to debug.\n",
            "/usr/local/lib/python3.10/dist-packages/torch/nn/functional.py:5109: UserWarning: Support for mismatched key_padding_mask and attn_mask is deprecated. Use same type for both instead.\n",
            "  warnings.warn(\n"
          ]
        },
        {
          "name": "stdout",
          "output_type": "stream",
          "text": [
            "CosineSimilarity()\n"
          ]
        },
        {
          "ename": "IndexError",
          "evalue": "index 1 is out of bounds for dimension 0 with size 1",
          "output_type": "error",
          "traceback": [
            "\u001b[0;31m---------------------------------------------------------------------------\u001b[0m",
            "\u001b[0;31mIndexError\u001b[0m                                Traceback (most recent call last)",
            "\u001b[0;32m<ipython-input-1-926c8e69be44>\u001b[0m in \u001b[0;36m<cell line: 17>\u001b[0;34m()\u001b[0m\n\u001b[1;32m     15\u001b[0m \u001b[0mcosine_sim\u001b[0m \u001b[0;34m=\u001b[0m \u001b[0mtorch\u001b[0m\u001b[0;34m.\u001b[0m\u001b[0mnn\u001b[0m\u001b[0;34m.\u001b[0m\u001b[0mCosineSimilarity\u001b[0m\u001b[0;34m(\u001b[0m\u001b[0mdim\u001b[0m\u001b[0;34m=\u001b[0m\u001b[0;34m-\u001b[0m\u001b[0;36m1\u001b[0m\u001b[0;34m)\u001b[0m\u001b[0;34m\u001b[0m\u001b[0;34m\u001b[0m\u001b[0m\n\u001b[1;32m     16\u001b[0m \u001b[0mprint\u001b[0m\u001b[0;34m(\u001b[0m\u001b[0mcosine_sim\u001b[0m\u001b[0;34m)\u001b[0m\u001b[0;34m\u001b[0m\u001b[0;34m\u001b[0m\u001b[0m\n\u001b[0;32m---> 17\u001b[0;31m \u001b[0msimilarity\u001b[0m \u001b[0;34m=\u001b[0m \u001b[0mcosine_sim\u001b[0m\u001b[0;34m(\u001b[0m\u001b[0membeddings\u001b[0m\u001b[0;34m[\u001b[0m\u001b[0;36m0\u001b[0m\u001b[0;34m]\u001b[0m\u001b[0;34m,\u001b[0m \u001b[0membeddings\u001b[0m\u001b[0;34m[\u001b[0m\u001b[0;36m1\u001b[0m\u001b[0;34m]\u001b[0m\u001b[0;34m)\u001b[0m\u001b[0;34m\u001b[0m\u001b[0;34m\u001b[0m\u001b[0m\n\u001b[0m\u001b[1;32m     18\u001b[0m \u001b[0mthreshold\u001b[0m \u001b[0;34m=\u001b[0m \u001b[0;36m0.86\u001b[0m  \u001b[0;31m# the optimal threshold is dataset-dependent\u001b[0m\u001b[0;34m\u001b[0m\u001b[0;34m\u001b[0m\u001b[0m\n\u001b[1;32m     19\u001b[0m \u001b[0;32mif\u001b[0m \u001b[0msimilarity\u001b[0m \u001b[0;34m<\u001b[0m \u001b[0mthreshold\u001b[0m\u001b[0;34m:\u001b[0m\u001b[0;34m\u001b[0m\u001b[0;34m\u001b[0m\u001b[0m\n",
            "\u001b[0;31mIndexError\u001b[0m: index 1 is out of bounds for dimension 0 with size 1"
          ]
        }
      ],
      "source": [
        "from transformers import Wav2Vec2FeatureExtractor, WavLMForXVector\n",
        "from datasets import load_dataset\n",
        "import torch\n",
        "\n",
        "dataset = load_dataset(\"hf-internal-testing/librispeech_asr_demo\", \"clean\", split=\"validation\")\n",
        "feature_extractor = Wav2Vec2FeatureExtractor.from_pretrained('microsoft/wavlm-base-sv')\n",
        "model = WavLMForXVector.from_pretrained('microsoft/wavlm-base-sv')\n",
        "\n",
        "# audio files are decoded on the fly\n",
        "inputs = feature_extractor(dataset[:2][\"audio\"][0][\"array\"], return_tensors=\"pt\")\n",
        "embeddings = model(**inputs).embeddings\n",
        "embeddings = torch.nn.functional.normalize(embeddings, dim=-1).cpu()\n",
        "\n",
        "# the resulting embeddings can be used for cosine similarity-based retrieval\n",
        "cosine_sim = torch.nn.CosineSimilarity(dim=-1)\n",
        "print(cosine_sim)\n",
        "similarity = cosine_sim(embeddings[0], embeddings[1])\n",
        "threshold = 0.86  # the optimal threshold is dataset-dependent\n",
        "if similarity < threshold:\n",
        "    print(\"Speakers are not the same!\")\n"
      ]
    },
    {
      "cell_type": "markdown",
      "metadata": {
        "id": "gaI4kvuc8jn_"
      },
      "source": [
        "# Question 2"
      ]
    },
    {
      "cell_type": "code",
      "execution_count": null,
      "metadata": {
        "colab": {
          "base_uri": "https://localhost:8080/"
        },
        "id": "KyI-IDuwFAoO",
        "outputId": "b208a735-a583-4bde-e724-9a167eeeb9ca"
      },
      "outputs": [
        {
          "name": "stdout",
          "output_type": "stream",
          "text": [
            "3.10.12 (main, Nov 20 2023, 15:14:05) [GCC 11.4.0]\n"
          ]
        }
      ],
      "source": [
        "import sys\n",
        "print(sys.version)"
      ]
    },
    {
      "cell_type": "markdown",
      "metadata": {
        "id": "GRhim3kl_2PB"
      },
      "source": [
        "## Basic stuff"
      ]
    },
    {
      "cell_type": "code",
      "execution_count": null,
      "metadata": {
        "colab": {
          "base_uri": "https://localhost:8080/"
        },
        "id": "RolwS3uc8kzt",
        "outputId": "2df03f05-ff96-4b9c-b06a-59f861be96ae"
      },
      "outputs": [
        {
          "name": "stdout",
          "output_type": "stream",
          "text": [
            "Mounted at /content/drive\n"
          ]
        }
      ],
      "source": [
        "from google.colab import drive\n",
        "drive.mount('/content/drive')"
      ]
    },
    {
      "cell_type": "code",
      "execution_count": null,
      "metadata": {
        "colab": {
          "base_uri": "https://localhost:8080/"
        },
        "id": "h2RBhsV6xPEx",
        "outputId": "428d318c-680a-47ba-eea5-3eb2666414a4"
      },
      "outputs": [
        {
          "name": "stdout",
          "output_type": "stream",
          "text": [
            "/content/drive/MyDrive/Colab Notebooks/IITJodhpur/Semester5/Speech Analytics/Assignment2/Ankit\n"
          ]
        }
      ],
      "source": [
        "%cd '/content/drive/MyDrive/Colab Notebooks/IITJodhpur/Semester5/Speech Analytics/Assignment2/Ankit'"
      ]
    },
    {
      "cell_type": "code",
      "execution_count": null,
      "metadata": {
        "colab": {
          "background_save": true,
          "base_uri": "https://localhost:8080/"
        },
        "id": "oBiB-AB48omG",
        "outputId": "31455ae0-5e0b-4b4d-82d5-17677089acb2"
      },
      "outputs": [
        {
          "name": "stdout",
          "output_type": "stream",
          "text": [
            "Collecting speechbrain\n",
            "  Downloading speechbrain-1.0.0-py3-none-any.whl (760 kB)\n",
            "\u001b[2K     \u001b[90m━━━━━━━━━━━━━━━━━━━━━━━━━━━━━━━━━━━━━━━━\u001b[0m \u001b[32m760.1/760.1 kB\u001b[0m \u001b[31m4.2 MB/s\u001b[0m eta \u001b[36m0:00:00\u001b[0m\n",
            "\u001b[?25hCollecting hyperpyyaml (from speechbrain)\n",
            "  Downloading HyperPyYAML-1.2.2-py3-none-any.whl (16 kB)\n",
            "Requirement already satisfied: joblib in /usr/local/lib/python3.10/dist-packages (from speechbrain) (1.3.2)\n",
            "Requirement already satisfied: numpy in /usr/local/lib/python3.10/dist-packages (from speechbrain) (1.25.2)\n",
            "Requirement already satisfied: packaging in /usr/local/lib/python3.10/dist-packages (from speechbrain) (24.0)\n",
            "Requirement already satisfied: scipy in /usr/local/lib/python3.10/dist-packages (from speechbrain) (1.11.4)\n",
            "Requirement already satisfied: sentencepiece in /usr/local/lib/python3.10/dist-packages (from speechbrain) (0.1.99)\n",
            "Requirement already satisfied: torch>=1.9 in /usr/local/lib/python3.10/dist-packages (from speechbrain) (2.2.1+cu121)\n",
            "Requirement already satisfied: torchaudio in /usr/local/lib/python3.10/dist-packages (from speechbrain) (2.2.1+cu121)\n",
            "Requirement already satisfied: tqdm in /usr/local/lib/python3.10/dist-packages (from speechbrain) (4.66.2)\n",
            "Requirement already satisfied: huggingface-hub in /usr/local/lib/python3.10/dist-packages (from speechbrain) (0.20.3)\n",
            "Requirement already satisfied: filelock in /usr/local/lib/python3.10/dist-packages (from torch>=1.9->speechbrain) (3.13.3)\n",
            "Requirement already satisfied: typing-extensions>=4.8.0 in /usr/local/lib/python3.10/dist-packages (from torch>=1.9->speechbrain) (4.10.0)\n",
            "Requirement already satisfied: sympy in /usr/local/lib/python3.10/dist-packages (from torch>=1.9->speechbrain) (1.12)\n",
            "Requirement already satisfied: networkx in /usr/local/lib/python3.10/dist-packages (from torch>=1.9->speechbrain) (3.2.1)\n",
            "Requirement already satisfied: jinja2 in /usr/local/lib/python3.10/dist-packages (from torch>=1.9->speechbrain) (3.1.3)\n",
            "Requirement already satisfied: fsspec in /usr/local/lib/python3.10/dist-packages (from torch>=1.9->speechbrain) (2023.6.0)\n",
            "Collecting nvidia-cuda-nvrtc-cu12==12.1.105 (from torch>=1.9->speechbrain)\n",
            "  Downloading nvidia_cuda_nvrtc_cu12-12.1.105-py3-none-manylinux1_x86_64.whl (23.7 MB)\n",
            "\u001b[2K     \u001b[90m━━━━━━━━━━━━━━━━━━━━━━━━━━━━━━━━━━━━━━━━\u001b[0m \u001b[32m23.7/23.7 MB\u001b[0m \u001b[31m35.8 MB/s\u001b[0m eta \u001b[36m0:00:00\u001b[0m\n",
            "\u001b[?25hCollecting nvidia-cuda-runtime-cu12==12.1.105 (from torch>=1.9->speechbrain)\n",
            "  Downloading nvidia_cuda_runtime_cu12-12.1.105-py3-none-manylinux1_x86_64.whl (823 kB)\n",
            "\u001b[2K     \u001b[90m━━━━━━━━━━━━━━━━━━━━━━━━━━━━━━━━━━━━━━━━\u001b[0m \u001b[32m823.6/823.6 kB\u001b[0m \u001b[31m58.2 MB/s\u001b[0m eta \u001b[36m0:00:00\u001b[0m\n",
            "\u001b[?25hCollecting nvidia-cuda-cupti-cu12==12.1.105 (from torch>=1.9->speechbrain)\n",
            "  Downloading nvidia_cuda_cupti_cu12-12.1.105-py3-none-manylinux1_x86_64.whl (14.1 MB)\n",
            "\u001b[2K     \u001b[90m━━━━━━━━━━━━━━━━━━━━━━━━━━━━━━━━━━━━━━━━\u001b[0m \u001b[32m14.1/14.1 MB\u001b[0m \u001b[31m50.9 MB/s\u001b[0m eta \u001b[36m0:00:00\u001b[0m\n",
            "\u001b[?25hCollecting nvidia-cudnn-cu12==8.9.2.26 (from torch>=1.9->speechbrain)\n",
            "  Downloading nvidia_cudnn_cu12-8.9.2.26-py3-none-manylinux1_x86_64.whl (731.7 MB)\n",
            "\u001b[2K     \u001b[90m━━━━━━━━━━━━━━━━━━━━━━━━━━━━━━━━━━━━━━━━\u001b[0m \u001b[32m731.7/731.7 MB\u001b[0m \u001b[31m1.3 MB/s\u001b[0m eta \u001b[36m0:00:00\u001b[0m\n",
            "\u001b[?25hCollecting nvidia-cublas-cu12==12.1.3.1 (from torch>=1.9->speechbrain)\n",
            "  Downloading nvidia_cublas_cu12-12.1.3.1-py3-none-manylinux1_x86_64.whl (410.6 MB)\n",
            "\u001b[2K     \u001b[90m━━━━━━━━━━━━━━━━━━━━━━━━━━━━━━━━━━━━━━━━\u001b[0m \u001b[32m410.6/410.6 MB\u001b[0m \u001b[31m2.2 MB/s\u001b[0m eta \u001b[36m0:00:00\u001b[0m\n",
            "\u001b[?25hCollecting nvidia-cufft-cu12==11.0.2.54 (from torch>=1.9->speechbrain)\n",
            "  Downloading nvidia_cufft_cu12-11.0.2.54-py3-none-manylinux1_x86_64.whl (121.6 MB)\n",
            "\u001b[2K     \u001b[90m━━━━━━━━━━━━━━━━━━━━━━━━━━━━━━━━━━━━━━━━\u001b[0m \u001b[32m121.6/121.6 MB\u001b[0m \u001b[31m4.3 MB/s\u001b[0m eta \u001b[36m0:00:00\u001b[0m\n",
            "\u001b[?25hCollecting nvidia-curand-cu12==10.3.2.106 (from torch>=1.9->speechbrain)\n",
            "  Downloading nvidia_curand_cu12-10.3.2.106-py3-none-manylinux1_x86_64.whl (56.5 MB)\n",
            "\u001b[2K     \u001b[90m━━━━━━━━━━━━━━━━━━━━━━━━━━━━━━━━━━━━━━━━\u001b[0m \u001b[32m56.5/56.5 MB\u001b[0m \u001b[31m7.0 MB/s\u001b[0m eta \u001b[36m0:00:00\u001b[0m\n",
            "\u001b[?25hCollecting nvidia-cusolver-cu12==11.4.5.107 (from torch>=1.9->speechbrain)\n",
            "  Downloading nvidia_cusolver_cu12-11.4.5.107-py3-none-manylinux1_x86_64.whl (124.2 MB)\n",
            "\u001b[2K     \u001b[90m━━━━━━━━━━━━━━━━━━━━━━━━━━━━━━━━━━━━━━━━\u001b[0m \u001b[32m124.2/124.2 MB\u001b[0m \u001b[31m4.7 MB/s\u001b[0m eta \u001b[36m0:00:00\u001b[0m\n",
            "\u001b[?25hCollecting nvidia-cusparse-cu12==12.1.0.106 (from torch>=1.9->speechbrain)\n",
            "  Downloading nvidia_cusparse_cu12-12.1.0.106-py3-none-manylinux1_x86_64.whl (196.0 MB)\n",
            "\u001b[2K     \u001b[90m━━━━━━━━━━━━━━━━━━━━━━━━━━━━━━━━━━━━━━━━\u001b[0m \u001b[32m196.0/196.0 MB\u001b[0m \u001b[31m3.7 MB/s\u001b[0m eta \u001b[36m0:00:00\u001b[0m\n",
            "\u001b[?25hCollecting nvidia-nccl-cu12==2.19.3 (from torch>=1.9->speechbrain)\n",
            "  Downloading nvidia_nccl_cu12-2.19.3-py3-none-manylinux1_x86_64.whl (166.0 MB)\n",
            "\u001b[2K     \u001b[90m━━━━━━━━━━━━━━━━━━━━━━━━━━━━━━━━━━━━━━━━\u001b[0m \u001b[32m166.0/166.0 MB\u001b[0m \u001b[31m4.9 MB/s\u001b[0m eta \u001b[36m0:00:00\u001b[0m\n",
            "\u001b[?25hCollecting nvidia-nvtx-cu12==12.1.105 (from torch>=1.9->speechbrain)\n",
            "  Downloading nvidia_nvtx_cu12-12.1.105-py3-none-manylinux1_x86_64.whl (99 kB)\n",
            "\u001b[2K     \u001b[90m━━━━━━━━━━━━━━━━━━━━━━━━━━━━━━━━━━━━━━━━\u001b[0m \u001b[32m99.1/99.1 kB\u001b[0m \u001b[31m10.5 MB/s\u001b[0m eta \u001b[36m0:00:00\u001b[0m\n",
            "\u001b[?25hRequirement already satisfied: triton==2.2.0 in /usr/local/lib/python3.10/dist-packages (from torch>=1.9->speechbrain) (2.2.0)\n",
            "Collecting nvidia-nvjitlink-cu12 (from nvidia-cusolver-cu12==11.4.5.107->torch>=1.9->speechbrain)\n",
            "  Downloading nvidia_nvjitlink_cu12-12.4.127-py3-none-manylinux2014_x86_64.whl (21.1 MB)\n",
            "\u001b[2K     \u001b[90m━━━━━━━━━━━━━━━━━━━━━━━━━━━━━━━━━━━━━━━━\u001b[0m \u001b[32m21.1/21.1 MB\u001b[0m \u001b[31m10.3 MB/s\u001b[0m eta \u001b[36m0:00:00\u001b[0m\n",
            "\u001b[?25hRequirement already satisfied: requests in /usr/local/lib/python3.10/dist-packages (from huggingface-hub->speechbrain) (2.31.0)\n",
            "Requirement already satisfied: pyyaml>=5.1 in /usr/local/lib/python3.10/dist-packages (from huggingface-hub->speechbrain) (6.0.1)\n",
            "Collecting ruamel.yaml>=0.17.28 (from hyperpyyaml->speechbrain)\n",
            "  Downloading ruamel.yaml-0.18.6-py3-none-any.whl (117 kB)\n",
            "\u001b[2K     \u001b[90m━━━━━━━━━━━━━━━━━━━━━━━━━━━━━━━━━━━━━━━━\u001b[0m \u001b[32m117.8/117.8 kB\u001b[0m \u001b[31m11.1 MB/s\u001b[0m eta \u001b[36m0:00:00\u001b[0m\n",
            "\u001b[?25hCollecting ruamel.yaml.clib>=0.2.7 (from ruamel.yaml>=0.17.28->hyperpyyaml->speechbrain)\n",
            "  Downloading ruamel.yaml.clib-0.2.8-cp310-cp310-manylinux_2_17_x86_64.manylinux2014_x86_64.manylinux_2_24_x86_64.whl (526 kB)\n",
            "\u001b[2K     \u001b[90m━━━━━━━━━━━━━━━━━━━━━━━━━━━━━━━━━━━━━━━━\u001b[0m \u001b[32m526.7/526.7 kB\u001b[0m \u001b[31m10.6 MB/s\u001b[0m eta \u001b[36m0:00:00\u001b[0m\n",
            "\u001b[?25hRequirement already satisfied: MarkupSafe>=2.0 in /usr/local/lib/python3.10/dist-packages (from jinja2->torch>=1.9->speechbrain) (2.1.5)\n",
            "Requirement already satisfied: charset-normalizer<4,>=2 in /usr/local/lib/python3.10/dist-packages (from requests->huggingface-hub->speechbrain) (3.3.2)\n",
            "Requirement already satisfied: idna<4,>=2.5 in /usr/local/lib/python3.10/dist-packages (from requests->huggingface-hub->speechbrain) (3.6)\n",
            "Requirement already satisfied: urllib3<3,>=1.21.1 in /usr/local/lib/python3.10/dist-packages (from requests->huggingface-hub->speechbrain) (2.0.7)\n",
            "Requirement already satisfied: certifi>=2017.4.17 in /usr/local/lib/python3.10/dist-packages (from requests->huggingface-hub->speechbrain) (2024.2.2)\n",
            "Requirement already satisfied: mpmath>=0.19 in /usr/local/lib/python3.10/dist-packages (from sympy->torch>=1.9->speechbrain) (1.3.0)\n",
            "Installing collected packages: ruamel.yaml.clib, nvidia-nvtx-cu12, nvidia-nvjitlink-cu12, nvidia-nccl-cu12, nvidia-curand-cu12, nvidia-cufft-cu12, nvidia-cuda-runtime-cu12, nvidia-cuda-nvrtc-cu12, nvidia-cuda-cupti-cu12, nvidia-cublas-cu12, ruamel.yaml, nvidia-cusparse-cu12, nvidia-cudnn-cu12, nvidia-cusolver-cu12, hyperpyyaml, speechbrain\n",
            "Successfully installed hyperpyyaml-1.2.2 nvidia-cublas-cu12-12.1.3.1 nvidia-cuda-cupti-cu12-12.1.105 nvidia-cuda-nvrtc-cu12-12.1.105 nvidia-cuda-runtime-cu12-12.1.105 nvidia-cudnn-cu12-8.9.2.26 nvidia-cufft-cu12-11.0.2.54 nvidia-curand-cu12-10.3.2.106 nvidia-cusolver-cu12-11.4.5.107 nvidia-cusparse-cu12-12.1.0.106 nvidia-nccl-cu12-2.19.3 nvidia-nvjitlink-cu12-12.4.127 nvidia-nvtx-cu12-12.1.105 ruamel.yaml-0.18.6 ruamel.yaml.clib-0.2.8 speechbrain-1.0.0\n"
          ]
        }
      ],
      "source": [
        "!pip install speechbrain"
      ]
    },
    {
      "cell_type": "code",
      "execution_count": null,
      "metadata": {
        "id": "CO4f4rP79Qgm"
      },
      "outputs": [],
      "source": [
        "zip_file_name = '/content/drive/MyDrive/Colab Notebooks/IITJodhpur/Semester5/Speech Analytics/Assignment2/mix_clean.zip'"
      ]
    },
    {
      "cell_type": "code",
      "execution_count": null,
      "metadata": {
        "id": "kSX0jpYl-Cyi"
      },
      "outputs": [],
      "source": [
        "import os\n",
        "import zipfile\n",
        "\n",
        "# Specify the directory where you want to extract the contents\n",
        "extract_path = \"/content/drive/MyDrive/Colab Notebooks/IITJodhpur/Semester5/Speech Analytics/Assignment2\"\n",
        "\n",
        "# Create the extraction directory if it doesn't exist\n",
        "!mkdir -p $extract_path\n",
        "\n",
        "# Extract the contents\n",
        "with zipfile.ZipFile(zip_file_name, 'r') as zip_ref:\n",
        "    zip_ref.extractall(extract_path)\n"
      ]
    },
    {
      "cell_type": "code",
      "source": [
        "zip_file_name = '/content/drive/MyDrive/Colab Notebooks/IITJodhpur/Semester5/Speech Analytics/Assignment2/s1.zip'"
      ],
      "metadata": {
        "id": "_PuQ1OFhWKmj"
      },
      "execution_count": null,
      "outputs": []
    },
    {
      "cell_type": "code",
      "source": [
        "import os\n",
        "import zipfile\n",
        "\n",
        "# Specify the directory where you want to extract the contents\n",
        "extract_path = \"/content/drive/MyDrive/Colab Notebooks/IITJodhpur/Semester5/Speech Analytics/Assignment2\"\n",
        "\n",
        "# Create the extraction directory if it doesn't exist\n",
        "!mkdir -p $extract_path\n",
        "\n",
        "# Extract the contents\n",
        "with zipfile.ZipFile(zip_file_name, 'r') as zip_ref:\n",
        "    zip_ref.extractall(extract_path)"
      ],
      "metadata": {
        "id": "ujp3YmHGWOhi"
      },
      "execution_count": null,
      "outputs": []
    },
    {
      "cell_type": "markdown",
      "metadata": {
        "id": "dhQFpP5d_5bQ"
      },
      "source": [
        "## Train-Test Split, partition the resulting LibriMix dataset into a 70-30 split for training and testing purposes."
      ]
    },
    {
      "cell_type": "code",
      "execution_count": null,
      "metadata": {
        "id": "LaC97-y3-fwP",
        "colab": {
          "base_uri": "https://localhost:8080/"
        },
        "outputId": "5b58db72-d151-4fc8-99d8-33dac9efbe6d"
      },
      "outputs": [
        {
          "output_type": "execute_result",
          "data": {
            "text/plain": [
              "['6930-81414-0007_3570-5694-0017.wav',\n",
              " '260-123286-0027_6930-75918-0011.wav',\n",
              " '4970-29095-0038_5142-33396-0003.wav',\n",
              " '1284-1180-0017_2094-142345-0001.wav',\n",
              " '61-70970-0035_5142-33396-0012.wav']"
            ]
          },
          "metadata": {},
          "execution_count": 12
        }
      ],
      "source": [
        "from sklearn.model_selection import train_test_split\n",
        "# Assuming your dataset directory is '/content/mix_clean'\n",
        "dataset_dir = '/content/drive/MyDrive/Colab Notebooks/IITJodhpur/Semester5/Speech Analytics/Assignment2/mix_clean'\n",
        "\n",
        "# Get a list of filenames in your dataset directory\n",
        "filenames = os.listdir(dataset_dir)\n",
        "\n",
        "filenames[:5]"
      ]
    },
    {
      "cell_type": "code",
      "source": [
        "# Splitting the dataset into train and test sets\n",
        "train_files, test_files = train_test_split(filenames, test_size=0.3, random_state=42)\n",
        "\n",
        "# Print the number of samples in train and test sets\n",
        "print(\"Number of samples in train set:\", len(train_files))\n",
        "print(\"Number of samples in test set:\", len(test_files))"
      ],
      "metadata": {
        "colab": {
          "base_uri": "https://localhost:8080/"
        },
        "id": "b75HyYZ4XVvq",
        "outputId": "5a860c89-b825-47f4-db7d-270f654429be"
      },
      "execution_count": null,
      "outputs": [
        {
          "output_type": "stream",
          "name": "stdout",
          "text": [
            "Number of samples in train set: 2100\n",
            "Number of samples in test set: 900\n"
          ]
        }
      ]
    },
    {
      "cell_type": "markdown",
      "metadata": {
        "id": "7gcMbve8_-aY"
      },
      "source": [
        "## Testing with Single .wav file"
      ]
    },
    {
      "cell_type": "code",
      "execution_count": null,
      "metadata": {
        "id": "YdvbMIuxCPTS"
      },
      "outputs": [],
      "source": [
        "audio_path = '/content/drive/MyDrive/Colab Notebooks/IITJodhpur/Semester5/Speech Analytics/Assignment2/mix_clean/61-70968-0003_2961-960-0017.wav'"
      ]
    },
    {
      "cell_type": "code",
      "execution_count": null,
      "metadata": {
        "id": "zY2c88iALfqr",
        "colab": {
          "base_uri": "https://localhost:8080/"
        },
        "outputId": "3cb4c535-5648-46d1-d99f-09093bf12316"
      },
      "outputs": [
        {
          "output_type": "stream",
          "name": "stdout",
          "text": [
            "Requirement already satisfied: torchaudio in /usr/local/lib/python3.10/dist-packages (2.2.1+cu121)\n",
            "Requirement already satisfied: torch==2.2.1 in /usr/local/lib/python3.10/dist-packages (from torchaudio) (2.2.1+cu121)\n",
            "Requirement already satisfied: filelock in /usr/local/lib/python3.10/dist-packages (from torch==2.2.1->torchaudio) (3.13.3)\n",
            "Requirement already satisfied: typing-extensions>=4.8.0 in /usr/local/lib/python3.10/dist-packages (from torch==2.2.1->torchaudio) (4.10.0)\n",
            "Requirement already satisfied: sympy in /usr/local/lib/python3.10/dist-packages (from torch==2.2.1->torchaudio) (1.12)\n",
            "Requirement already satisfied: networkx in /usr/local/lib/python3.10/dist-packages (from torch==2.2.1->torchaudio) (3.2.1)\n",
            "Requirement already satisfied: jinja2 in /usr/local/lib/python3.10/dist-packages (from torch==2.2.1->torchaudio) (3.1.3)\n",
            "Requirement already satisfied: fsspec in /usr/local/lib/python3.10/dist-packages (from torch==2.2.1->torchaudio) (2023.6.0)\n",
            "Requirement already satisfied: nvidia-cuda-nvrtc-cu12==12.1.105 in /usr/local/lib/python3.10/dist-packages (from torch==2.2.1->torchaudio) (12.1.105)\n",
            "Requirement already satisfied: nvidia-cuda-runtime-cu12==12.1.105 in /usr/local/lib/python3.10/dist-packages (from torch==2.2.1->torchaudio) (12.1.105)\n",
            "Requirement already satisfied: nvidia-cuda-cupti-cu12==12.1.105 in /usr/local/lib/python3.10/dist-packages (from torch==2.2.1->torchaudio) (12.1.105)\n",
            "Requirement already satisfied: nvidia-cudnn-cu12==8.9.2.26 in /usr/local/lib/python3.10/dist-packages (from torch==2.2.1->torchaudio) (8.9.2.26)\n",
            "Requirement already satisfied: nvidia-cublas-cu12==12.1.3.1 in /usr/local/lib/python3.10/dist-packages (from torch==2.2.1->torchaudio) (12.1.3.1)\n",
            "Requirement already satisfied: nvidia-cufft-cu12==11.0.2.54 in /usr/local/lib/python3.10/dist-packages (from torch==2.2.1->torchaudio) (11.0.2.54)\n",
            "Requirement already satisfied: nvidia-curand-cu12==10.3.2.106 in /usr/local/lib/python3.10/dist-packages (from torch==2.2.1->torchaudio) (10.3.2.106)\n",
            "Requirement already satisfied: nvidia-cusolver-cu12==11.4.5.107 in /usr/local/lib/python3.10/dist-packages (from torch==2.2.1->torchaudio) (11.4.5.107)\n",
            "Requirement already satisfied: nvidia-cusparse-cu12==12.1.0.106 in /usr/local/lib/python3.10/dist-packages (from torch==2.2.1->torchaudio) (12.1.0.106)\n",
            "Requirement already satisfied: nvidia-nccl-cu12==2.19.3 in /usr/local/lib/python3.10/dist-packages (from torch==2.2.1->torchaudio) (2.19.3)\n",
            "Requirement already satisfied: nvidia-nvtx-cu12==12.1.105 in /usr/local/lib/python3.10/dist-packages (from torch==2.2.1->torchaudio) (12.1.105)\n",
            "Requirement already satisfied: triton==2.2.0 in /usr/local/lib/python3.10/dist-packages (from torch==2.2.1->torchaudio) (2.2.0)\n",
            "Requirement already satisfied: nvidia-nvjitlink-cu12 in /usr/local/lib/python3.10/dist-packages (from nvidia-cusolver-cu12==11.4.5.107->torch==2.2.1->torchaudio) (12.4.127)\n",
            "Requirement already satisfied: MarkupSafe>=2.0 in /usr/local/lib/python3.10/dist-packages (from jinja2->torch==2.2.1->torchaudio) (2.1.5)\n",
            "Requirement already satisfied: mpmath>=0.19 in /usr/local/lib/python3.10/dist-packages (from sympy->torch==2.2.1->torchaudio) (1.3.0)\n"
          ]
        }
      ],
      "source": [
        "!pip install torchaudio"
      ]
    },
    {
      "cell_type": "code",
      "execution_count": null,
      "metadata": {
        "id": "GOy0mL-GCAFd",
        "colab": {
          "base_uri": "https://localhost:8080/",
          "height": 93
        },
        "outputId": "df8c73da-3fbe-4440-aca2-fbcf1cdde352"
      },
      "outputs": [
        {
          "output_type": "stream",
          "name": "stdout",
          "text": [
            "Original Source:\n"
          ]
        },
        {
          "output_type": "display_data",
          "data": {
            "text/plain": [
              "<IPython.lib.display.Audio object>"
            ],
            "text/html": [
              "\n",
              "                <audio  controls=\"controls\" >\n",
              "                    <source src=\"data:audio/wav;base64,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\" type=\"audio/wav\" />\n",
              "                    Your browser does not support the audio element.\n",
              "                </audio>\n",
              "              "
            ]
          },
          "metadata": {}
        }
      ],
      "source": [
        "import torchaudio\n",
        "from IPython.display import display, Audio\n",
        "original_audio, sr = torchaudio.load(audio_path)\n",
        "\n",
        "# Display original audio player\n",
        "print(\"Original Source:\")\n",
        "display(Audio(data=original_audio.squeeze().numpy(), rate=sr))"
      ]
    },
    {
      "cell_type": "code",
      "execution_count": null,
      "metadata": {
        "id": "KDXQ9THzFqn6",
        "colab": {
          "base_uri": "https://localhost:8080/",
          "height": 36
        },
        "outputId": "92928e96-f343-4dda-907c-fbc6d14ca255"
      },
      "outputs": [
        {
          "output_type": "execute_result",
          "data": {
            "text/plain": [
              "'/content/drive/MyDrive/Colab Notebooks/IITJodhpur/Semester5/Speech Analytics/Assignment2/mix_clean/61-70968-0003_2961-960-0017.wav'"
            ],
            "application/vnd.google.colaboratory.intrinsic+json": {
              "type": "string"
            }
          },
          "metadata": {},
          "execution_count": 17
        }
      ],
      "source": [
        "audio_path"
      ]
    },
    {
      "cell_type": "code",
      "execution_count": null,
      "metadata": {
        "id": "ys5XmV27CApC",
        "colab": {
          "base_uri": "https://localhost:8080/",
          "height": 260,
          "referenced_widgets": [
            "4fbe368552a74533b0fdb638a46bb6a6",
            "10a60596b06d4e2da4f223199357ad76",
            "03bee9640ac14934ba4426a7e84c21e1",
            "74e04c75c52546f4b93ba029d3584f26",
            "b836543fa05c47b5af744cc0e9999f5c",
            "a26809c50e2147caa62a4afdf151894d",
            "ff0ef90b8ac64eaabb863068b4d82971",
            "7e630ca6898e41e09dc5ed408f8b8244",
            "993b82ff2b7248fb98a4fee15c22e4be",
            "2dfde904c46b474dbc4dea78aa65bfde",
            "aecd392835744634b693e22c1c6f72f0",
            "ce364177007d451997d46ee4dcb49c71",
            "cc48c8562c924cea9e08a077de3b9c02",
            "cff23d37671c4a8bb663056480546ccd",
            "44ac7d0d582344f3903cac000214cd75",
            "9c551392aadd45e3b32856266ffac563",
            "fe8855e3ce1d427ba06625b3f656c3ce",
            "c654ae4dc6b1487da6f27191fbc87132",
            "5f95c67842d04e1eb382f162f554dc16",
            "388332a89d29428d8524c4362f6d7fc5",
            "a90bcc3ddbdf44089e2408a9bbbec8df",
            "93097d864566467196a3d28f8c800803",
            "39801e4d160f491a9f0506b3fc890c9c",
            "c2c6ab4bbbb5423dbce376070507c053",
            "96218714dd504a4fb9b255ef69563138",
            "ba41673144cb4d43b4675cadb660a972",
            "b62f488d5f244b409cc53d9252636a0d",
            "b6da77ab46954d6c8cadbeafa1388a75",
            "4ecf80083af1476e8ccda246d13a3642",
            "aa407d9f71c4466e8990e596b197ebdb",
            "455278e7230844d890f094e373a33f60",
            "89fd43f970d348e884ad81a6982510e5",
            "3df4594bbe1e4e61854a233d5d234598",
            "2129e141cccc48119f3e2d00c7deb378",
            "4538e5e7836a4d168201e837e4b708fb",
            "8822cca2e1a94943b67caae0f2510a10",
            "4c32e970a8a6457fb1387ea09b6a41fb",
            "071228e8354c458c9338a3d8f1882cdb",
            "7eff27b5793e448a8e7ade8f5261f513",
            "31df84e48ce84b308ade1984417cb2a8",
            "f6e12c6c231b4302ad265222fa6b1ac7",
            "f1e2e58659f44843af8de501a8c6fdcc",
            "af958b0942184a6589c929f6281a8281",
            "bc3b01dd20dc4101a014bd0d9c7bb276"
          ]
        },
        "outputId": "dc3a8290-34d4-4a14-8ef5-6abe2cf28d2d"
      },
      "outputs": [
        {
          "output_type": "display_data",
          "data": {
            "text/plain": [
              "hyperparams.yaml:   0%|          | 0.00/1.51k [00:00<?, ?B/s]"
            ],
            "application/vnd.jupyter.widget-view+json": {
              "version_major": 2,
              "version_minor": 0,
              "model_id": "4fbe368552a74533b0fdb638a46bb6a6"
            }
          },
          "metadata": {}
        },
        {
          "output_type": "display_data",
          "data": {
            "text/plain": [
              "masknet.ckpt:   0%|          | 0.00/113M [00:00<?, ?B/s]"
            ],
            "application/vnd.jupyter.widget-view+json": {
              "version_major": 2,
              "version_minor": 0,
              "model_id": "ce364177007d451997d46ee4dcb49c71"
            }
          },
          "metadata": {}
        },
        {
          "output_type": "display_data",
          "data": {
            "text/plain": [
              "encoder.ckpt:   0%|          | 0.00/17.3k [00:00<?, ?B/s]"
            ],
            "application/vnd.jupyter.widget-view+json": {
              "version_major": 2,
              "version_minor": 0,
              "model_id": "39801e4d160f491a9f0506b3fc890c9c"
            }
          },
          "metadata": {}
        },
        {
          "output_type": "display_data",
          "data": {
            "text/plain": [
              "decoder.ckpt:   0%|          | 0.00/17.3k [00:00<?, ?B/s]"
            ],
            "application/vnd.jupyter.widget-view+json": {
              "version_major": 2,
              "version_minor": 0,
              "model_id": "2129e141cccc48119f3e2d00c7deb378"
            }
          },
          "metadata": {}
        },
        {
          "output_type": "display_data",
          "data": {
            "text/plain": [
              "<IPython.lib.display.Audio object>"
            ],
            "text/html": [
              "\n",
              "                <audio  controls=\"controls\" >\n",
              "                    <source src=\"data:audio/wav;base64,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\" type=\"audio/wav\" />\n",
              "                    Your browser does not support the audio element.\n",
              "                </audio>\n",
              "              "
            ]
          },
          "metadata": {}
        },
        {
          "output_type": "display_data",
          "data": {
            "text/plain": [
              "<IPython.lib.display.Audio object>"
            ],
            "text/html": [
              "\n",
              "                <audio  controls=\"controls\" >\n",
              "                    <source src=\"data:audio/wav;base64,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\" type=\"audio/wav\" />\n",
              "                    Your browser does not support the audio element.\n",
              "                </audio>\n",
              "              "
            ]
          },
          "metadata": {}
        }
      ],
      "source": [
        "from speechbrain.inference.separation import SepformerSeparation as separator\n",
        "import torchaudio\n",
        "from IPython.display import display, Audio\n",
        "\n",
        "model = separator.from_hparams(source=\"speechbrain/sepformer-whamr\", savedir='pretrained_models/sepformer-whamr')\n",
        "\n",
        "est_sources = model.separate_file(path=audio_path, savedir='/audio_cache')\n",
        "\n",
        "# Display pop-up audio player for the estimated sources\n",
        "display(Audio(data=est_sources[:, :, 0].detach().cpu(), rate=8000))\n",
        "display(Audio(data=est_sources[:, :, 1].detach().cpu(), rate=8000))"
      ]
    },
    {
      "cell_type": "markdown",
      "source": [
        "## Evaluate the performance of the pre-trained SepFormer on the testing set, employing scale-invariant signalto-noise ratio improvement (SISNRi) and signal-to-distortion ratio improvement (SDRi) as metrics"
      ],
      "metadata": {
        "id": "esg-1upjZ7TL"
      }
    },
    {
      "cell_type": "code",
      "source": [
        "!pip install mir_eval\n",
        "!pip install torchmetrics"
      ],
      "metadata": {
        "colab": {
          "base_uri": "https://localhost:8080/"
        },
        "id": "PbgiB4lIZ-Xd",
        "outputId": "5603edea-d3a1-4a4d-f3e7-dd26defe0f5d"
      },
      "execution_count": null,
      "outputs": [
        {
          "output_type": "stream",
          "name": "stdout",
          "text": [
            "Collecting mir_eval\n",
            "  Downloading mir_eval-0.7.tar.gz (90 kB)\n",
            "\u001b[?25l     \u001b[90m━━━━━━━━━━━━━━━━━━━━━━━━━━━━━━━━━━━━━━━━\u001b[0m \u001b[32m0.0/90.7 kB\u001b[0m \u001b[31m?\u001b[0m eta \u001b[36m-:--:--\u001b[0m\r\u001b[2K     \u001b[91m━━━━━━━━━━━━━\u001b[0m\u001b[91m╸\u001b[0m\u001b[90m━━━━━━━━━━━━━━━━━━━━━━━━━━\u001b[0m \u001b[32m30.7/90.7 kB\u001b[0m \u001b[31m824.9 kB/s\u001b[0m eta \u001b[36m0:00:01\u001b[0m\r\u001b[2K     \u001b[90m━━━━━━━━━━━━━━━━━━━━━━━━━━━━━━━━━━━━━━━━\u001b[0m \u001b[32m90.7/90.7 kB\u001b[0m \u001b[31m1.3 MB/s\u001b[0m eta \u001b[36m0:00:00\u001b[0m\n",
            "\u001b[?25h  Preparing metadata (setup.py) ... \u001b[?25l\u001b[?25hdone\n",
            "Requirement already satisfied: numpy>=1.7.0 in /usr/local/lib/python3.10/dist-packages (from mir_eval) (1.25.2)\n",
            "Requirement already satisfied: scipy>=1.0.0 in /usr/local/lib/python3.10/dist-packages (from mir_eval) (1.11.4)\n",
            "Requirement already satisfied: future in /usr/local/lib/python3.10/dist-packages (from mir_eval) (0.18.3)\n",
            "Requirement already satisfied: six in /usr/local/lib/python3.10/dist-packages (from mir_eval) (1.16.0)\n",
            "Building wheels for collected packages: mir_eval\n",
            "  Building wheel for mir_eval (setup.py) ... \u001b[?25l\u001b[?25hdone\n",
            "  Created wheel for mir_eval: filename=mir_eval-0.7-py3-none-any.whl size=100704 sha256=965da90700f0627def8447143501d1e84883dc4000ce98c8a299d807730dca8d\n",
            "  Stored in directory: /root/.cache/pip/wheels/3e/2f/0d/dda9c4c77a170e21356b6afa2f7d9bb078338634ba05d94e3f\n",
            "Successfully built mir_eval\n",
            "Installing collected packages: mir_eval\n",
            "Successfully installed mir_eval-0.7\n",
            "Collecting torchmetrics\n",
            "  Downloading torchmetrics-1.3.2-py3-none-any.whl (841 kB)\n",
            "\u001b[2K     \u001b[90m━━━━━━━━━━━━━━━━━━━━━━━━━━━━━━━━━━━━━━━━\u001b[0m \u001b[32m841.5/841.5 kB\u001b[0m \u001b[31m5.4 MB/s\u001b[0m eta \u001b[36m0:00:00\u001b[0m\n",
            "\u001b[?25hRequirement already satisfied: numpy>1.20.0 in /usr/local/lib/python3.10/dist-packages (from torchmetrics) (1.25.2)\n",
            "Requirement already satisfied: packaging>17.1 in /usr/local/lib/python3.10/dist-packages (from torchmetrics) (24.0)\n",
            "Requirement already satisfied: torch>=1.10.0 in /usr/local/lib/python3.10/dist-packages (from torchmetrics) (2.2.1+cu121)\n",
            "Collecting lightning-utilities>=0.8.0 (from torchmetrics)\n",
            "  Downloading lightning_utilities-0.11.2-py3-none-any.whl (26 kB)\n",
            "Requirement already satisfied: setuptools in /usr/local/lib/python3.10/dist-packages (from lightning-utilities>=0.8.0->torchmetrics) (67.7.2)\n",
            "Requirement already satisfied: typing-extensions in /usr/local/lib/python3.10/dist-packages (from lightning-utilities>=0.8.0->torchmetrics) (4.10.0)\n",
            "Requirement already satisfied: filelock in /usr/local/lib/python3.10/dist-packages (from torch>=1.10.0->torchmetrics) (3.13.3)\n",
            "Requirement already satisfied: sympy in /usr/local/lib/python3.10/dist-packages (from torch>=1.10.0->torchmetrics) (1.12)\n",
            "Requirement already satisfied: networkx in /usr/local/lib/python3.10/dist-packages (from torch>=1.10.0->torchmetrics) (3.2.1)\n",
            "Requirement already satisfied: jinja2 in /usr/local/lib/python3.10/dist-packages (from torch>=1.10.0->torchmetrics) (3.1.3)\n",
            "Requirement already satisfied: fsspec in /usr/local/lib/python3.10/dist-packages (from torch>=1.10.0->torchmetrics) (2023.6.0)\n",
            "Requirement already satisfied: nvidia-cuda-nvrtc-cu12==12.1.105 in /usr/local/lib/python3.10/dist-packages (from torch>=1.10.0->torchmetrics) (12.1.105)\n",
            "Requirement already satisfied: nvidia-cuda-runtime-cu12==12.1.105 in /usr/local/lib/python3.10/dist-packages (from torch>=1.10.0->torchmetrics) (12.1.105)\n",
            "Requirement already satisfied: nvidia-cuda-cupti-cu12==12.1.105 in /usr/local/lib/python3.10/dist-packages (from torch>=1.10.0->torchmetrics) (12.1.105)\n",
            "Requirement already satisfied: nvidia-cudnn-cu12==8.9.2.26 in /usr/local/lib/python3.10/dist-packages (from torch>=1.10.0->torchmetrics) (8.9.2.26)\n",
            "Requirement already satisfied: nvidia-cublas-cu12==12.1.3.1 in /usr/local/lib/python3.10/dist-packages (from torch>=1.10.0->torchmetrics) (12.1.3.1)\n",
            "Requirement already satisfied: nvidia-cufft-cu12==11.0.2.54 in /usr/local/lib/python3.10/dist-packages (from torch>=1.10.0->torchmetrics) (11.0.2.54)\n",
            "Requirement already satisfied: nvidia-curand-cu12==10.3.2.106 in /usr/local/lib/python3.10/dist-packages (from torch>=1.10.0->torchmetrics) (10.3.2.106)\n",
            "Requirement already satisfied: nvidia-cusolver-cu12==11.4.5.107 in /usr/local/lib/python3.10/dist-packages (from torch>=1.10.0->torchmetrics) (11.4.5.107)\n",
            "Requirement already satisfied: nvidia-cusparse-cu12==12.1.0.106 in /usr/local/lib/python3.10/dist-packages (from torch>=1.10.0->torchmetrics) (12.1.0.106)\n",
            "Requirement already satisfied: nvidia-nccl-cu12==2.19.3 in /usr/local/lib/python3.10/dist-packages (from torch>=1.10.0->torchmetrics) (2.19.3)\n",
            "Requirement already satisfied: nvidia-nvtx-cu12==12.1.105 in /usr/local/lib/python3.10/dist-packages (from torch>=1.10.0->torchmetrics) (12.1.105)\n",
            "Requirement already satisfied: triton==2.2.0 in /usr/local/lib/python3.10/dist-packages (from torch>=1.10.0->torchmetrics) (2.2.0)\n",
            "Requirement already satisfied: nvidia-nvjitlink-cu12 in /usr/local/lib/python3.10/dist-packages (from nvidia-cusolver-cu12==11.4.5.107->torch>=1.10.0->torchmetrics) (12.4.127)\n",
            "Requirement already satisfied: MarkupSafe>=2.0 in /usr/local/lib/python3.10/dist-packages (from jinja2->torch>=1.10.0->torchmetrics) (2.1.5)\n",
            "Requirement already satisfied: mpmath>=0.19 in /usr/local/lib/python3.10/dist-packages (from sympy->torch>=1.10.0->torchmetrics) (1.3.0)\n",
            "Installing collected packages: lightning-utilities, torchmetrics\n",
            "Successfully installed lightning-utilities-0.11.2 torchmetrics-1.3.2\n"
          ]
        }
      ]
    },
    {
      "cell_type": "code",
      "execution_count": null,
      "metadata": {
        "id": "hewuzDFbkb8d"
      },
      "outputs": [],
      "source": [
        "import os\n",
        "import torch\n",
        "from torch import tensor\n",
        "from torchmetrics.audio import ScaleInvariantSignalNoiseRatio\n",
        "from speechbrain.inference.separation import SepformerSeparation as separator\n",
        "import torchaudio\n",
        "import mir_eval\n",
        "from tqdm import tqdm\n",
        "from sklearn.model_selection import train_test_split"
      ]
    },
    {
      "cell_type": "code",
      "execution_count": null,
      "metadata": {
        "id": "BWc_I7pFlALL"
      },
      "outputs": [],
      "source": [
        "# Lists to store results\n",
        "sisnri_scores = []\n",
        "sdr_scores = []\n",
        "\n",
        "# Load the pretrained Sepformer model\n",
        "model = separator.from_hparams(source=\"speechbrain/sepformer-whamr\", savedir='pretrained_models/sepformer-whamr')\n",
        "\n",
        "dataset_dir = '/content/drive/MyDrive/Colab Notebooks/IITJodhpur/Semester5/Speech Analytics/Assignment2/mix_clean'\n",
        "ground_truth_sources_dir = '/content/drive/MyDrive/Colab Notebooks/IITJodhpur/Semester5/Speech Analytics/Assignment2/s1'\n",
        "\n",
        "# Get a list of filenames in your dataset directory\n",
        "filenames = os.listdir(dataset_dir)[:50]\n",
        "\n",
        "# Initialize SISNRi metric\n",
        "sisnr_metric = ScaleInvariantSignalNoiseRatio()"
      ]
    },
    {
      "cell_type": "code",
      "execution_count": null,
      "metadata": {
        "id": "1UMFXnKSlJgc",
        "colab": {
          "base_uri": "https://localhost:8080/"
        },
        "outputId": "7cd49e03-de3e-4d50-d6b0-b96dd85fa1e6"
      },
      "outputs": [
        {
          "output_type": "stream",
          "name": "stderr",
          "text": [
            "100%|██████████| 50/50 [20:37<00:00, 24.75s/it]"
          ]
        },
        {
          "output_type": "stream",
          "name": "stdout",
          "text": [
            "\n",
            "Average SISNRi: tensor(8.8297)\n",
            "Average SDR: [12.43424303]\n"
          ]
        },
        {
          "output_type": "stream",
          "name": "stderr",
          "text": [
            "\n"
          ]
        }
      ],
      "source": [
        "for filename in tqdm(filenames):\n",
        "    # Specify the path to the input mixture file\n",
        "    audio_path = os.path.join(dataset_dir, filename)\n",
        "\n",
        "    # Perform source separation\n",
        "    est_source = model.separate_file(path=audio_path, savedir=ground_truth_sources_dir)\n",
        "\n",
        "    # Load ground truth sources corresponding to the mixture file\n",
        "    ground_truth_sources_paths = os.path.join(ground_truth_sources_dir, filename)\n",
        "    ground_truth_sources = torchaudio.load(ground_truth_sources_paths)[0]\n",
        "\n",
        "    # Calculate SISNRi for each separated source\n",
        "    sisnri = sisnr_metric(est_source[:,:,0].unsqueeze(0), ground_truth_sources.unsqueeze(0))\n",
        "    sisnri_scores.append(sisnri.item())\n",
        "\n",
        "    # Calculate SDR for each separated source\n",
        "    sdr, _, _, _ = mir_eval.separation.bss_eval_sources(ground_truth_sources.numpy(), est_source[:, :, 0].numpy())\n",
        "    sdr_scores.append(sdr)\n",
        "\n",
        "# Calculate the average SISNRi and SDR\n",
        "avg_sisnri = torch.mean(tensor(sisnri_scores))\n",
        "avg_sdr = sum(sdr_scores) / len(sdr_scores)\n",
        "\n",
        "# Convert tensor to whole number\n",
        "avg_sisnri = round(float(avg_sisnri.item()))\n",
        "avg_sdr = round(float(avg_sdr.item()))\n",
        "\n",
        "print()\n",
        "print(\"Average SISNRi:\", avg_sisnri)\n",
        "print(\"Average SDR:\", avg_sdr)"
      ]
    },
    {
      "cell_type": "code",
      "source": [],
      "metadata": {
        "id": "wK6PdOUXx9Iu"
      },
      "execution_count": null,
      "outputs": []
    },
    {
      "cell_type": "markdown",
      "source": [
        "## Fine-tune the SepFormer model using the training set and report its performance on the test split of the LibriMix dataset."
      ],
      "metadata": {
        "id": "x2n8o321faQS"
      }
    },
    {
      "cell_type": "code",
      "source": [
        "import os\n",
        "import shutil\n",
        "\n",
        "# Define paths\n",
        "dataset_dir = '/content/drive/MyDrive/Colab Notebooks/IITJodhpur/Semester5/Speech Analytics/Assignment2/mix_clean'\n",
        "ground_truth_sources_dir = '/content/drive/MyDrive/Colab Notebooks/IITJodhpur/Semester5/Speech Analytics/Assignment2/s1'\n",
        "training_set_dir = '/content/drive/MyDrive/Colab Notebooks/IITJodhpur/Semester5/Speech Analytics/Assignment2/training_set'\n",
        "testing_set_dir = '/content/drive/MyDrive/Colab Notebooks/IITJodhpur/Semester5/Speech Analytics/Assignment2/testing_set'\n",
        "\n",
        "# Split ratio\n",
        "train_ratio = 0.7  # 70% for training, 30% for testing\n",
        "\n",
        "# Create training and testing set directories if they don't exist\n",
        "os.makedirs(training_set_dir, exist_ok=True)\n",
        "os.makedirs(testing_set_dir, exist_ok=True)\n",
        "\n",
        "# Get list of files in the dataset directory\n",
        "files = os.listdir(dataset_dir)[:10]\n",
        "\n",
        "\n",
        "len(files)"
      ],
      "metadata": {
        "colab": {
          "base_uri": "https://localhost:8080/"
        },
        "id": "1WVymSb6x9Ty",
        "outputId": "4875a087-663d-4789-a7f4-65184fecca81"
      },
      "execution_count": null,
      "outputs": [
        {
          "output_type": "execute_result",
          "data": {
            "text/plain": [
              "10"
            ]
          },
          "metadata": {},
          "execution_count": 51
        }
      ]
    },
    {
      "cell_type": "code",
      "source": [
        "# Calculate number of files for training and testing\n",
        "num_train_files = int(len(files) * train_ratio)\n",
        "num_test_files = len(files) - num_train_files\n",
        "\n",
        "# Copy files for training set\n",
        "for file in files[:num_train_files]:\n",
        "    shutil.copy(os.path.join(dataset_dir, file), os.path.join(training_set_dir, 'mix'))\n",
        "    shutil.copy(os.path.join(ground_truth_sources_dir, file), os.path.join(training_set_dir, 's1'))\n",
        "\n",
        "# Copy files for testing set\n",
        "for file in files[num_train_files:]:\n",
        "    shutil.copy(os.path.join(dataset_dir, file), os.path.join(testing_set_dir, 'mix'))\n",
        "    shutil.copy(os.path.join(ground_truth_sources_dir, file), os.path.join(testing_set_dir, 's1'))"
      ],
      "metadata": {
        "id": "ZZ2ig3bT3LUz"
      },
      "execution_count": null,
      "outputs": []
    },
    {
      "cell_type": "code",
      "source": [
        "import os\n",
        "import torch\n",
        "from torch import tensor\n",
        "from torchmetrics.audio import ScaleInvariantSignalNoiseRatio\n",
        "from speechbrain.inference.separation import SepformerSeparation as separator\n",
        "import torchaudio\n",
        "import mir_eval\n",
        "from tqdm import tqdm\n",
        "from sklearn.model_selection import train_test_split\n",
        "\n",
        "# Load pre-trained SepFormer model\n",
        "pretrained_model = separator.from_hparams(source=\"speechbrain/sepformer-wsj02mix\")\n",
        "\n",
        "# Assuming your dataset directory is '/content/mix_clean'\n",
        "dataset_dir = '/content/drive/MyDrive/Colab Notebooks/IITJodhpur/Semester5/Speech Analytics/Assignment2/mix_clean'\n",
        "ground_truth_sources_dir = '/content/drive/MyDrive/Colab Notebooks/IITJodhpur/Semester5/Speech Analytics/Assignment2/s1'\n",
        "\n",
        "# Get a list of filenames in your dataset directory\n",
        "filenames = os.listdir(dataset_dir)[:5]\n",
        "\n",
        "\n",
        "# Splitting the dataset into train and test sets\n",
        "train_files, test_files = train_test_split(filenames, test_size=0.3, random_state=42)\n",
        "\n",
        "# Initialize the model optimizer and loss function\n",
        "optimizer = torch.optim.Adam(pretrained_model.parameters(), lr=0.001)\n",
        "loss_function = torch.nn.MSELoss()\n",
        "\n",
        "num_epochs = 1\n",
        "# Assuming you have the test split filenames in test_files\n",
        "for epoch in range(num_epochs):\n",
        "    for filename in train_files:\n",
        "        # Specify the path to the input mixture file in the training set\n",
        "        audio_path_train = os.path.join(dataset_dir, filename)\n",
        "\n",
        "        # Perform source separation using the model\n",
        "        est_source_train = pretrained_model.separate_file(path=audio_path_train, savedir=ground_truth_sources_dir)\n",
        "\n",
        "        # Load ground truth sources corresponding to the mixture file\n",
        "        ground_truth_sources_paths_train = os.path.join(ground_truth_sources_dir, filename)\n",
        "        ground_truth_sources_train = torchaudio.load(ground_truth_sources_paths_train)[0]\n",
        "\n",
        "        # Convert the ground truth sources to tensors with gradients enabled\n",
        "        ground_truth_sources_train = ground_truth_sources_train.requires_grad_()\n",
        "\n",
        "        # Compute the loss and perform backpropagation\n",
        "        loss = loss_function(est_source_train[:, :, 0], ground_truth_sources_train[:, 0])\n",
        "        loss += loss_function(est_source_train[:, :, 1], ground_truth_sources_train[:, 1])\n",
        "        loss /= 2  # Optional: Compute the average loss over the sources\n",
        "\n",
        "        loss.backward()\n",
        "        optimizer.step()\n",
        "        optimizer.zero_grad()\n",
        "\n",
        "\n",
        "# Save the fine-tuned model\n",
        "torch.save(pretrained_model.state_dict(), 'fine_tuned_model.pth')\n",
        "\n",
        "# Create an instance of the SepformerSeparation class\n",
        "fine_tuned_model = separator.from_hparams(source=\"speechbrain/sepformer-wsj02mix\")\n",
        "fine_tuned_model.load_state_dict(torch.load('fine_tuned_model.pth'))\n",
        "\n",
        "\n",
        "\n",
        "# Lists to store results\n",
        "sisnri_scores_test = []\n",
        "sdr_scores_test = []\n",
        "\n",
        "# Initialize SISNRi metric\n",
        "sisnr_metric = ScaleInvariantSignalNoiseRatio()\n",
        "\n",
        "for filename in tqdm(test_files):\n",
        "    # Specify the path to the input mixture file in the test set\n",
        "    audio_path_test = os.path.join(dataset_dir, filename)\n",
        "\n",
        "    # Perform source separation using the fine-tuned model\n",
        "    est_source_test = fine_tuned_model.separate_file(path=audio_path_test, savedir=ground_truth_sources_dir)\n",
        "\n",
        "    # Load ground truth sources corresponding to the mixture file\n",
        "    ground_truth_sources_paths_test = os.path.join(ground_truth_sources_dir, filename)\n",
        "    ground_truth_sources_test = torchaudio.load(ground_truth_sources_paths_test)[0]\n",
        "\n",
        "    # Calculate SISNRi for each separated source in the test set\n",
        "    sisnri_test = sisnr_metric(est_source_test[:,:,0].unsqueeze(0), ground_truth_sources_test.unsqueeze(0))\n",
        "    sisnri_scores_test.append(sisnri_test.item())\n",
        "\n",
        "    # Calculate SDR for each separated source in the test set\n",
        "    sdr_test, _, _, _ = mir_eval.separation.bss_eval_sources(ground_truth_sources_test.numpy(), est_source_test[:, :, 0].numpy())\n",
        "    sdr_scores_test.append(sdr_test)\n",
        "\n",
        "# Calculate the average SISNRi and SDR for the test split\n",
        "avg_sisnri_FineTuned = torch.mean(tensor(sisnri_scores_test))\n",
        "avg_sdr_FineTuned = sum(sdr_scores_test) / len(sdr_scores_test)\n",
        "\n",
        "# Convert tensor to whole number\n",
        "avg_sisnri_FineTuned = round(float(avg_sisnri_FineTuned.item()))\n",
        "avg_sdr_FineTuned = round(float(avg_sdr_FineTuned.item()))\n",
        "\n",
        "print()\n",
        "print(\"Average SISNRi on Test Set:\", avg_sisnri_FineTuned)\n",
        "print(\"Average SDR on Test Set:\", avg_sdr_FineTuned)\n"
      ],
      "metadata": {
        "colab": {
          "base_uri": "https://localhost:8080/"
        },
        "id": "lI72NFOkx9kA",
        "outputId": "df9db043-ffc6-4ada-fead-bd9cd150ebc2"
      },
      "execution_count": null,
      "outputs": [
        {
          "output_type": "stream",
          "name": "stderr",
          "text": [
            "/usr/local/lib/python3.10/dist-packages/torch/nn/modules/loss.py:535: UserWarning: Using a target size (torch.Size([1])) that is different to the input size (torch.Size([1, 69920])). This will likely lead to incorrect results due to broadcasting. Please ensure they have the same size.\n",
            "  return F.mse_loss(input, target, reduction=self.reduction)\n",
            "/usr/local/lib/python3.10/dist-packages/torch/nn/modules/loss.py:535: UserWarning: Using a target size (torch.Size([1])) that is different to the input size (torch.Size([1, 66680])). This will likely lead to incorrect results due to broadcasting. Please ensure they have the same size.\n",
            "  return F.mse_loss(input, target, reduction=self.reduction)\n",
            "/usr/local/lib/python3.10/dist-packages/torch/nn/modules/loss.py:535: UserWarning: Using a target size (torch.Size([1])) that is different to the input size (torch.Size([1, 85440])). This will likely lead to incorrect results due to broadcasting. Please ensure they have the same size.\n",
            "  return F.mse_loss(input, target, reduction=self.reduction)\n",
            "100%|██████████| 2/2 [00:45<00:00, 22.72s/it]"
          ]
        },
        {
          "output_type": "stream",
          "name": "stdout",
          "text": [
            "\n",
            "Average SISNRi on Test Set: tensor(-10.4491)\n",
            "Average SDR on Test Set: [-1.389797]\n"
          ]
        },
        {
          "output_type": "stream",
          "name": "stderr",
          "text": [
            "\n"
          ]
        }
      ]
    },
    {
      "cell_type": "markdown",
      "source": [
        "##Compare Result"
      ],
      "metadata": {
        "id": "1Wg7y9MRTqjv"
      }
    },
    {
      "cell_type": "code",
      "execution_count": null,
      "metadata": {
        "id": "bKncrur2-jIO"
      },
      "outputs": [],
      "source": [
        "# Compare results\n",
        "improvement_in_SISNRi = avg_sisnri_FineTuned -  avg_sisnri\n",
        "improvement_in_SDR = avg_sdr_FineTuned - avg_sdr\n",
        "\n",
        "Print(improvement_in_SISNRi)\n",
        "Print(improvement_in_SDR)"
      ]
    }
  ],
  "metadata": {
    "colab": {
      "collapsed_sections": [
        "2B6j8eKyOIh1",
        "SkBFezLkOE_e"
      ],
      "provenance": [],
      "include_colab_link": true
    },
    "kernelspec": {
      "display_name": "Python 3",
      "name": "python3"
    },
    "language_info": {
      "name": "python"
    },
    "widgets": {
      "application/vnd.jupyter.widget-state+json": {
        "03f9fa68d91f4363b4b62198a2efc801": {
          "model_module": "@jupyter-widgets/controls",
          "model_module_version": "1.5.0",
          "model_name": "HTMLModel",
          "state": {
            "_dom_classes": [],
            "_model_module": "@jupyter-widgets/controls",
            "_model_module_version": "1.5.0",
            "_model_name": "HTMLModel",
            "_view_count": null,
            "_view_module": "@jupyter-widgets/controls",
            "_view_module_version": "1.5.0",
            "_view_name": "HTMLView",
            "description": "",
            "description_tooltip": null,
            "layout": "IPY_MODEL_66c2af1b1a114b2c89876b5e2aa23b67",
            "placeholder": "​",
            "style": "IPY_MODEL_a2c473218b654c1a82b4ce2fb35b5d99",
            "value": "config.json: 100%"
          }
        },
        "088538e81e5b491b90af774f9b6ba0e4": {
          "model_module": "@jupyter-widgets/controls",
          "model_module_version": "1.5.0",
          "model_name": "HTMLModel",
          "state": {
            "_dom_classes": [],
            "_model_module": "@jupyter-widgets/controls",
            "_model_module_version": "1.5.0",
            "_model_name": "HTMLModel",
            "_view_count": null,
            "_view_module": "@jupyter-widgets/controls",
            "_view_module_version": "1.5.0",
            "_view_name": "HTMLView",
            "description": "",
            "description_tooltip": null,
            "layout": "IPY_MODEL_76c5c693f955495ea5f5f34cbf4f5178",
            "placeholder": "​",
            "style": "IPY_MODEL_1cf1b94ef4a6477fb6d293292352856b",
            "value": "Generating validation split: "
          }
        },
        "08b83056f54041119e8a7b569b37b0ee": {
          "model_module": "@jupyter-widgets/controls",
          "model_module_version": "1.5.0",
          "model_name": "ProgressStyleModel",
          "state": {
            "_model_module": "@jupyter-widgets/controls",
            "_model_module_version": "1.5.0",
            "_model_name": "ProgressStyleModel",
            "_view_count": null,
            "_view_module": "@jupyter-widgets/base",
            "_view_module_version": "1.2.0",
            "_view_name": "StyleView",
            "bar_color": null,
            "description_width": ""
          }
        },
        "0a3b010dda604a8b9fa8f471bd839145": {
          "model_module": "@jupyter-widgets/controls",
          "model_module_version": "1.5.0",
          "model_name": "DescriptionStyleModel",
          "state": {
            "_model_module": "@jupyter-widgets/controls",
            "_model_module_version": "1.5.0",
            "_model_name": "DescriptionStyleModel",
            "_view_count": null,
            "_view_module": "@jupyter-widgets/base",
            "_view_module_version": "1.2.0",
            "_view_name": "StyleView",
            "description_width": ""
          }
        },
        "0da786788a63443bb701e04a52ac8c0f": {
          "model_module": "@jupyter-widgets/controls",
          "model_module_version": "1.5.0",
          "model_name": "HBoxModel",
          "state": {
            "_dom_classes": [],
            "_model_module": "@jupyter-widgets/controls",
            "_model_module_version": "1.5.0",
            "_model_name": "HBoxModel",
            "_view_count": null,
            "_view_module": "@jupyter-widgets/controls",
            "_view_module_version": "1.5.0",
            "_view_name": "HBoxView",
            "box_style": "",
            "children": [
              "IPY_MODEL_4b935c48076c4d31860404c6829b2666",
              "IPY_MODEL_e164f6188b8e465bbc66c4eaa59fa5fc",
              "IPY_MODEL_f5e09a77fcbe416b88341683983cd9a1"
            ],
            "layout": "IPY_MODEL_d91972427e66472eb97a1d5914b0884d"
          }
        },
        "134c3c6e4ab5492aae2296e063bc6aa2": {
          "model_module": "@jupyter-widgets/base",
          "model_module_version": "1.2.0",
          "model_name": "LayoutModel",
          "state": {
            "_model_module": "@jupyter-widgets/base",
            "_model_module_version": "1.2.0",
            "_model_name": "LayoutModel",
            "_view_count": null,
            "_view_module": "@jupyter-widgets/base",
            "_view_module_version": "1.2.0",
            "_view_name": "LayoutView",
            "align_content": null,
            "align_items": null,
            "align_self": null,
            "border": null,
            "bottom": null,
            "display": null,
            "flex": null,
            "flex_flow": null,
            "grid_area": null,
            "grid_auto_columns": null,
            "grid_auto_flow": null,
            "grid_auto_rows": null,
            "grid_column": null,
            "grid_gap": null,
            "grid_row": null,
            "grid_template_areas": null,
            "grid_template_columns": null,
            "grid_template_rows": null,
            "height": null,
            "justify_content": null,
            "justify_items": null,
            "left": null,
            "margin": null,
            "max_height": null,
            "max_width": null,
            "min_height": null,
            "min_width": null,
            "object_fit": null,
            "object_position": null,
            "order": null,
            "overflow": null,
            "overflow_x": null,
            "overflow_y": null,
            "padding": null,
            "right": null,
            "top": null,
            "visibility": null,
            "width": null
          }
        },
        "17e9de5d01bd4919a94bf9bf6a76cb17": {
          "model_module": "@jupyter-widgets/controls",
          "model_module_version": "1.5.0",
          "model_name": "DescriptionStyleModel",
          "state": {
            "_model_module": "@jupyter-widgets/controls",
            "_model_module_version": "1.5.0",
            "_model_name": "DescriptionStyleModel",
            "_view_count": null,
            "_view_module": "@jupyter-widgets/base",
            "_view_module_version": "1.2.0",
            "_view_name": "StyleView",
            "description_width": ""
          }
        },
        "1899ad85a6474b63b3c057e5cc2d230b": {
          "model_module": "@jupyter-widgets/base",
          "model_module_version": "1.2.0",
          "model_name": "LayoutModel",
          "state": {
            "_model_module": "@jupyter-widgets/base",
            "_model_module_version": "1.2.0",
            "_model_name": "LayoutModel",
            "_view_count": null,
            "_view_module": "@jupyter-widgets/base",
            "_view_module_version": "1.2.0",
            "_view_name": "LayoutView",
            "align_content": null,
            "align_items": null,
            "align_self": null,
            "border": null,
            "bottom": null,
            "display": null,
            "flex": null,
            "flex_flow": null,
            "grid_area": null,
            "grid_auto_columns": null,
            "grid_auto_flow": null,
            "grid_auto_rows": null,
            "grid_column": null,
            "grid_gap": null,
            "grid_row": null,
            "grid_template_areas": null,
            "grid_template_columns": null,
            "grid_template_rows": null,
            "height": null,
            "justify_content": null,
            "justify_items": null,
            "left": null,
            "margin": null,
            "max_height": null,
            "max_width": null,
            "min_height": null,
            "min_width": null,
            "object_fit": null,
            "object_position": null,
            "order": null,
            "overflow": null,
            "overflow_x": null,
            "overflow_y": null,
            "padding": null,
            "right": null,
            "top": null,
            "visibility": null,
            "width": null
          }
        },
        "18f2feded346411488df070fbc070408": {
          "model_module": "@jupyter-widgets/base",
          "model_module_version": "1.2.0",
          "model_name": "LayoutModel",
          "state": {
            "_model_module": "@jupyter-widgets/base",
            "_model_module_version": "1.2.0",
            "_model_name": "LayoutModel",
            "_view_count": null,
            "_view_module": "@jupyter-widgets/base",
            "_view_module_version": "1.2.0",
            "_view_name": "LayoutView",
            "align_content": null,
            "align_items": null,
            "align_self": null,
            "border": null,
            "bottom": null,
            "display": null,
            "flex": null,
            "flex_flow": null,
            "grid_area": null,
            "grid_auto_columns": null,
            "grid_auto_flow": null,
            "grid_auto_rows": null,
            "grid_column": null,
            "grid_gap": null,
            "grid_row": null,
            "grid_template_areas": null,
            "grid_template_columns": null,
            "grid_template_rows": null,
            "height": null,
            "justify_content": null,
            "justify_items": null,
            "left": null,
            "margin": null,
            "max_height": null,
            "max_width": null,
            "min_height": null,
            "min_width": null,
            "object_fit": null,
            "object_position": null,
            "order": null,
            "overflow": null,
            "overflow_x": null,
            "overflow_y": null,
            "padding": null,
            "right": null,
            "top": null,
            "visibility": null,
            "width": null
          }
        },
        "1cf1b94ef4a6477fb6d293292352856b": {
          "model_module": "@jupyter-widgets/controls",
          "model_module_version": "1.5.0",
          "model_name": "DescriptionStyleModel",
          "state": {
            "_model_module": "@jupyter-widgets/controls",
            "_model_module_version": "1.5.0",
            "_model_name": "DescriptionStyleModel",
            "_view_count": null,
            "_view_module": "@jupyter-widgets/base",
            "_view_module_version": "1.2.0",
            "_view_name": "StyleView",
            "description_width": ""
          }
        },
        "1d716c2a7ada494f83b812c7aa57a23d": {
          "model_module": "@jupyter-widgets/base",
          "model_module_version": "1.2.0",
          "model_name": "LayoutModel",
          "state": {
            "_model_module": "@jupyter-widgets/base",
            "_model_module_version": "1.2.0",
            "_model_name": "LayoutModel",
            "_view_count": null,
            "_view_module": "@jupyter-widgets/base",
            "_view_module_version": "1.2.0",
            "_view_name": "LayoutView",
            "align_content": null,
            "align_items": null,
            "align_self": null,
            "border": null,
            "bottom": null,
            "display": null,
            "flex": null,
            "flex_flow": null,
            "grid_area": null,
            "grid_auto_columns": null,
            "grid_auto_flow": null,
            "grid_auto_rows": null,
            "grid_column": null,
            "grid_gap": null,
            "grid_row": null,
            "grid_template_areas": null,
            "grid_template_columns": null,
            "grid_template_rows": null,
            "height": null,
            "justify_content": null,
            "justify_items": null,
            "left": null,
            "margin": null,
            "max_height": null,
            "max_width": null,
            "min_height": null,
            "min_width": null,
            "object_fit": null,
            "object_position": null,
            "order": null,
            "overflow": null,
            "overflow_x": null,
            "overflow_y": null,
            "padding": null,
            "right": null,
            "top": null,
            "visibility": null,
            "width": null
          }
        },
        "2306816661e04f7b865f5da434d72d9d": {
          "model_module": "@jupyter-widgets/controls",
          "model_module_version": "1.5.0",
          "model_name": "HTMLModel",
          "state": {
            "_dom_classes": [],
            "_model_module": "@jupyter-widgets/controls",
            "_model_module_version": "1.5.0",
            "_model_name": "HTMLModel",
            "_view_count": null,
            "_view_module": "@jupyter-widgets/controls",
            "_view_module_version": "1.5.0",
            "_view_name": "HTMLView",
            "description": "",
            "description_tooltip": null,
            "layout": "IPY_MODEL_4ef422b2905c4a1eaf1a9ea37e636f48",
            "placeholder": "​",
            "style": "IPY_MODEL_2c65edb9f82f4dfb83b7c84a051c081d",
            "value": " 405M/405M [00:06&lt;00:00, 85.7MB/s]"
          }
        },
        "2adb0a0a07ed4eedb21dc95e0208ad13": {
          "model_module": "@jupyter-widgets/controls",
          "model_module_version": "1.5.0",
          "model_name": "HTMLModel",
          "state": {
            "_dom_classes": [],
            "_model_module": "@jupyter-widgets/controls",
            "_model_module_version": "1.5.0",
            "_model_name": "HTMLModel",
            "_view_count": null,
            "_view_module": "@jupyter-widgets/controls",
            "_view_module_version": "1.5.0",
            "_view_name": "HTMLView",
            "description": "",
            "description_tooltip": null,
            "layout": "IPY_MODEL_2c34ce312c2245f0ac1507f1246a35ef",
            "placeholder": "​",
            "style": "IPY_MODEL_17e9de5d01bd4919a94bf9bf6a76cb17",
            "value": " 58.6k/58.6k [00:00&lt;00:00, 509kB/s]"
          }
        },
        "2c34ce312c2245f0ac1507f1246a35ef": {
          "model_module": "@jupyter-widgets/base",
          "model_module_version": "1.2.0",
          "model_name": "LayoutModel",
          "state": {
            "_model_module": "@jupyter-widgets/base",
            "_model_module_version": "1.2.0",
            "_model_name": "LayoutModel",
            "_view_count": null,
            "_view_module": "@jupyter-widgets/base",
            "_view_module_version": "1.2.0",
            "_view_name": "LayoutView",
            "align_content": null,
            "align_items": null,
            "align_self": null,
            "border": null,
            "bottom": null,
            "display": null,
            "flex": null,
            "flex_flow": null,
            "grid_area": null,
            "grid_auto_columns": null,
            "grid_auto_flow": null,
            "grid_auto_rows": null,
            "grid_column": null,
            "grid_gap": null,
            "grid_row": null,
            "grid_template_areas": null,
            "grid_template_columns": null,
            "grid_template_rows": null,
            "height": null,
            "justify_content": null,
            "justify_items": null,
            "left": null,
            "margin": null,
            "max_height": null,
            "max_width": null,
            "min_height": null,
            "min_width": null,
            "object_fit": null,
            "object_position": null,
            "order": null,
            "overflow": null,
            "overflow_x": null,
            "overflow_y": null,
            "padding": null,
            "right": null,
            "top": null,
            "visibility": null,
            "width": null
          }
        },
        "2c65edb9f82f4dfb83b7c84a051c081d": {
          "model_module": "@jupyter-widgets/controls",
          "model_module_version": "1.5.0",
          "model_name": "DescriptionStyleModel",
          "state": {
            "_model_module": "@jupyter-widgets/controls",
            "_model_module_version": "1.5.0",
            "_model_name": "DescriptionStyleModel",
            "_view_count": null,
            "_view_module": "@jupyter-widgets/base",
            "_view_module_version": "1.2.0",
            "_view_name": "StyleView",
            "description_width": ""
          }
        },
        "2c6c4b2d8d904313ae87be4bce4799eb": {
          "model_module": "@jupyter-widgets/controls",
          "model_module_version": "1.5.0",
          "model_name": "DescriptionStyleModel",
          "state": {
            "_model_module": "@jupyter-widgets/controls",
            "_model_module_version": "1.5.0",
            "_model_name": "DescriptionStyleModel",
            "_view_count": null,
            "_view_module": "@jupyter-widgets/base",
            "_view_module_version": "1.2.0",
            "_view_name": "StyleView",
            "description_width": ""
          }
        },
        "340027f3e6ad4ed7ada4c63c20c8cce5": {
          "model_module": "@jupyter-widgets/base",
          "model_module_version": "1.2.0",
          "model_name": "LayoutModel",
          "state": {
            "_model_module": "@jupyter-widgets/base",
            "_model_module_version": "1.2.0",
            "_model_name": "LayoutModel",
            "_view_count": null,
            "_view_module": "@jupyter-widgets/base",
            "_view_module_version": "1.2.0",
            "_view_name": "LayoutView",
            "align_content": null,
            "align_items": null,
            "align_self": null,
            "border": null,
            "bottom": null,
            "display": null,
            "flex": null,
            "flex_flow": null,
            "grid_area": null,
            "grid_auto_columns": null,
            "grid_auto_flow": null,
            "grid_auto_rows": null,
            "grid_column": null,
            "grid_gap": null,
            "grid_row": null,
            "grid_template_areas": null,
            "grid_template_columns": null,
            "grid_template_rows": null,
            "height": null,
            "justify_content": null,
            "justify_items": null,
            "left": null,
            "margin": null,
            "max_height": null,
            "max_width": null,
            "min_height": null,
            "min_width": null,
            "object_fit": null,
            "object_position": null,
            "order": null,
            "overflow": null,
            "overflow_x": null,
            "overflow_y": null,
            "padding": null,
            "right": null,
            "top": null,
            "visibility": null,
            "width": null
          }
        },
        "3693bc6a9d9548a496cec448a74276f8": {
          "model_module": "@jupyter-widgets/controls",
          "model_module_version": "1.5.0",
          "model_name": "ProgressStyleModel",
          "state": {
            "_model_module": "@jupyter-widgets/controls",
            "_model_module_version": "1.5.0",
            "_model_name": "ProgressStyleModel",
            "_view_count": null,
            "_view_module": "@jupyter-widgets/base",
            "_view_module_version": "1.2.0",
            "_view_name": "StyleView",
            "bar_color": null,
            "description_width": ""
          }
        },
        "3eca195d336747b2983445ccb13b3a99": {
          "model_module": "@jupyter-widgets/controls",
          "model_module_version": "1.5.0",
          "model_name": "FloatProgressModel",
          "state": {
            "_dom_classes": [],
            "_model_module": "@jupyter-widgets/controls",
            "_model_module_version": "1.5.0",
            "_model_name": "FloatProgressModel",
            "_view_count": null,
            "_view_module": "@jupyter-widgets/controls",
            "_view_module_version": "1.5.0",
            "_view_name": "ProgressView",
            "bar_style": "success",
            "description": "",
            "description_tooltip": null,
            "layout": "IPY_MODEL_134c3c6e4ab5492aae2296e063bc6aa2",
            "max": 215,
            "min": 0,
            "orientation": "horizontal",
            "style": "IPY_MODEL_08b83056f54041119e8a7b569b37b0ee",
            "value": 215
          }
        },
        "4326560c65b142bdaa9123e13ab6d95f": {
          "model_module": "@jupyter-widgets/base",
          "model_module_version": "1.2.0",
          "model_name": "LayoutModel",
          "state": {
            "_model_module": "@jupyter-widgets/base",
            "_model_module_version": "1.2.0",
            "_model_name": "LayoutModel",
            "_view_count": null,
            "_view_module": "@jupyter-widgets/base",
            "_view_module_version": "1.2.0",
            "_view_name": "LayoutView",
            "align_content": null,
            "align_items": null,
            "align_self": null,
            "border": null,
            "bottom": null,
            "display": null,
            "flex": null,
            "flex_flow": null,
            "grid_area": null,
            "grid_auto_columns": null,
            "grid_auto_flow": null,
            "grid_auto_rows": null,
            "grid_column": null,
            "grid_gap": null,
            "grid_row": null,
            "grid_template_areas": null,
            "grid_template_columns": null,
            "grid_template_rows": null,
            "height": null,
            "justify_content": null,
            "justify_items": null,
            "left": null,
            "margin": null,
            "max_height": null,
            "max_width": null,
            "min_height": null,
            "min_width": null,
            "object_fit": null,
            "object_position": null,
            "order": null,
            "overflow": null,
            "overflow_x": null,
            "overflow_y": null,
            "padding": null,
            "right": null,
            "top": null,
            "visibility": null,
            "width": null
          }
        },
        "4789d6737a1843ec87636b6d64c5a050": {
          "model_module": "@jupyter-widgets/controls",
          "model_module_version": "1.5.0",
          "model_name": "ProgressStyleModel",
          "state": {
            "_model_module": "@jupyter-widgets/controls",
            "_model_module_version": "1.5.0",
            "_model_name": "ProgressStyleModel",
            "_view_count": null,
            "_view_module": "@jupyter-widgets/base",
            "_view_module_version": "1.2.0",
            "_view_name": "StyleView",
            "bar_color": null,
            "description_width": ""
          }
        },
        "49dc3420f6f549e7958f8614cf682511": {
          "model_module": "@jupyter-widgets/base",
          "model_module_version": "1.2.0",
          "model_name": "LayoutModel",
          "state": {
            "_model_module": "@jupyter-widgets/base",
            "_model_module_version": "1.2.0",
            "_model_name": "LayoutModel",
            "_view_count": null,
            "_view_module": "@jupyter-widgets/base",
            "_view_module_version": "1.2.0",
            "_view_name": "LayoutView",
            "align_content": null,
            "align_items": null,
            "align_self": null,
            "border": null,
            "bottom": null,
            "display": null,
            "flex": null,
            "flex_flow": null,
            "grid_area": null,
            "grid_auto_columns": null,
            "grid_auto_flow": null,
            "grid_auto_rows": null,
            "grid_column": null,
            "grid_gap": null,
            "grid_row": null,
            "grid_template_areas": null,
            "grid_template_columns": null,
            "grid_template_rows": null,
            "height": null,
            "justify_content": null,
            "justify_items": null,
            "left": null,
            "margin": null,
            "max_height": null,
            "max_width": null,
            "min_height": null,
            "min_width": null,
            "object_fit": null,
            "object_position": null,
            "order": null,
            "overflow": null,
            "overflow_x": null,
            "overflow_y": null,
            "padding": null,
            "right": null,
            "top": null,
            "visibility": null,
            "width": null
          }
        },
        "4b935c48076c4d31860404c6829b2666": {
          "model_module": "@jupyter-widgets/controls",
          "model_module_version": "1.5.0",
          "model_name": "HTMLModel",
          "state": {
            "_dom_classes": [],
            "_model_module": "@jupyter-widgets/controls",
            "_model_module_version": "1.5.0",
            "_model_name": "HTMLModel",
            "_view_count": null,
            "_view_module": "@jupyter-widgets/controls",
            "_view_module_version": "1.5.0",
            "_view_name": "HTMLView",
            "description": "",
            "description_tooltip": null,
            "layout": "IPY_MODEL_740ac3c4c1824322b9deaaaf4e37d80a",
            "placeholder": "​",
            "style": "IPY_MODEL_b672061b61ce4dca819132de1a2a2d68",
            "value": "Downloading builder script: 100%"
          }
        },
        "4dc47d69dc714eb6be8560e713ca3840": {
          "model_module": "@jupyter-widgets/controls",
          "model_module_version": "1.5.0",
          "model_name": "ProgressStyleModel",
          "state": {
            "_model_module": "@jupyter-widgets/controls",
            "_model_module_version": "1.5.0",
            "_model_name": "ProgressStyleModel",
            "_view_count": null,
            "_view_module": "@jupyter-widgets/base",
            "_view_module_version": "1.2.0",
            "_view_name": "StyleView",
            "bar_color": null,
            "description_width": ""
          }
        },
        "4ef422b2905c4a1eaf1a9ea37e636f48": {
          "model_module": "@jupyter-widgets/base",
          "model_module_version": "1.2.0",
          "model_name": "LayoutModel",
          "state": {
            "_model_module": "@jupyter-widgets/base",
            "_model_module_version": "1.2.0",
            "_model_name": "LayoutModel",
            "_view_count": null,
            "_view_module": "@jupyter-widgets/base",
            "_view_module_version": "1.2.0",
            "_view_name": "LayoutView",
            "align_content": null,
            "align_items": null,
            "align_self": null,
            "border": null,
            "bottom": null,
            "display": null,
            "flex": null,
            "flex_flow": null,
            "grid_area": null,
            "grid_auto_columns": null,
            "grid_auto_flow": null,
            "grid_auto_rows": null,
            "grid_column": null,
            "grid_gap": null,
            "grid_row": null,
            "grid_template_areas": null,
            "grid_template_columns": null,
            "grid_template_rows": null,
            "height": null,
            "justify_content": null,
            "justify_items": null,
            "left": null,
            "margin": null,
            "max_height": null,
            "max_width": null,
            "min_height": null,
            "min_width": null,
            "object_fit": null,
            "object_position": null,
            "order": null,
            "overflow": null,
            "overflow_x": null,
            "overflow_y": null,
            "padding": null,
            "right": null,
            "top": null,
            "visibility": null,
            "width": null
          }
        },
        "5c3c8bf1877f4f318bdefccb716c4369": {
          "model_module": "@jupyter-widgets/controls",
          "model_module_version": "1.5.0",
          "model_name": "DescriptionStyleModel",
          "state": {
            "_model_module": "@jupyter-widgets/controls",
            "_model_module_version": "1.5.0",
            "_model_name": "DescriptionStyleModel",
            "_view_count": null,
            "_view_module": "@jupyter-widgets/base",
            "_view_module_version": "1.2.0",
            "_view_name": "StyleView",
            "description_width": ""
          }
        },
        "5d00151114484fc8ba9ef854df12e642": {
          "model_module": "@jupyter-widgets/controls",
          "model_module_version": "1.5.0",
          "model_name": "HBoxModel",
          "state": {
            "_dom_classes": [],
            "_model_module": "@jupyter-widgets/controls",
            "_model_module_version": "1.5.0",
            "_model_name": "HBoxModel",
            "_view_count": null,
            "_view_module": "@jupyter-widgets/controls",
            "_view_module_version": "1.5.0",
            "_view_name": "HBoxView",
            "box_style": "",
            "children": [
              "IPY_MODEL_951624ade2534b2eac2e223ce7f792ef",
              "IPY_MODEL_761c4fb23e9e4c3bbbd0f1ade2c71bd9",
              "IPY_MODEL_2306816661e04f7b865f5da434d72d9d"
            ],
            "layout": "IPY_MODEL_340027f3e6ad4ed7ada4c63c20c8cce5"
          }
        },
        "64073a354ac74e4ead4b5a2103b3cb44": {
          "model_module": "@jupyter-widgets/base",
          "model_module_version": "1.2.0",
          "model_name": "LayoutModel",
          "state": {
            "_model_module": "@jupyter-widgets/base",
            "_model_module_version": "1.2.0",
            "_model_name": "LayoutModel",
            "_view_count": null,
            "_view_module": "@jupyter-widgets/base",
            "_view_module_version": "1.2.0",
            "_view_name": "LayoutView",
            "align_content": null,
            "align_items": null,
            "align_self": null,
            "border": null,
            "bottom": null,
            "display": null,
            "flex": null,
            "flex_flow": null,
            "grid_area": null,
            "grid_auto_columns": null,
            "grid_auto_flow": null,
            "grid_auto_rows": null,
            "grid_column": null,
            "grid_gap": null,
            "grid_row": null,
            "grid_template_areas": null,
            "grid_template_columns": null,
            "grid_template_rows": null,
            "height": null,
            "justify_content": null,
            "justify_items": null,
            "left": null,
            "margin": null,
            "max_height": null,
            "max_width": null,
            "min_height": null,
            "min_width": null,
            "object_fit": null,
            "object_position": null,
            "order": null,
            "overflow": null,
            "overflow_x": null,
            "overflow_y": null,
            "padding": null,
            "right": null,
            "top": null,
            "visibility": null,
            "width": null
          }
        },
        "66c2af1b1a114b2c89876b5e2aa23b67": {
          "model_module": "@jupyter-widgets/base",
          "model_module_version": "1.2.0",
          "model_name": "LayoutModel",
          "state": {
            "_model_module": "@jupyter-widgets/base",
            "_model_module_version": "1.2.0",
            "_model_name": "LayoutModel",
            "_view_count": null,
            "_view_module": "@jupyter-widgets/base",
            "_view_module_version": "1.2.0",
            "_view_name": "LayoutView",
            "align_content": null,
            "align_items": null,
            "align_self": null,
            "border": null,
            "bottom": null,
            "display": null,
            "flex": null,
            "flex_flow": null,
            "grid_area": null,
            "grid_auto_columns": null,
            "grid_auto_flow": null,
            "grid_auto_rows": null,
            "grid_column": null,
            "grid_gap": null,
            "grid_row": null,
            "grid_template_areas": null,
            "grid_template_columns": null,
            "grid_template_rows": null,
            "height": null,
            "justify_content": null,
            "justify_items": null,
            "left": null,
            "margin": null,
            "max_height": null,
            "max_width": null,
            "min_height": null,
            "min_width": null,
            "object_fit": null,
            "object_position": null,
            "order": null,
            "overflow": null,
            "overflow_x": null,
            "overflow_y": null,
            "padding": null,
            "right": null,
            "top": null,
            "visibility": null,
            "width": null
          }
        },
        "7056e91215094326a8556299c9acdc45": {
          "model_module": "@jupyter-widgets/base",
          "model_module_version": "1.2.0",
          "model_name": "LayoutModel",
          "state": {
            "_model_module": "@jupyter-widgets/base",
            "_model_module_version": "1.2.0",
            "_model_name": "LayoutModel",
            "_view_count": null,
            "_view_module": "@jupyter-widgets/base",
            "_view_module_version": "1.2.0",
            "_view_name": "LayoutView",
            "align_content": null,
            "align_items": null,
            "align_self": null,
            "border": null,
            "bottom": null,
            "display": null,
            "flex": null,
            "flex_flow": null,
            "grid_area": null,
            "grid_auto_columns": null,
            "grid_auto_flow": null,
            "grid_auto_rows": null,
            "grid_column": null,
            "grid_gap": null,
            "grid_row": null,
            "grid_template_areas": null,
            "grid_template_columns": null,
            "grid_template_rows": null,
            "height": null,
            "justify_content": null,
            "justify_items": null,
            "left": null,
            "margin": null,
            "max_height": null,
            "max_width": null,
            "min_height": null,
            "min_width": null,
            "object_fit": null,
            "object_position": null,
            "order": null,
            "overflow": null,
            "overflow_x": null,
            "overflow_y": null,
            "padding": null,
            "right": null,
            "top": null,
            "visibility": null,
            "width": null
          }
        },
        "70b9410dfa554c4d9bbd2ace77168747": {
          "model_module": "@jupyter-widgets/controls",
          "model_module_version": "1.5.0",
          "model_name": "DescriptionStyleModel",
          "state": {
            "_model_module": "@jupyter-widgets/controls",
            "_model_module_version": "1.5.0",
            "_model_name": "DescriptionStyleModel",
            "_view_count": null,
            "_view_module": "@jupyter-widgets/base",
            "_view_module_version": "1.2.0",
            "_view_name": "StyleView",
            "description_width": ""
          }
        },
        "711e4c06b0114fffacb7f2382d62818e": {
          "model_module": "@jupyter-widgets/controls",
          "model_module_version": "1.5.0",
          "model_name": "FloatProgressModel",
          "state": {
            "_dom_classes": [],
            "_model_module": "@jupyter-widgets/controls",
            "_model_module_version": "1.5.0",
            "_model_name": "FloatProgressModel",
            "_view_count": null,
            "_view_module": "@jupyter-widgets/controls",
            "_view_module_version": "1.5.0",
            "_view_name": "ProgressView",
            "bar_style": "success",
            "description": "",
            "description_tooltip": null,
            "layout": "IPY_MODEL_716f6f7400ac4e759d613ce68ca70abc",
            "max": 58611,
            "min": 0,
            "orientation": "horizontal",
            "style": "IPY_MODEL_b98d719f3e464c55a67e7f3e2e53f85a",
            "value": 58611
          }
        },
        "716f6f7400ac4e759d613ce68ca70abc": {
          "model_module": "@jupyter-widgets/base",
          "model_module_version": "1.2.0",
          "model_name": "LayoutModel",
          "state": {
            "_model_module": "@jupyter-widgets/base",
            "_model_module_version": "1.2.0",
            "_model_name": "LayoutModel",
            "_view_count": null,
            "_view_module": "@jupyter-widgets/base",
            "_view_module_version": "1.2.0",
            "_view_name": "LayoutView",
            "align_content": null,
            "align_items": null,
            "align_self": null,
            "border": null,
            "bottom": null,
            "display": null,
            "flex": null,
            "flex_flow": null,
            "grid_area": null,
            "grid_auto_columns": null,
            "grid_auto_flow": null,
            "grid_auto_rows": null,
            "grid_column": null,
            "grid_gap": null,
            "grid_row": null,
            "grid_template_areas": null,
            "grid_template_columns": null,
            "grid_template_rows": null,
            "height": null,
            "justify_content": null,
            "justify_items": null,
            "left": null,
            "margin": null,
            "max_height": null,
            "max_width": null,
            "min_height": null,
            "min_width": null,
            "object_fit": null,
            "object_position": null,
            "order": null,
            "overflow": null,
            "overflow_x": null,
            "overflow_y": null,
            "padding": null,
            "right": null,
            "top": null,
            "visibility": null,
            "width": null
          }
        },
        "740ac3c4c1824322b9deaaaf4e37d80a": {
          "model_module": "@jupyter-widgets/base",
          "model_module_version": "1.2.0",
          "model_name": "LayoutModel",
          "state": {
            "_model_module": "@jupyter-widgets/base",
            "_model_module_version": "1.2.0",
            "_model_name": "LayoutModel",
            "_view_count": null,
            "_view_module": "@jupyter-widgets/base",
            "_view_module_version": "1.2.0",
            "_view_name": "LayoutView",
            "align_content": null,
            "align_items": null,
            "align_self": null,
            "border": null,
            "bottom": null,
            "display": null,
            "flex": null,
            "flex_flow": null,
            "grid_area": null,
            "grid_auto_columns": null,
            "grid_auto_flow": null,
            "grid_auto_rows": null,
            "grid_column": null,
            "grid_gap": null,
            "grid_row": null,
            "grid_template_areas": null,
            "grid_template_columns": null,
            "grid_template_rows": null,
            "height": null,
            "justify_content": null,
            "justify_items": null,
            "left": null,
            "margin": null,
            "max_height": null,
            "max_width": null,
            "min_height": null,
            "min_width": null,
            "object_fit": null,
            "object_position": null,
            "order": null,
            "overflow": null,
            "overflow_x": null,
            "overflow_y": null,
            "padding": null,
            "right": null,
            "top": null,
            "visibility": null,
            "width": null
          }
        },
        "761c4fb23e9e4c3bbbd0f1ade2c71bd9": {
          "model_module": "@jupyter-widgets/controls",
          "model_module_version": "1.5.0",
          "model_name": "FloatProgressModel",
          "state": {
            "_dom_classes": [],
            "_model_module": "@jupyter-widgets/controls",
            "_model_module_version": "1.5.0",
            "_model_name": "FloatProgressModel",
            "_view_count": null,
            "_view_module": "@jupyter-widgets/controls",
            "_view_module_version": "1.5.0",
            "_view_name": "ProgressView",
            "bar_style": "success",
            "description": "",
            "description_tooltip": null,
            "layout": "IPY_MODEL_ccfbfd21306443cbbd6c9ea58f5857d0",
            "max": 404547053,
            "min": 0,
            "orientation": "horizontal",
            "style": "IPY_MODEL_4dc47d69dc714eb6be8560e713ca3840",
            "value": 404547053
          }
        },
        "76c5c693f955495ea5f5f34cbf4f5178": {
          "model_module": "@jupyter-widgets/base",
          "model_module_version": "1.2.0",
          "model_name": "LayoutModel",
          "state": {
            "_model_module": "@jupyter-widgets/base",
            "_model_module_version": "1.2.0",
            "_model_name": "LayoutModel",
            "_view_count": null,
            "_view_module": "@jupyter-widgets/base",
            "_view_module_version": "1.2.0",
            "_view_name": "LayoutView",
            "align_content": null,
            "align_items": null,
            "align_self": null,
            "border": null,
            "bottom": null,
            "display": null,
            "flex": null,
            "flex_flow": null,
            "grid_area": null,
            "grid_auto_columns": null,
            "grid_auto_flow": null,
            "grid_auto_rows": null,
            "grid_column": null,
            "grid_gap": null,
            "grid_row": null,
            "grid_template_areas": null,
            "grid_template_columns": null,
            "grid_template_rows": null,
            "height": null,
            "justify_content": null,
            "justify_items": null,
            "left": null,
            "margin": null,
            "max_height": null,
            "max_width": null,
            "min_height": null,
            "min_width": null,
            "object_fit": null,
            "object_position": null,
            "order": null,
            "overflow": null,
            "overflow_x": null,
            "overflow_y": null,
            "padding": null,
            "right": null,
            "top": null,
            "visibility": null,
            "width": null
          }
        },
        "7744ae5bb7d14682aa6395180f7720ab": {
          "model_module": "@jupyter-widgets/controls",
          "model_module_version": "1.5.0",
          "model_name": "HTMLModel",
          "state": {
            "_dom_classes": [],
            "_model_module": "@jupyter-widgets/controls",
            "_model_module_version": "1.5.0",
            "_model_name": "HTMLModel",
            "_view_count": null,
            "_view_module": "@jupyter-widgets/controls",
            "_view_module_version": "1.5.0",
            "_view_name": "HTMLView",
            "description": "",
            "description_tooltip": null,
            "layout": "IPY_MODEL_1899ad85a6474b63b3c057e5cc2d230b",
            "placeholder": "​",
            "style": "IPY_MODEL_884cdb7d11834c2c880b8073187ba296",
            "value": " 73/0 [00:00&lt;00:00, 469.47 examples/s]"
          }
        },
        "77a317fac5914b39a032a900283c18df": {
          "model_module": "@jupyter-widgets/controls",
          "model_module_version": "1.5.0",
          "model_name": "HTMLModel",
          "state": {
            "_dom_classes": [],
            "_model_module": "@jupyter-widgets/controls",
            "_model_module_version": "1.5.0",
            "_model_name": "HTMLModel",
            "_view_count": null,
            "_view_module": "@jupyter-widgets/controls",
            "_view_module_version": "1.5.0",
            "_view_name": "HTMLView",
            "description": "",
            "description_tooltip": null,
            "layout": "IPY_MODEL_4326560c65b142bdaa9123e13ab6d95f",
            "placeholder": "​",
            "style": "IPY_MODEL_70b9410dfa554c4d9bbd2ace77168747",
            "value": " 215/215 [00:00&lt;00:00, 2.59kB/s]"
          }
        },
        "7982c4985a1b4729873caa9846374e5d": {
          "model_module": "@jupyter-widgets/controls",
          "model_module_version": "1.5.0",
          "model_name": "HTMLModel",
          "state": {
            "_dom_classes": [],
            "_model_module": "@jupyter-widgets/controls",
            "_model_module_version": "1.5.0",
            "_model_name": "HTMLModel",
            "_view_count": null,
            "_view_module": "@jupyter-widgets/controls",
            "_view_module_version": "1.5.0",
            "_view_name": "HTMLView",
            "description": "",
            "description_tooltip": null,
            "layout": "IPY_MODEL_1d716c2a7ada494f83b812c7aa57a23d",
            "placeholder": "​",
            "style": "IPY_MODEL_ade5801a8b794bf8a3ca7c45fd8b4638",
            "value": " 9.08M/9.08M [00:00&lt;00:00, 22.3MB/s]"
          }
        },
        "7ceca4fb9678403bac437b7d1a81d7d8": {
          "model_module": "@jupyter-widgets/base",
          "model_module_version": "1.2.0",
          "model_name": "LayoutModel",
          "state": {
            "_model_module": "@jupyter-widgets/base",
            "_model_module_version": "1.2.0",
            "_model_name": "LayoutModel",
            "_view_count": null,
            "_view_module": "@jupyter-widgets/base",
            "_view_module_version": "1.2.0",
            "_view_name": "LayoutView",
            "align_content": null,
            "align_items": null,
            "align_self": null,
            "border": null,
            "bottom": null,
            "display": null,
            "flex": null,
            "flex_flow": null,
            "grid_area": null,
            "grid_auto_columns": null,
            "grid_auto_flow": null,
            "grid_auto_rows": null,
            "grid_column": null,
            "grid_gap": null,
            "grid_row": null,
            "grid_template_areas": null,
            "grid_template_columns": null,
            "grid_template_rows": null,
            "height": null,
            "justify_content": null,
            "justify_items": null,
            "left": null,
            "margin": null,
            "max_height": null,
            "max_width": null,
            "min_height": null,
            "min_width": null,
            "object_fit": null,
            "object_position": null,
            "order": null,
            "overflow": null,
            "overflow_x": null,
            "overflow_y": null,
            "padding": null,
            "right": null,
            "top": null,
            "visibility": null,
            "width": null
          }
        },
        "884cdb7d11834c2c880b8073187ba296": {
          "model_module": "@jupyter-widgets/controls",
          "model_module_version": "1.5.0",
          "model_name": "DescriptionStyleModel",
          "state": {
            "_model_module": "@jupyter-widgets/controls",
            "_model_module_version": "1.5.0",
            "_model_name": "DescriptionStyleModel",
            "_view_count": null,
            "_view_module": "@jupyter-widgets/base",
            "_view_module_version": "1.2.0",
            "_view_name": "StyleView",
            "description_width": ""
          }
        },
        "8f99b14bd2a947869e1e94cd8a10df97": {
          "model_module": "@jupyter-widgets/controls",
          "model_module_version": "1.5.0",
          "model_name": "HTMLModel",
          "state": {
            "_dom_classes": [],
            "_model_module": "@jupyter-widgets/controls",
            "_model_module_version": "1.5.0",
            "_model_name": "HTMLModel",
            "_view_count": null,
            "_view_module": "@jupyter-widgets/controls",
            "_view_module_version": "1.5.0",
            "_view_name": "HTMLView",
            "description": "",
            "description_tooltip": null,
            "layout": "IPY_MODEL_cef43270c479463ba3707463e1f754df",
            "placeholder": "​",
            "style": "IPY_MODEL_ef5e836a84c845349ce489fdfbe87031",
            "value": "preprocessor_config.json: 100%"
          }
        },
        "951624ade2534b2eac2e223ce7f792ef": {
          "model_module": "@jupyter-widgets/controls",
          "model_module_version": "1.5.0",
          "model_name": "HTMLModel",
          "state": {
            "_dom_classes": [],
            "_model_module": "@jupyter-widgets/controls",
            "_model_module_version": "1.5.0",
            "_model_name": "HTMLModel",
            "_view_count": null,
            "_view_module": "@jupyter-widgets/controls",
            "_view_module_version": "1.5.0",
            "_view_name": "HTMLView",
            "description": "",
            "description_tooltip": null,
            "layout": "IPY_MODEL_d60a98988603477abf1a0e2640591e51",
            "placeholder": "​",
            "style": "IPY_MODEL_0a3b010dda604a8b9fa8f471bd839145",
            "value": "pytorch_model.bin: 100%"
          }
        },
        "962967c2fcd2462797820a86c7bb5ea6": {
          "model_module": "@jupyter-widgets/base",
          "model_module_version": "1.2.0",
          "model_name": "LayoutModel",
          "state": {
            "_model_module": "@jupyter-widgets/base",
            "_model_module_version": "1.2.0",
            "_model_name": "LayoutModel",
            "_view_count": null,
            "_view_module": "@jupyter-widgets/base",
            "_view_module_version": "1.2.0",
            "_view_name": "LayoutView",
            "align_content": null,
            "align_items": null,
            "align_self": null,
            "border": null,
            "bottom": null,
            "display": null,
            "flex": null,
            "flex_flow": null,
            "grid_area": null,
            "grid_auto_columns": null,
            "grid_auto_flow": null,
            "grid_auto_rows": null,
            "grid_column": null,
            "grid_gap": null,
            "grid_row": null,
            "grid_template_areas": null,
            "grid_template_columns": null,
            "grid_template_rows": null,
            "height": null,
            "justify_content": null,
            "justify_items": null,
            "left": null,
            "margin": null,
            "max_height": null,
            "max_width": null,
            "min_height": null,
            "min_width": null,
            "object_fit": null,
            "object_position": null,
            "order": null,
            "overflow": null,
            "overflow_x": null,
            "overflow_y": null,
            "padding": null,
            "right": null,
            "top": null,
            "visibility": null,
            "width": null
          }
        },
        "9ddcae7da31241f7969870ce1a26d218": {
          "model_module": "@jupyter-widgets/base",
          "model_module_version": "1.2.0",
          "model_name": "LayoutModel",
          "state": {
            "_model_module": "@jupyter-widgets/base",
            "_model_module_version": "1.2.0",
            "_model_name": "LayoutModel",
            "_view_count": null,
            "_view_module": "@jupyter-widgets/base",
            "_view_module_version": "1.2.0",
            "_view_name": "LayoutView",
            "align_content": null,
            "align_items": null,
            "align_self": null,
            "border": null,
            "bottom": null,
            "display": null,
            "flex": null,
            "flex_flow": null,
            "grid_area": null,
            "grid_auto_columns": null,
            "grid_auto_flow": null,
            "grid_auto_rows": null,
            "grid_column": null,
            "grid_gap": null,
            "grid_row": null,
            "grid_template_areas": null,
            "grid_template_columns": null,
            "grid_template_rows": null,
            "height": null,
            "justify_content": null,
            "justify_items": null,
            "left": null,
            "margin": null,
            "max_height": null,
            "max_width": null,
            "min_height": null,
            "min_width": null,
            "object_fit": null,
            "object_position": null,
            "order": null,
            "overflow": null,
            "overflow_x": null,
            "overflow_y": null,
            "padding": null,
            "right": null,
            "top": null,
            "visibility": null,
            "width": null
          }
        },
        "a2c473218b654c1a82b4ce2fb35b5d99": {
          "model_module": "@jupyter-widgets/controls",
          "model_module_version": "1.5.0",
          "model_name": "DescriptionStyleModel",
          "state": {
            "_model_module": "@jupyter-widgets/controls",
            "_model_module_version": "1.5.0",
            "_model_name": "DescriptionStyleModel",
            "_view_count": null,
            "_view_module": "@jupyter-widgets/base",
            "_view_module_version": "1.2.0",
            "_view_name": "StyleView",
            "description_width": ""
          }
        },
        "ad7a19dd06c4432b91aac1aa15cf6805": {
          "model_module": "@jupyter-widgets/controls",
          "model_module_version": "1.5.0",
          "model_name": "HBoxModel",
          "state": {
            "_dom_classes": [],
            "_model_module": "@jupyter-widgets/controls",
            "_model_module_version": "1.5.0",
            "_model_name": "HBoxModel",
            "_view_count": null,
            "_view_module": "@jupyter-widgets/controls",
            "_view_module_version": "1.5.0",
            "_view_name": "HBoxView",
            "box_style": "",
            "children": [
              "IPY_MODEL_03f9fa68d91f4363b4b62198a2efc801",
              "IPY_MODEL_711e4c06b0114fffacb7f2382d62818e",
              "IPY_MODEL_2adb0a0a07ed4eedb21dc95e0208ad13"
            ],
            "layout": "IPY_MODEL_9ddcae7da31241f7969870ce1a26d218"
          }
        },
        "ade5801a8b794bf8a3ca7c45fd8b4638": {
          "model_module": "@jupyter-widgets/controls",
          "model_module_version": "1.5.0",
          "model_name": "DescriptionStyleModel",
          "state": {
            "_model_module": "@jupyter-widgets/controls",
            "_model_module_version": "1.5.0",
            "_model_name": "DescriptionStyleModel",
            "_view_count": null,
            "_view_module": "@jupyter-widgets/base",
            "_view_module_version": "1.2.0",
            "_view_name": "StyleView",
            "description_width": ""
          }
        },
        "b21090703c7244cdb979420269db9b65": {
          "model_module": "@jupyter-widgets/controls",
          "model_module_version": "1.5.0",
          "model_name": "ProgressStyleModel",
          "state": {
            "_model_module": "@jupyter-widgets/controls",
            "_model_module_version": "1.5.0",
            "_model_name": "ProgressStyleModel",
            "_view_count": null,
            "_view_module": "@jupyter-widgets/base",
            "_view_module_version": "1.2.0",
            "_view_name": "StyleView",
            "bar_color": null,
            "description_width": ""
          }
        },
        "b672061b61ce4dca819132de1a2a2d68": {
          "model_module": "@jupyter-widgets/controls",
          "model_module_version": "1.5.0",
          "model_name": "DescriptionStyleModel",
          "state": {
            "_model_module": "@jupyter-widgets/controls",
            "_model_module_version": "1.5.0",
            "_model_name": "DescriptionStyleModel",
            "_view_count": null,
            "_view_module": "@jupyter-widgets/base",
            "_view_module_version": "1.2.0",
            "_view_name": "StyleView",
            "description_width": ""
          }
        },
        "b87f62802152463bb232864c6eef69c6": {
          "model_module": "@jupyter-widgets/controls",
          "model_module_version": "1.5.0",
          "model_name": "HBoxModel",
          "state": {
            "_dom_classes": [],
            "_model_module": "@jupyter-widgets/controls",
            "_model_module_version": "1.5.0",
            "_model_name": "HBoxModel",
            "_view_count": null,
            "_view_module": "@jupyter-widgets/controls",
            "_view_module_version": "1.5.0",
            "_view_name": "HBoxView",
            "box_style": "",
            "children": [
              "IPY_MODEL_f76d48815a244864b2b5b43dccaf4737",
              "IPY_MODEL_cd9dd4847b8c43dabda8029c3b414d84",
              "IPY_MODEL_7982c4985a1b4729873caa9846374e5d"
            ],
            "layout": "IPY_MODEL_18f2feded346411488df070fbc070408"
          }
        },
        "b98d719f3e464c55a67e7f3e2e53f85a": {
          "model_module": "@jupyter-widgets/controls",
          "model_module_version": "1.5.0",
          "model_name": "ProgressStyleModel",
          "state": {
            "_model_module": "@jupyter-widgets/controls",
            "_model_module_version": "1.5.0",
            "_model_name": "ProgressStyleModel",
            "_view_count": null,
            "_view_module": "@jupyter-widgets/base",
            "_view_module_version": "1.2.0",
            "_view_name": "StyleView",
            "bar_color": null,
            "description_width": ""
          }
        },
        "c36107e9ed564efab259d5cb9f1887f9": {
          "model_module": "@jupyter-widgets/base",
          "model_module_version": "1.2.0",
          "model_name": "LayoutModel",
          "state": {
            "_model_module": "@jupyter-widgets/base",
            "_model_module_version": "1.2.0",
            "_model_name": "LayoutModel",
            "_view_count": null,
            "_view_module": "@jupyter-widgets/base",
            "_view_module_version": "1.2.0",
            "_view_name": "LayoutView",
            "align_content": null,
            "align_items": null,
            "align_self": null,
            "border": null,
            "bottom": null,
            "display": null,
            "flex": null,
            "flex_flow": null,
            "grid_area": null,
            "grid_auto_columns": null,
            "grid_auto_flow": null,
            "grid_auto_rows": null,
            "grid_column": null,
            "grid_gap": null,
            "grid_row": null,
            "grid_template_areas": null,
            "grid_template_columns": null,
            "grid_template_rows": null,
            "height": null,
            "justify_content": null,
            "justify_items": null,
            "left": null,
            "margin": null,
            "max_height": null,
            "max_width": null,
            "min_height": null,
            "min_width": null,
            "object_fit": null,
            "object_position": null,
            "order": null,
            "overflow": null,
            "overflow_x": null,
            "overflow_y": null,
            "padding": null,
            "right": null,
            "top": null,
            "visibility": null,
            "width": null
          }
        },
        "ccfbfd21306443cbbd6c9ea58f5857d0": {
          "model_module": "@jupyter-widgets/base",
          "model_module_version": "1.2.0",
          "model_name": "LayoutModel",
          "state": {
            "_model_module": "@jupyter-widgets/base",
            "_model_module_version": "1.2.0",
            "_model_name": "LayoutModel",
            "_view_count": null,
            "_view_module": "@jupyter-widgets/base",
            "_view_module_version": "1.2.0",
            "_view_name": "LayoutView",
            "align_content": null,
            "align_items": null,
            "align_self": null,
            "border": null,
            "bottom": null,
            "display": null,
            "flex": null,
            "flex_flow": null,
            "grid_area": null,
            "grid_auto_columns": null,
            "grid_auto_flow": null,
            "grid_auto_rows": null,
            "grid_column": null,
            "grid_gap": null,
            "grid_row": null,
            "grid_template_areas": null,
            "grid_template_columns": null,
            "grid_template_rows": null,
            "height": null,
            "justify_content": null,
            "justify_items": null,
            "left": null,
            "margin": null,
            "max_height": null,
            "max_width": null,
            "min_height": null,
            "min_width": null,
            "object_fit": null,
            "object_position": null,
            "order": null,
            "overflow": null,
            "overflow_x": null,
            "overflow_y": null,
            "padding": null,
            "right": null,
            "top": null,
            "visibility": null,
            "width": null
          }
        },
        "cd9dd4847b8c43dabda8029c3b414d84": {
          "model_module": "@jupyter-widgets/controls",
          "model_module_version": "1.5.0",
          "model_name": "FloatProgressModel",
          "state": {
            "_dom_classes": [],
            "_model_module": "@jupyter-widgets/controls",
            "_model_module_version": "1.5.0",
            "_model_name": "FloatProgressModel",
            "_view_count": null,
            "_view_module": "@jupyter-widgets/controls",
            "_view_module_version": "1.5.0",
            "_view_name": "ProgressView",
            "bar_style": "success",
            "description": "",
            "description_tooltip": null,
            "layout": "IPY_MODEL_7ceca4fb9678403bac437b7d1a81d7d8",
            "max": 9078094,
            "min": 0,
            "orientation": "horizontal",
            "style": "IPY_MODEL_3693bc6a9d9548a496cec448a74276f8",
            "value": 9078094
          }
        },
        "ce8f74272f5749aab1bed28dc94c80b1": {
          "model_module": "@jupyter-widgets/controls",
          "model_module_version": "1.5.0",
          "model_name": "FloatProgressModel",
          "state": {
            "_dom_classes": [],
            "_model_module": "@jupyter-widgets/controls",
            "_model_module_version": "1.5.0",
            "_model_name": "FloatProgressModel",
            "_view_count": null,
            "_view_module": "@jupyter-widgets/controls",
            "_view_module_version": "1.5.0",
            "_view_name": "ProgressView",
            "bar_style": "success",
            "description": "",
            "description_tooltip": null,
            "layout": "IPY_MODEL_d454fa63fbf54c37bd6b163bd6f87d69",
            "max": 1,
            "min": 0,
            "orientation": "horizontal",
            "style": "IPY_MODEL_b21090703c7244cdb979420269db9b65",
            "value": 1
          }
        },
        "cef43270c479463ba3707463e1f754df": {
          "model_module": "@jupyter-widgets/base",
          "model_module_version": "1.2.0",
          "model_name": "LayoutModel",
          "state": {
            "_model_module": "@jupyter-widgets/base",
            "_model_module_version": "1.2.0",
            "_model_name": "LayoutModel",
            "_view_count": null,
            "_view_module": "@jupyter-widgets/base",
            "_view_module_version": "1.2.0",
            "_view_name": "LayoutView",
            "align_content": null,
            "align_items": null,
            "align_self": null,
            "border": null,
            "bottom": null,
            "display": null,
            "flex": null,
            "flex_flow": null,
            "grid_area": null,
            "grid_auto_columns": null,
            "grid_auto_flow": null,
            "grid_auto_rows": null,
            "grid_column": null,
            "grid_gap": null,
            "grid_row": null,
            "grid_template_areas": null,
            "grid_template_columns": null,
            "grid_template_rows": null,
            "height": null,
            "justify_content": null,
            "justify_items": null,
            "left": null,
            "margin": null,
            "max_height": null,
            "max_width": null,
            "min_height": null,
            "min_width": null,
            "object_fit": null,
            "object_position": null,
            "order": null,
            "overflow": null,
            "overflow_x": null,
            "overflow_y": null,
            "padding": null,
            "right": null,
            "top": null,
            "visibility": null,
            "width": null
          }
        },
        "d2e4aa98432b4abdb6325e485544d957": {
          "model_module": "@jupyter-widgets/controls",
          "model_module_version": "1.5.0",
          "model_name": "HBoxModel",
          "state": {
            "_dom_classes": [],
            "_model_module": "@jupyter-widgets/controls",
            "_model_module_version": "1.5.0",
            "_model_name": "HBoxModel",
            "_view_count": null,
            "_view_module": "@jupyter-widgets/controls",
            "_view_module_version": "1.5.0",
            "_view_name": "HBoxView",
            "box_style": "",
            "children": [
              "IPY_MODEL_088538e81e5b491b90af774f9b6ba0e4",
              "IPY_MODEL_ce8f74272f5749aab1bed28dc94c80b1",
              "IPY_MODEL_7744ae5bb7d14682aa6395180f7720ab"
            ],
            "layout": "IPY_MODEL_962967c2fcd2462797820a86c7bb5ea6"
          }
        },
        "d454fa63fbf54c37bd6b163bd6f87d69": {
          "model_module": "@jupyter-widgets/base",
          "model_module_version": "1.2.0",
          "model_name": "LayoutModel",
          "state": {
            "_model_module": "@jupyter-widgets/base",
            "_model_module_version": "1.2.0",
            "_model_name": "LayoutModel",
            "_view_count": null,
            "_view_module": "@jupyter-widgets/base",
            "_view_module_version": "1.2.0",
            "_view_name": "LayoutView",
            "align_content": null,
            "align_items": null,
            "align_self": null,
            "border": null,
            "bottom": null,
            "display": null,
            "flex": null,
            "flex_flow": null,
            "grid_area": null,
            "grid_auto_columns": null,
            "grid_auto_flow": null,
            "grid_auto_rows": null,
            "grid_column": null,
            "grid_gap": null,
            "grid_row": null,
            "grid_template_areas": null,
            "grid_template_columns": null,
            "grid_template_rows": null,
            "height": null,
            "justify_content": null,
            "justify_items": null,
            "left": null,
            "margin": null,
            "max_height": null,
            "max_width": null,
            "min_height": null,
            "min_width": null,
            "object_fit": null,
            "object_position": null,
            "order": null,
            "overflow": null,
            "overflow_x": null,
            "overflow_y": null,
            "padding": null,
            "right": null,
            "top": null,
            "visibility": null,
            "width": "20px"
          }
        },
        "d60a98988603477abf1a0e2640591e51": {
          "model_module": "@jupyter-widgets/base",
          "model_module_version": "1.2.0",
          "model_name": "LayoutModel",
          "state": {
            "_model_module": "@jupyter-widgets/base",
            "_model_module_version": "1.2.0",
            "_model_name": "LayoutModel",
            "_view_count": null,
            "_view_module": "@jupyter-widgets/base",
            "_view_module_version": "1.2.0",
            "_view_name": "LayoutView",
            "align_content": null,
            "align_items": null,
            "align_self": null,
            "border": null,
            "bottom": null,
            "display": null,
            "flex": null,
            "flex_flow": null,
            "grid_area": null,
            "grid_auto_columns": null,
            "grid_auto_flow": null,
            "grid_auto_rows": null,
            "grid_column": null,
            "grid_gap": null,
            "grid_row": null,
            "grid_template_areas": null,
            "grid_template_columns": null,
            "grid_template_rows": null,
            "height": null,
            "justify_content": null,
            "justify_items": null,
            "left": null,
            "margin": null,
            "max_height": null,
            "max_width": null,
            "min_height": null,
            "min_width": null,
            "object_fit": null,
            "object_position": null,
            "order": null,
            "overflow": null,
            "overflow_x": null,
            "overflow_y": null,
            "padding": null,
            "right": null,
            "top": null,
            "visibility": null,
            "width": null
          }
        },
        "d91972427e66472eb97a1d5914b0884d": {
          "model_module": "@jupyter-widgets/base",
          "model_module_version": "1.2.0",
          "model_name": "LayoutModel",
          "state": {
            "_model_module": "@jupyter-widgets/base",
            "_model_module_version": "1.2.0",
            "_model_name": "LayoutModel",
            "_view_count": null,
            "_view_module": "@jupyter-widgets/base",
            "_view_module_version": "1.2.0",
            "_view_name": "LayoutView",
            "align_content": null,
            "align_items": null,
            "align_self": null,
            "border": null,
            "bottom": null,
            "display": null,
            "flex": null,
            "flex_flow": null,
            "grid_area": null,
            "grid_auto_columns": null,
            "grid_auto_flow": null,
            "grid_auto_rows": null,
            "grid_column": null,
            "grid_gap": null,
            "grid_row": null,
            "grid_template_areas": null,
            "grid_template_columns": null,
            "grid_template_rows": null,
            "height": null,
            "justify_content": null,
            "justify_items": null,
            "left": null,
            "margin": null,
            "max_height": null,
            "max_width": null,
            "min_height": null,
            "min_width": null,
            "object_fit": null,
            "object_position": null,
            "order": null,
            "overflow": null,
            "overflow_x": null,
            "overflow_y": null,
            "padding": null,
            "right": null,
            "top": null,
            "visibility": null,
            "width": null
          }
        },
        "e164f6188b8e465bbc66c4eaa59fa5fc": {
          "model_module": "@jupyter-widgets/controls",
          "model_module_version": "1.5.0",
          "model_name": "FloatProgressModel",
          "state": {
            "_dom_classes": [],
            "_model_module": "@jupyter-widgets/controls",
            "_model_module_version": "1.5.0",
            "_model_name": "FloatProgressModel",
            "_view_count": null,
            "_view_module": "@jupyter-widgets/controls",
            "_view_module_version": "1.5.0",
            "_view_name": "ProgressView",
            "bar_style": "success",
            "description": "",
            "description_tooltip": null,
            "layout": "IPY_MODEL_49dc3420f6f549e7958f8614cf682511",
            "max": 5168,
            "min": 0,
            "orientation": "horizontal",
            "style": "IPY_MODEL_4789d6737a1843ec87636b6d64c5a050",
            "value": 5168
          }
        },
        "ef5e836a84c845349ce489fdfbe87031": {
          "model_module": "@jupyter-widgets/controls",
          "model_module_version": "1.5.0",
          "model_name": "DescriptionStyleModel",
          "state": {
            "_model_module": "@jupyter-widgets/controls",
            "_model_module_version": "1.5.0",
            "_model_name": "DescriptionStyleModel",
            "_view_count": null,
            "_view_module": "@jupyter-widgets/base",
            "_view_module_version": "1.2.0",
            "_view_name": "StyleView",
            "description_width": ""
          }
        },
        "f5e09a77fcbe416b88341683983cd9a1": {
          "model_module": "@jupyter-widgets/controls",
          "model_module_version": "1.5.0",
          "model_name": "HTMLModel",
          "state": {
            "_dom_classes": [],
            "_model_module": "@jupyter-widgets/controls",
            "_model_module_version": "1.5.0",
            "_model_name": "HTMLModel",
            "_view_count": null,
            "_view_module": "@jupyter-widgets/controls",
            "_view_module_version": "1.5.0",
            "_view_name": "HTMLView",
            "description": "",
            "description_tooltip": null,
            "layout": "IPY_MODEL_c36107e9ed564efab259d5cb9f1887f9",
            "placeholder": "​",
            "style": "IPY_MODEL_5c3c8bf1877f4f318bdefccb716c4369",
            "value": " 5.17k/5.17k [00:00&lt;00:00, 9.57kB/s]"
          }
        },
        "f76d48815a244864b2b5b43dccaf4737": {
          "model_module": "@jupyter-widgets/controls",
          "model_module_version": "1.5.0",
          "model_name": "HTMLModel",
          "state": {
            "_dom_classes": [],
            "_model_module": "@jupyter-widgets/controls",
            "_model_module_version": "1.5.0",
            "_model_name": "HTMLModel",
            "_view_count": null,
            "_view_module": "@jupyter-widgets/controls",
            "_view_module_version": "1.5.0",
            "_view_name": "HTMLView",
            "description": "",
            "description_tooltip": null,
            "layout": "IPY_MODEL_64073a354ac74e4ead4b5a2103b3cb44",
            "placeholder": "​",
            "style": "IPY_MODEL_2c6c4b2d8d904313ae87be4bce4799eb",
            "value": "Downloading data: 100%"
          }
        },
        "ff63050f962640d4997c298d1d793ff5": {
          "model_module": "@jupyter-widgets/controls",
          "model_module_version": "1.5.0",
          "model_name": "HBoxModel",
          "state": {
            "_dom_classes": [],
            "_model_module": "@jupyter-widgets/controls",
            "_model_module_version": "1.5.0",
            "_model_name": "HBoxModel",
            "_view_count": null,
            "_view_module": "@jupyter-widgets/controls",
            "_view_module_version": "1.5.0",
            "_view_name": "HBoxView",
            "box_style": "",
            "children": [
              "IPY_MODEL_8f99b14bd2a947869e1e94cd8a10df97",
              "IPY_MODEL_3eca195d336747b2983445ccb13b3a99",
              "IPY_MODEL_77a317fac5914b39a032a900283c18df"
            ],
            "layout": "IPY_MODEL_7056e91215094326a8556299c9acdc45"
          }
        },
        "4fbe368552a74533b0fdb638a46bb6a6": {
          "model_module": "@jupyter-widgets/controls",
          "model_name": "HBoxModel",
          "model_module_version": "1.5.0",
          "state": {
            "_dom_classes": [],
            "_model_module": "@jupyter-widgets/controls",
            "_model_module_version": "1.5.0",
            "_model_name": "HBoxModel",
            "_view_count": null,
            "_view_module": "@jupyter-widgets/controls",
            "_view_module_version": "1.5.0",
            "_view_name": "HBoxView",
            "box_style": "",
            "children": [
              "IPY_MODEL_10a60596b06d4e2da4f223199357ad76",
              "IPY_MODEL_03bee9640ac14934ba4426a7e84c21e1",
              "IPY_MODEL_74e04c75c52546f4b93ba029d3584f26"
            ],
            "layout": "IPY_MODEL_b836543fa05c47b5af744cc0e9999f5c"
          }
        },
        "10a60596b06d4e2da4f223199357ad76": {
          "model_module": "@jupyter-widgets/controls",
          "model_name": "HTMLModel",
          "model_module_version": "1.5.0",
          "state": {
            "_dom_classes": [],
            "_model_module": "@jupyter-widgets/controls",
            "_model_module_version": "1.5.0",
            "_model_name": "HTMLModel",
            "_view_count": null,
            "_view_module": "@jupyter-widgets/controls",
            "_view_module_version": "1.5.0",
            "_view_name": "HTMLView",
            "description": "",
            "description_tooltip": null,
            "layout": "IPY_MODEL_a26809c50e2147caa62a4afdf151894d",
            "placeholder": "​",
            "style": "IPY_MODEL_ff0ef90b8ac64eaabb863068b4d82971",
            "value": "hyperparams.yaml: 100%"
          }
        },
        "03bee9640ac14934ba4426a7e84c21e1": {
          "model_module": "@jupyter-widgets/controls",
          "model_name": "FloatProgressModel",
          "model_module_version": "1.5.0",
          "state": {
            "_dom_classes": [],
            "_model_module": "@jupyter-widgets/controls",
            "_model_module_version": "1.5.0",
            "_model_name": "FloatProgressModel",
            "_view_count": null,
            "_view_module": "@jupyter-widgets/controls",
            "_view_module_version": "1.5.0",
            "_view_name": "ProgressView",
            "bar_style": "success",
            "description": "",
            "description_tooltip": null,
            "layout": "IPY_MODEL_7e630ca6898e41e09dc5ed408f8b8244",
            "max": 1507,
            "min": 0,
            "orientation": "horizontal",
            "style": "IPY_MODEL_993b82ff2b7248fb98a4fee15c22e4be",
            "value": 1507
          }
        },
        "74e04c75c52546f4b93ba029d3584f26": {
          "model_module": "@jupyter-widgets/controls",
          "model_name": "HTMLModel",
          "model_module_version": "1.5.0",
          "state": {
            "_dom_classes": [],
            "_model_module": "@jupyter-widgets/controls",
            "_model_module_version": "1.5.0",
            "_model_name": "HTMLModel",
            "_view_count": null,
            "_view_module": "@jupyter-widgets/controls",
            "_view_module_version": "1.5.0",
            "_view_name": "HTMLView",
            "description": "",
            "description_tooltip": null,
            "layout": "IPY_MODEL_2dfde904c46b474dbc4dea78aa65bfde",
            "placeholder": "​",
            "style": "IPY_MODEL_aecd392835744634b693e22c1c6f72f0",
            "value": " 1.51k/1.51k [00:00&lt;00:00, 41.6kB/s]"
          }
        },
        "b836543fa05c47b5af744cc0e9999f5c": {
          "model_module": "@jupyter-widgets/base",
          "model_name": "LayoutModel",
          "model_module_version": "1.2.0",
          "state": {
            "_model_module": "@jupyter-widgets/base",
            "_model_module_version": "1.2.0",
            "_model_name": "LayoutModel",
            "_view_count": null,
            "_view_module": "@jupyter-widgets/base",
            "_view_module_version": "1.2.0",
            "_view_name": "LayoutView",
            "align_content": null,
            "align_items": null,
            "align_self": null,
            "border": null,
            "bottom": null,
            "display": null,
            "flex": null,
            "flex_flow": null,
            "grid_area": null,
            "grid_auto_columns": null,
            "grid_auto_flow": null,
            "grid_auto_rows": null,
            "grid_column": null,
            "grid_gap": null,
            "grid_row": null,
            "grid_template_areas": null,
            "grid_template_columns": null,
            "grid_template_rows": null,
            "height": null,
            "justify_content": null,
            "justify_items": null,
            "left": null,
            "margin": null,
            "max_height": null,
            "max_width": null,
            "min_height": null,
            "min_width": null,
            "object_fit": null,
            "object_position": null,
            "order": null,
            "overflow": null,
            "overflow_x": null,
            "overflow_y": null,
            "padding": null,
            "right": null,
            "top": null,
            "visibility": null,
            "width": null
          }
        },
        "a26809c50e2147caa62a4afdf151894d": {
          "model_module": "@jupyter-widgets/base",
          "model_name": "LayoutModel",
          "model_module_version": "1.2.0",
          "state": {
            "_model_module": "@jupyter-widgets/base",
            "_model_module_version": "1.2.0",
            "_model_name": "LayoutModel",
            "_view_count": null,
            "_view_module": "@jupyter-widgets/base",
            "_view_module_version": "1.2.0",
            "_view_name": "LayoutView",
            "align_content": null,
            "align_items": null,
            "align_self": null,
            "border": null,
            "bottom": null,
            "display": null,
            "flex": null,
            "flex_flow": null,
            "grid_area": null,
            "grid_auto_columns": null,
            "grid_auto_flow": null,
            "grid_auto_rows": null,
            "grid_column": null,
            "grid_gap": null,
            "grid_row": null,
            "grid_template_areas": null,
            "grid_template_columns": null,
            "grid_template_rows": null,
            "height": null,
            "justify_content": null,
            "justify_items": null,
            "left": null,
            "margin": null,
            "max_height": null,
            "max_width": null,
            "min_height": null,
            "min_width": null,
            "object_fit": null,
            "object_position": null,
            "order": null,
            "overflow": null,
            "overflow_x": null,
            "overflow_y": null,
            "padding": null,
            "right": null,
            "top": null,
            "visibility": null,
            "width": null
          }
        },
        "ff0ef90b8ac64eaabb863068b4d82971": {
          "model_module": "@jupyter-widgets/controls",
          "model_name": "DescriptionStyleModel",
          "model_module_version": "1.5.0",
          "state": {
            "_model_module": "@jupyter-widgets/controls",
            "_model_module_version": "1.5.0",
            "_model_name": "DescriptionStyleModel",
            "_view_count": null,
            "_view_module": "@jupyter-widgets/base",
            "_view_module_version": "1.2.0",
            "_view_name": "StyleView",
            "description_width": ""
          }
        },
        "7e630ca6898e41e09dc5ed408f8b8244": {
          "model_module": "@jupyter-widgets/base",
          "model_name": "LayoutModel",
          "model_module_version": "1.2.0",
          "state": {
            "_model_module": "@jupyter-widgets/base",
            "_model_module_version": "1.2.0",
            "_model_name": "LayoutModel",
            "_view_count": null,
            "_view_module": "@jupyter-widgets/base",
            "_view_module_version": "1.2.0",
            "_view_name": "LayoutView",
            "align_content": null,
            "align_items": null,
            "align_self": null,
            "border": null,
            "bottom": null,
            "display": null,
            "flex": null,
            "flex_flow": null,
            "grid_area": null,
            "grid_auto_columns": null,
            "grid_auto_flow": null,
            "grid_auto_rows": null,
            "grid_column": null,
            "grid_gap": null,
            "grid_row": null,
            "grid_template_areas": null,
            "grid_template_columns": null,
            "grid_template_rows": null,
            "height": null,
            "justify_content": null,
            "justify_items": null,
            "left": null,
            "margin": null,
            "max_height": null,
            "max_width": null,
            "min_height": null,
            "min_width": null,
            "object_fit": null,
            "object_position": null,
            "order": null,
            "overflow": null,
            "overflow_x": null,
            "overflow_y": null,
            "padding": null,
            "right": null,
            "top": null,
            "visibility": null,
            "width": null
          }
        },
        "993b82ff2b7248fb98a4fee15c22e4be": {
          "model_module": "@jupyter-widgets/controls",
          "model_name": "ProgressStyleModel",
          "model_module_version": "1.5.0",
          "state": {
            "_model_module": "@jupyter-widgets/controls",
            "_model_module_version": "1.5.0",
            "_model_name": "ProgressStyleModel",
            "_view_count": null,
            "_view_module": "@jupyter-widgets/base",
            "_view_module_version": "1.2.0",
            "_view_name": "StyleView",
            "bar_color": null,
            "description_width": ""
          }
        },
        "2dfde904c46b474dbc4dea78aa65bfde": {
          "model_module": "@jupyter-widgets/base",
          "model_name": "LayoutModel",
          "model_module_version": "1.2.0",
          "state": {
            "_model_module": "@jupyter-widgets/base",
            "_model_module_version": "1.2.0",
            "_model_name": "LayoutModel",
            "_view_count": null,
            "_view_module": "@jupyter-widgets/base",
            "_view_module_version": "1.2.0",
            "_view_name": "LayoutView",
            "align_content": null,
            "align_items": null,
            "align_self": null,
            "border": null,
            "bottom": null,
            "display": null,
            "flex": null,
            "flex_flow": null,
            "grid_area": null,
            "grid_auto_columns": null,
            "grid_auto_flow": null,
            "grid_auto_rows": null,
            "grid_column": null,
            "grid_gap": null,
            "grid_row": null,
            "grid_template_areas": null,
            "grid_template_columns": null,
            "grid_template_rows": null,
            "height": null,
            "justify_content": null,
            "justify_items": null,
            "left": null,
            "margin": null,
            "max_height": null,
            "max_width": null,
            "min_height": null,
            "min_width": null,
            "object_fit": null,
            "object_position": null,
            "order": null,
            "overflow": null,
            "overflow_x": null,
            "overflow_y": null,
            "padding": null,
            "right": null,
            "top": null,
            "visibility": null,
            "width": null
          }
        },
        "aecd392835744634b693e22c1c6f72f0": {
          "model_module": "@jupyter-widgets/controls",
          "model_name": "DescriptionStyleModel",
          "model_module_version": "1.5.0",
          "state": {
            "_model_module": "@jupyter-widgets/controls",
            "_model_module_version": "1.5.0",
            "_model_name": "DescriptionStyleModel",
            "_view_count": null,
            "_view_module": "@jupyter-widgets/base",
            "_view_module_version": "1.2.0",
            "_view_name": "StyleView",
            "description_width": ""
          }
        },
        "ce364177007d451997d46ee4dcb49c71": {
          "model_module": "@jupyter-widgets/controls",
          "model_name": "HBoxModel",
          "model_module_version": "1.5.0",
          "state": {
            "_dom_classes": [],
            "_model_module": "@jupyter-widgets/controls",
            "_model_module_version": "1.5.0",
            "_model_name": "HBoxModel",
            "_view_count": null,
            "_view_module": "@jupyter-widgets/controls",
            "_view_module_version": "1.5.0",
            "_view_name": "HBoxView",
            "box_style": "",
            "children": [
              "IPY_MODEL_cc48c8562c924cea9e08a077de3b9c02",
              "IPY_MODEL_cff23d37671c4a8bb663056480546ccd",
              "IPY_MODEL_44ac7d0d582344f3903cac000214cd75"
            ],
            "layout": "IPY_MODEL_9c551392aadd45e3b32856266ffac563"
          }
        },
        "cc48c8562c924cea9e08a077de3b9c02": {
          "model_module": "@jupyter-widgets/controls",
          "model_name": "HTMLModel",
          "model_module_version": "1.5.0",
          "state": {
            "_dom_classes": [],
            "_model_module": "@jupyter-widgets/controls",
            "_model_module_version": "1.5.0",
            "_model_name": "HTMLModel",
            "_view_count": null,
            "_view_module": "@jupyter-widgets/controls",
            "_view_module_version": "1.5.0",
            "_view_name": "HTMLView",
            "description": "",
            "description_tooltip": null,
            "layout": "IPY_MODEL_fe8855e3ce1d427ba06625b3f656c3ce",
            "placeholder": "​",
            "style": "IPY_MODEL_c654ae4dc6b1487da6f27191fbc87132",
            "value": "masknet.ckpt: 100%"
          }
        },
        "cff23d37671c4a8bb663056480546ccd": {
          "model_module": "@jupyter-widgets/controls",
          "model_name": "FloatProgressModel",
          "model_module_version": "1.5.0",
          "state": {
            "_dom_classes": [],
            "_model_module": "@jupyter-widgets/controls",
            "_model_module_version": "1.5.0",
            "_model_name": "FloatProgressModel",
            "_view_count": null,
            "_view_module": "@jupyter-widgets/controls",
            "_view_module_version": "1.5.0",
            "_view_name": "ProgressView",
            "bar_style": "success",
            "description": "",
            "description_tooltip": null,
            "layout": "IPY_MODEL_5f95c67842d04e1eb382f162f554dc16",
            "max": 113112646,
            "min": 0,
            "orientation": "horizontal",
            "style": "IPY_MODEL_388332a89d29428d8524c4362f6d7fc5",
            "value": 113112646
          }
        },
        "44ac7d0d582344f3903cac000214cd75": {
          "model_module": "@jupyter-widgets/controls",
          "model_name": "HTMLModel",
          "model_module_version": "1.5.0",
          "state": {
            "_dom_classes": [],
            "_model_module": "@jupyter-widgets/controls",
            "_model_module_version": "1.5.0",
            "_model_name": "HTMLModel",
            "_view_count": null,
            "_view_module": "@jupyter-widgets/controls",
            "_view_module_version": "1.5.0",
            "_view_name": "HTMLView",
            "description": "",
            "description_tooltip": null,
            "layout": "IPY_MODEL_a90bcc3ddbdf44089e2408a9bbbec8df",
            "placeholder": "​",
            "style": "IPY_MODEL_93097d864566467196a3d28f8c800803",
            "value": " 113M/113M [00:01&lt;00:00, 122MB/s]"
          }
        },
        "9c551392aadd45e3b32856266ffac563": {
          "model_module": "@jupyter-widgets/base",
          "model_name": "LayoutModel",
          "model_module_version": "1.2.0",
          "state": {
            "_model_module": "@jupyter-widgets/base",
            "_model_module_version": "1.2.0",
            "_model_name": "LayoutModel",
            "_view_count": null,
            "_view_module": "@jupyter-widgets/base",
            "_view_module_version": "1.2.0",
            "_view_name": "LayoutView",
            "align_content": null,
            "align_items": null,
            "align_self": null,
            "border": null,
            "bottom": null,
            "display": null,
            "flex": null,
            "flex_flow": null,
            "grid_area": null,
            "grid_auto_columns": null,
            "grid_auto_flow": null,
            "grid_auto_rows": null,
            "grid_column": null,
            "grid_gap": null,
            "grid_row": null,
            "grid_template_areas": null,
            "grid_template_columns": null,
            "grid_template_rows": null,
            "height": null,
            "justify_content": null,
            "justify_items": null,
            "left": null,
            "margin": null,
            "max_height": null,
            "max_width": null,
            "min_height": null,
            "min_width": null,
            "object_fit": null,
            "object_position": null,
            "order": null,
            "overflow": null,
            "overflow_x": null,
            "overflow_y": null,
            "padding": null,
            "right": null,
            "top": null,
            "visibility": null,
            "width": null
          }
        },
        "fe8855e3ce1d427ba06625b3f656c3ce": {
          "model_module": "@jupyter-widgets/base",
          "model_name": "LayoutModel",
          "model_module_version": "1.2.0",
          "state": {
            "_model_module": "@jupyter-widgets/base",
            "_model_module_version": "1.2.0",
            "_model_name": "LayoutModel",
            "_view_count": null,
            "_view_module": "@jupyter-widgets/base",
            "_view_module_version": "1.2.0",
            "_view_name": "LayoutView",
            "align_content": null,
            "align_items": null,
            "align_self": null,
            "border": null,
            "bottom": null,
            "display": null,
            "flex": null,
            "flex_flow": null,
            "grid_area": null,
            "grid_auto_columns": null,
            "grid_auto_flow": null,
            "grid_auto_rows": null,
            "grid_column": null,
            "grid_gap": null,
            "grid_row": null,
            "grid_template_areas": null,
            "grid_template_columns": null,
            "grid_template_rows": null,
            "height": null,
            "justify_content": null,
            "justify_items": null,
            "left": null,
            "margin": null,
            "max_height": null,
            "max_width": null,
            "min_height": null,
            "min_width": null,
            "object_fit": null,
            "object_position": null,
            "order": null,
            "overflow": null,
            "overflow_x": null,
            "overflow_y": null,
            "padding": null,
            "right": null,
            "top": null,
            "visibility": null,
            "width": null
          }
        },
        "c654ae4dc6b1487da6f27191fbc87132": {
          "model_module": "@jupyter-widgets/controls",
          "model_name": "DescriptionStyleModel",
          "model_module_version": "1.5.0",
          "state": {
            "_model_module": "@jupyter-widgets/controls",
            "_model_module_version": "1.5.0",
            "_model_name": "DescriptionStyleModel",
            "_view_count": null,
            "_view_module": "@jupyter-widgets/base",
            "_view_module_version": "1.2.0",
            "_view_name": "StyleView",
            "description_width": ""
          }
        },
        "5f95c67842d04e1eb382f162f554dc16": {
          "model_module": "@jupyter-widgets/base",
          "model_name": "LayoutModel",
          "model_module_version": "1.2.0",
          "state": {
            "_model_module": "@jupyter-widgets/base",
            "_model_module_version": "1.2.0",
            "_model_name": "LayoutModel",
            "_view_count": null,
            "_view_module": "@jupyter-widgets/base",
            "_view_module_version": "1.2.0",
            "_view_name": "LayoutView",
            "align_content": null,
            "align_items": null,
            "align_self": null,
            "border": null,
            "bottom": null,
            "display": null,
            "flex": null,
            "flex_flow": null,
            "grid_area": null,
            "grid_auto_columns": null,
            "grid_auto_flow": null,
            "grid_auto_rows": null,
            "grid_column": null,
            "grid_gap": null,
            "grid_row": null,
            "grid_template_areas": null,
            "grid_template_columns": null,
            "grid_template_rows": null,
            "height": null,
            "justify_content": null,
            "justify_items": null,
            "left": null,
            "margin": null,
            "max_height": null,
            "max_width": null,
            "min_height": null,
            "min_width": null,
            "object_fit": null,
            "object_position": null,
            "order": null,
            "overflow": null,
            "overflow_x": null,
            "overflow_y": null,
            "padding": null,
            "right": null,
            "top": null,
            "visibility": null,
            "width": null
          }
        },
        "388332a89d29428d8524c4362f6d7fc5": {
          "model_module": "@jupyter-widgets/controls",
          "model_name": "ProgressStyleModel",
          "model_module_version": "1.5.0",
          "state": {
            "_model_module": "@jupyter-widgets/controls",
            "_model_module_version": "1.5.0",
            "_model_name": "ProgressStyleModel",
            "_view_count": null,
            "_view_module": "@jupyter-widgets/base",
            "_view_module_version": "1.2.0",
            "_view_name": "StyleView",
            "bar_color": null,
            "description_width": ""
          }
        },
        "a90bcc3ddbdf44089e2408a9bbbec8df": {
          "model_module": "@jupyter-widgets/base",
          "model_name": "LayoutModel",
          "model_module_version": "1.2.0",
          "state": {
            "_model_module": "@jupyter-widgets/base",
            "_model_module_version": "1.2.0",
            "_model_name": "LayoutModel",
            "_view_count": null,
            "_view_module": "@jupyter-widgets/base",
            "_view_module_version": "1.2.0",
            "_view_name": "LayoutView",
            "align_content": null,
            "align_items": null,
            "align_self": null,
            "border": null,
            "bottom": null,
            "display": null,
            "flex": null,
            "flex_flow": null,
            "grid_area": null,
            "grid_auto_columns": null,
            "grid_auto_flow": null,
            "grid_auto_rows": null,
            "grid_column": null,
            "grid_gap": null,
            "grid_row": null,
            "grid_template_areas": null,
            "grid_template_columns": null,
            "grid_template_rows": null,
            "height": null,
            "justify_content": null,
            "justify_items": null,
            "left": null,
            "margin": null,
            "max_height": null,
            "max_width": null,
            "min_height": null,
            "min_width": null,
            "object_fit": null,
            "object_position": null,
            "order": null,
            "overflow": null,
            "overflow_x": null,
            "overflow_y": null,
            "padding": null,
            "right": null,
            "top": null,
            "visibility": null,
            "width": null
          }
        },
        "93097d864566467196a3d28f8c800803": {
          "model_module": "@jupyter-widgets/controls",
          "model_name": "DescriptionStyleModel",
          "model_module_version": "1.5.0",
          "state": {
            "_model_module": "@jupyter-widgets/controls",
            "_model_module_version": "1.5.0",
            "_model_name": "DescriptionStyleModel",
            "_view_count": null,
            "_view_module": "@jupyter-widgets/base",
            "_view_module_version": "1.2.0",
            "_view_name": "StyleView",
            "description_width": ""
          }
        },
        "39801e4d160f491a9f0506b3fc890c9c": {
          "model_module": "@jupyter-widgets/controls",
          "model_name": "HBoxModel",
          "model_module_version": "1.5.0",
          "state": {
            "_dom_classes": [],
            "_model_module": "@jupyter-widgets/controls",
            "_model_module_version": "1.5.0",
            "_model_name": "HBoxModel",
            "_view_count": null,
            "_view_module": "@jupyter-widgets/controls",
            "_view_module_version": "1.5.0",
            "_view_name": "HBoxView",
            "box_style": "",
            "children": [
              "IPY_MODEL_c2c6ab4bbbb5423dbce376070507c053",
              "IPY_MODEL_96218714dd504a4fb9b255ef69563138",
              "IPY_MODEL_ba41673144cb4d43b4675cadb660a972"
            ],
            "layout": "IPY_MODEL_b62f488d5f244b409cc53d9252636a0d"
          }
        },
        "c2c6ab4bbbb5423dbce376070507c053": {
          "model_module": "@jupyter-widgets/controls",
          "model_name": "HTMLModel",
          "model_module_version": "1.5.0",
          "state": {
            "_dom_classes": [],
            "_model_module": "@jupyter-widgets/controls",
            "_model_module_version": "1.5.0",
            "_model_name": "HTMLModel",
            "_view_count": null,
            "_view_module": "@jupyter-widgets/controls",
            "_view_module_version": "1.5.0",
            "_view_name": "HTMLView",
            "description": "",
            "description_tooltip": null,
            "layout": "IPY_MODEL_b6da77ab46954d6c8cadbeafa1388a75",
            "placeholder": "​",
            "style": "IPY_MODEL_4ecf80083af1476e8ccda246d13a3642",
            "value": "encoder.ckpt: 100%"
          }
        },
        "96218714dd504a4fb9b255ef69563138": {
          "model_module": "@jupyter-widgets/controls",
          "model_name": "FloatProgressModel",
          "model_module_version": "1.5.0",
          "state": {
            "_dom_classes": [],
            "_model_module": "@jupyter-widgets/controls",
            "_model_module_version": "1.5.0",
            "_model_name": "FloatProgressModel",
            "_view_count": null,
            "_view_module": "@jupyter-widgets/controls",
            "_view_module_version": "1.5.0",
            "_view_name": "ProgressView",
            "bar_style": "success",
            "description": "",
            "description_tooltip": null,
            "layout": "IPY_MODEL_aa407d9f71c4466e8990e596b197ebdb",
            "max": 17272,
            "min": 0,
            "orientation": "horizontal",
            "style": "IPY_MODEL_455278e7230844d890f094e373a33f60",
            "value": 17272
          }
        },
        "ba41673144cb4d43b4675cadb660a972": {
          "model_module": "@jupyter-widgets/controls",
          "model_name": "HTMLModel",
          "model_module_version": "1.5.0",
          "state": {
            "_dom_classes": [],
            "_model_module": "@jupyter-widgets/controls",
            "_model_module_version": "1.5.0",
            "_model_name": "HTMLModel",
            "_view_count": null,
            "_view_module": "@jupyter-widgets/controls",
            "_view_module_version": "1.5.0",
            "_view_name": "HTMLView",
            "description": "",
            "description_tooltip": null,
            "layout": "IPY_MODEL_89fd43f970d348e884ad81a6982510e5",
            "placeholder": "​",
            "style": "IPY_MODEL_3df4594bbe1e4e61854a233d5d234598",
            "value": " 17.3k/17.3k [00:00&lt;00:00, 608kB/s]"
          }
        },
        "b62f488d5f244b409cc53d9252636a0d": {
          "model_module": "@jupyter-widgets/base",
          "model_name": "LayoutModel",
          "model_module_version": "1.2.0",
          "state": {
            "_model_module": "@jupyter-widgets/base",
            "_model_module_version": "1.2.0",
            "_model_name": "LayoutModel",
            "_view_count": null,
            "_view_module": "@jupyter-widgets/base",
            "_view_module_version": "1.2.0",
            "_view_name": "LayoutView",
            "align_content": null,
            "align_items": null,
            "align_self": null,
            "border": null,
            "bottom": null,
            "display": null,
            "flex": null,
            "flex_flow": null,
            "grid_area": null,
            "grid_auto_columns": null,
            "grid_auto_flow": null,
            "grid_auto_rows": null,
            "grid_column": null,
            "grid_gap": null,
            "grid_row": null,
            "grid_template_areas": null,
            "grid_template_columns": null,
            "grid_template_rows": null,
            "height": null,
            "justify_content": null,
            "justify_items": null,
            "left": null,
            "margin": null,
            "max_height": null,
            "max_width": null,
            "min_height": null,
            "min_width": null,
            "object_fit": null,
            "object_position": null,
            "order": null,
            "overflow": null,
            "overflow_x": null,
            "overflow_y": null,
            "padding": null,
            "right": null,
            "top": null,
            "visibility": null,
            "width": null
          }
        },
        "b6da77ab46954d6c8cadbeafa1388a75": {
          "model_module": "@jupyter-widgets/base",
          "model_name": "LayoutModel",
          "model_module_version": "1.2.0",
          "state": {
            "_model_module": "@jupyter-widgets/base",
            "_model_module_version": "1.2.0",
            "_model_name": "LayoutModel",
            "_view_count": null,
            "_view_module": "@jupyter-widgets/base",
            "_view_module_version": "1.2.0",
            "_view_name": "LayoutView",
            "align_content": null,
            "align_items": null,
            "align_self": null,
            "border": null,
            "bottom": null,
            "display": null,
            "flex": null,
            "flex_flow": null,
            "grid_area": null,
            "grid_auto_columns": null,
            "grid_auto_flow": null,
            "grid_auto_rows": null,
            "grid_column": null,
            "grid_gap": null,
            "grid_row": null,
            "grid_template_areas": null,
            "grid_template_columns": null,
            "grid_template_rows": null,
            "height": null,
            "justify_content": null,
            "justify_items": null,
            "left": null,
            "margin": null,
            "max_height": null,
            "max_width": null,
            "min_height": null,
            "min_width": null,
            "object_fit": null,
            "object_position": null,
            "order": null,
            "overflow": null,
            "overflow_x": null,
            "overflow_y": null,
            "padding": null,
            "right": null,
            "top": null,
            "visibility": null,
            "width": null
          }
        },
        "4ecf80083af1476e8ccda246d13a3642": {
          "model_module": "@jupyter-widgets/controls",
          "model_name": "DescriptionStyleModel",
          "model_module_version": "1.5.0",
          "state": {
            "_model_module": "@jupyter-widgets/controls",
            "_model_module_version": "1.5.0",
            "_model_name": "DescriptionStyleModel",
            "_view_count": null,
            "_view_module": "@jupyter-widgets/base",
            "_view_module_version": "1.2.0",
            "_view_name": "StyleView",
            "description_width": ""
          }
        },
        "aa407d9f71c4466e8990e596b197ebdb": {
          "model_module": "@jupyter-widgets/base",
          "model_name": "LayoutModel",
          "model_module_version": "1.2.0",
          "state": {
            "_model_module": "@jupyter-widgets/base",
            "_model_module_version": "1.2.0",
            "_model_name": "LayoutModel",
            "_view_count": null,
            "_view_module": "@jupyter-widgets/base",
            "_view_module_version": "1.2.0",
            "_view_name": "LayoutView",
            "align_content": null,
            "align_items": null,
            "align_self": null,
            "border": null,
            "bottom": null,
            "display": null,
            "flex": null,
            "flex_flow": null,
            "grid_area": null,
            "grid_auto_columns": null,
            "grid_auto_flow": null,
            "grid_auto_rows": null,
            "grid_column": null,
            "grid_gap": null,
            "grid_row": null,
            "grid_template_areas": null,
            "grid_template_columns": null,
            "grid_template_rows": null,
            "height": null,
            "justify_content": null,
            "justify_items": null,
            "left": null,
            "margin": null,
            "max_height": null,
            "max_width": null,
            "min_height": null,
            "min_width": null,
            "object_fit": null,
            "object_position": null,
            "order": null,
            "overflow": null,
            "overflow_x": null,
            "overflow_y": null,
            "padding": null,
            "right": null,
            "top": null,
            "visibility": null,
            "width": null
          }
        },
        "455278e7230844d890f094e373a33f60": {
          "model_module": "@jupyter-widgets/controls",
          "model_name": "ProgressStyleModel",
          "model_module_version": "1.5.0",
          "state": {
            "_model_module": "@jupyter-widgets/controls",
            "_model_module_version": "1.5.0",
            "_model_name": "ProgressStyleModel",
            "_view_count": null,
            "_view_module": "@jupyter-widgets/base",
            "_view_module_version": "1.2.0",
            "_view_name": "StyleView",
            "bar_color": null,
            "description_width": ""
          }
        },
        "89fd43f970d348e884ad81a6982510e5": {
          "model_module": "@jupyter-widgets/base",
          "model_name": "LayoutModel",
          "model_module_version": "1.2.0",
          "state": {
            "_model_module": "@jupyter-widgets/base",
            "_model_module_version": "1.2.0",
            "_model_name": "LayoutModel",
            "_view_count": null,
            "_view_module": "@jupyter-widgets/base",
            "_view_module_version": "1.2.0",
            "_view_name": "LayoutView",
            "align_content": null,
            "align_items": null,
            "align_self": null,
            "border": null,
            "bottom": null,
            "display": null,
            "flex": null,
            "flex_flow": null,
            "grid_area": null,
            "grid_auto_columns": null,
            "grid_auto_flow": null,
            "grid_auto_rows": null,
            "grid_column": null,
            "grid_gap": null,
            "grid_row": null,
            "grid_template_areas": null,
            "grid_template_columns": null,
            "grid_template_rows": null,
            "height": null,
            "justify_content": null,
            "justify_items": null,
            "left": null,
            "margin": null,
            "max_height": null,
            "max_width": null,
            "min_height": null,
            "min_width": null,
            "object_fit": null,
            "object_position": null,
            "order": null,
            "overflow": null,
            "overflow_x": null,
            "overflow_y": null,
            "padding": null,
            "right": null,
            "top": null,
            "visibility": null,
            "width": null
          }
        },
        "3df4594bbe1e4e61854a233d5d234598": {
          "model_module": "@jupyter-widgets/controls",
          "model_name": "DescriptionStyleModel",
          "model_module_version": "1.5.0",
          "state": {
            "_model_module": "@jupyter-widgets/controls",
            "_model_module_version": "1.5.0",
            "_model_name": "DescriptionStyleModel",
            "_view_count": null,
            "_view_module": "@jupyter-widgets/base",
            "_view_module_version": "1.2.0",
            "_view_name": "StyleView",
            "description_width": ""
          }
        },
        "2129e141cccc48119f3e2d00c7deb378": {
          "model_module": "@jupyter-widgets/controls",
          "model_name": "HBoxModel",
          "model_module_version": "1.5.0",
          "state": {
            "_dom_classes": [],
            "_model_module": "@jupyter-widgets/controls",
            "_model_module_version": "1.5.0",
            "_model_name": "HBoxModel",
            "_view_count": null,
            "_view_module": "@jupyter-widgets/controls",
            "_view_module_version": "1.5.0",
            "_view_name": "HBoxView",
            "box_style": "",
            "children": [
              "IPY_MODEL_4538e5e7836a4d168201e837e4b708fb",
              "IPY_MODEL_8822cca2e1a94943b67caae0f2510a10",
              "IPY_MODEL_4c32e970a8a6457fb1387ea09b6a41fb"
            ],
            "layout": "IPY_MODEL_071228e8354c458c9338a3d8f1882cdb"
          }
        },
        "4538e5e7836a4d168201e837e4b708fb": {
          "model_module": "@jupyter-widgets/controls",
          "model_name": "HTMLModel",
          "model_module_version": "1.5.0",
          "state": {
            "_dom_classes": [],
            "_model_module": "@jupyter-widgets/controls",
            "_model_module_version": "1.5.0",
            "_model_name": "HTMLModel",
            "_view_count": null,
            "_view_module": "@jupyter-widgets/controls",
            "_view_module_version": "1.5.0",
            "_view_name": "HTMLView",
            "description": "",
            "description_tooltip": null,
            "layout": "IPY_MODEL_7eff27b5793e448a8e7ade8f5261f513",
            "placeholder": "​",
            "style": "IPY_MODEL_31df84e48ce84b308ade1984417cb2a8",
            "value": "decoder.ckpt: 100%"
          }
        },
        "8822cca2e1a94943b67caae0f2510a10": {
          "model_module": "@jupyter-widgets/controls",
          "model_name": "FloatProgressModel",
          "model_module_version": "1.5.0",
          "state": {
            "_dom_classes": [],
            "_model_module": "@jupyter-widgets/controls",
            "_model_module_version": "1.5.0",
            "_model_name": "FloatProgressModel",
            "_view_count": null,
            "_view_module": "@jupyter-widgets/controls",
            "_view_module_version": "1.5.0",
            "_view_name": "ProgressView",
            "bar_style": "success",
            "description": "",
            "description_tooltip": null,
            "layout": "IPY_MODEL_f6e12c6c231b4302ad265222fa6b1ac7",
            "max": 17272,
            "min": 0,
            "orientation": "horizontal",
            "style": "IPY_MODEL_f1e2e58659f44843af8de501a8c6fdcc",
            "value": 17272
          }
        },
        "4c32e970a8a6457fb1387ea09b6a41fb": {
          "model_module": "@jupyter-widgets/controls",
          "model_name": "HTMLModel",
          "model_module_version": "1.5.0",
          "state": {
            "_dom_classes": [],
            "_model_module": "@jupyter-widgets/controls",
            "_model_module_version": "1.5.0",
            "_model_name": "HTMLModel",
            "_view_count": null,
            "_view_module": "@jupyter-widgets/controls",
            "_view_module_version": "1.5.0",
            "_view_name": "HTMLView",
            "description": "",
            "description_tooltip": null,
            "layout": "IPY_MODEL_af958b0942184a6589c929f6281a8281",
            "placeholder": "​",
            "style": "IPY_MODEL_bc3b01dd20dc4101a014bd0d9c7bb276",
            "value": " 17.3k/17.3k [00:00&lt;00:00, 400kB/s]"
          }
        },
        "071228e8354c458c9338a3d8f1882cdb": {
          "model_module": "@jupyter-widgets/base",
          "model_name": "LayoutModel",
          "model_module_version": "1.2.0",
          "state": {
            "_model_module": "@jupyter-widgets/base",
            "_model_module_version": "1.2.0",
            "_model_name": "LayoutModel",
            "_view_count": null,
            "_view_module": "@jupyter-widgets/base",
            "_view_module_version": "1.2.0",
            "_view_name": "LayoutView",
            "align_content": null,
            "align_items": null,
            "align_self": null,
            "border": null,
            "bottom": null,
            "display": null,
            "flex": null,
            "flex_flow": null,
            "grid_area": null,
            "grid_auto_columns": null,
            "grid_auto_flow": null,
            "grid_auto_rows": null,
            "grid_column": null,
            "grid_gap": null,
            "grid_row": null,
            "grid_template_areas": null,
            "grid_template_columns": null,
            "grid_template_rows": null,
            "height": null,
            "justify_content": null,
            "justify_items": null,
            "left": null,
            "margin": null,
            "max_height": null,
            "max_width": null,
            "min_height": null,
            "min_width": null,
            "object_fit": null,
            "object_position": null,
            "order": null,
            "overflow": null,
            "overflow_x": null,
            "overflow_y": null,
            "padding": null,
            "right": null,
            "top": null,
            "visibility": null,
            "width": null
          }
        },
        "7eff27b5793e448a8e7ade8f5261f513": {
          "model_module": "@jupyter-widgets/base",
          "model_name": "LayoutModel",
          "model_module_version": "1.2.0",
          "state": {
            "_model_module": "@jupyter-widgets/base",
            "_model_module_version": "1.2.0",
            "_model_name": "LayoutModel",
            "_view_count": null,
            "_view_module": "@jupyter-widgets/base",
            "_view_module_version": "1.2.0",
            "_view_name": "LayoutView",
            "align_content": null,
            "align_items": null,
            "align_self": null,
            "border": null,
            "bottom": null,
            "display": null,
            "flex": null,
            "flex_flow": null,
            "grid_area": null,
            "grid_auto_columns": null,
            "grid_auto_flow": null,
            "grid_auto_rows": null,
            "grid_column": null,
            "grid_gap": null,
            "grid_row": null,
            "grid_template_areas": null,
            "grid_template_columns": null,
            "grid_template_rows": null,
            "height": null,
            "justify_content": null,
            "justify_items": null,
            "left": null,
            "margin": null,
            "max_height": null,
            "max_width": null,
            "min_height": null,
            "min_width": null,
            "object_fit": null,
            "object_position": null,
            "order": null,
            "overflow": null,
            "overflow_x": null,
            "overflow_y": null,
            "padding": null,
            "right": null,
            "top": null,
            "visibility": null,
            "width": null
          }
        },
        "31df84e48ce84b308ade1984417cb2a8": {
          "model_module": "@jupyter-widgets/controls",
          "model_name": "DescriptionStyleModel",
          "model_module_version": "1.5.0",
          "state": {
            "_model_module": "@jupyter-widgets/controls",
            "_model_module_version": "1.5.0",
            "_model_name": "DescriptionStyleModel",
            "_view_count": null,
            "_view_module": "@jupyter-widgets/base",
            "_view_module_version": "1.2.0",
            "_view_name": "StyleView",
            "description_width": ""
          }
        },
        "f6e12c6c231b4302ad265222fa6b1ac7": {
          "model_module": "@jupyter-widgets/base",
          "model_name": "LayoutModel",
          "model_module_version": "1.2.0",
          "state": {
            "_model_module": "@jupyter-widgets/base",
            "_model_module_version": "1.2.0",
            "_model_name": "LayoutModel",
            "_view_count": null,
            "_view_module": "@jupyter-widgets/base",
            "_view_module_version": "1.2.0",
            "_view_name": "LayoutView",
            "align_content": null,
            "align_items": null,
            "align_self": null,
            "border": null,
            "bottom": null,
            "display": null,
            "flex": null,
            "flex_flow": null,
            "grid_area": null,
            "grid_auto_columns": null,
            "grid_auto_flow": null,
            "grid_auto_rows": null,
            "grid_column": null,
            "grid_gap": null,
            "grid_row": null,
            "grid_template_areas": null,
            "grid_template_columns": null,
            "grid_template_rows": null,
            "height": null,
            "justify_content": null,
            "justify_items": null,
            "left": null,
            "margin": null,
            "max_height": null,
            "max_width": null,
            "min_height": null,
            "min_width": null,
            "object_fit": null,
            "object_position": null,
            "order": null,
            "overflow": null,
            "overflow_x": null,
            "overflow_y": null,
            "padding": null,
            "right": null,
            "top": null,
            "visibility": null,
            "width": null
          }
        },
        "f1e2e58659f44843af8de501a8c6fdcc": {
          "model_module": "@jupyter-widgets/controls",
          "model_name": "ProgressStyleModel",
          "model_module_version": "1.5.0",
          "state": {
            "_model_module": "@jupyter-widgets/controls",
            "_model_module_version": "1.5.0",
            "_model_name": "ProgressStyleModel",
            "_view_count": null,
            "_view_module": "@jupyter-widgets/base",
            "_view_module_version": "1.2.0",
            "_view_name": "StyleView",
            "bar_color": null,
            "description_width": ""
          }
        },
        "af958b0942184a6589c929f6281a8281": {
          "model_module": "@jupyter-widgets/base",
          "model_name": "LayoutModel",
          "model_module_version": "1.2.0",
          "state": {
            "_model_module": "@jupyter-widgets/base",
            "_model_module_version": "1.2.0",
            "_model_name": "LayoutModel",
            "_view_count": null,
            "_view_module": "@jupyter-widgets/base",
            "_view_module_version": "1.2.0",
            "_view_name": "LayoutView",
            "align_content": null,
            "align_items": null,
            "align_self": null,
            "border": null,
            "bottom": null,
            "display": null,
            "flex": null,
            "flex_flow": null,
            "grid_area": null,
            "grid_auto_columns": null,
            "grid_auto_flow": null,
            "grid_auto_rows": null,
            "grid_column": null,
            "grid_gap": null,
            "grid_row": null,
            "grid_template_areas": null,
            "grid_template_columns": null,
            "grid_template_rows": null,
            "height": null,
            "justify_content": null,
            "justify_items": null,
            "left": null,
            "margin": null,
            "max_height": null,
            "max_width": null,
            "min_height": null,
            "min_width": null,
            "object_fit": null,
            "object_position": null,
            "order": null,
            "overflow": null,
            "overflow_x": null,
            "overflow_y": null,
            "padding": null,
            "right": null,
            "top": null,
            "visibility": null,
            "width": null
          }
        },
        "bc3b01dd20dc4101a014bd0d9c7bb276": {
          "model_module": "@jupyter-widgets/controls",
          "model_name": "DescriptionStyleModel",
          "model_module_version": "1.5.0",
          "state": {
            "_model_module": "@jupyter-widgets/controls",
            "_model_module_version": "1.5.0",
            "_model_name": "DescriptionStyleModel",
            "_view_count": null,
            "_view_module": "@jupyter-widgets/base",
            "_view_module_version": "1.2.0",
            "_view_name": "StyleView",
            "description_width": ""
          }
        }
      }
    }
  },
  "nbformat": 4,
  "nbformat_minor": 0
}